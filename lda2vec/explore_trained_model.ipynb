{
 "cells": [
  {
   "cell_type": "code",
   "execution_count": 0,
   "metadata": {
    "colab": {},
    "colab_type": "code",
    "id": "xXy2tHSH9peM"
   },
   "outputs": [],
   "source": [
    "import numpy as np\n",
    "import torch\n",
    "import pandas as pd\n",
    "import matplotlib.pyplot as plt\n",
    "%matplotlib inline"
   ]
  },
  {
   "cell_type": "code",
   "execution_count": 0,
   "metadata": {
    "colab": {},
    "colab_type": "code",
    "id": "JLlNzH--90qa"
   },
   "outputs": [],
   "source": [
    "def softmax(x):\n",
    "    # x has shape [batch_size, n_classes]\n",
    "    e = np.exp(x)\n",
    "    n = np.sum(e, 1, keepdims=True)\n",
    "    return e/n"
   ]
  },
  {
   "cell_type": "markdown",
   "metadata": {
    "colab_type": "text",
    "id": "GWpZhaPZ-CS8"
   },
   "source": [
    "# Load data"
   ]
  },
  {
   "cell_type": "code",
   "execution_count": 0,
   "metadata": {
    "colab": {},
    "colab_type": "code",
    "id": "0td-H7aJ-Jnc"
   },
   "outputs": [],
   "source": [
    "# \"integer -> word\" decoder \n",
    "decoder = np.load('decoder.npy',allow_pickle=True)[()]\n",
    "\n",
    "# for restoring document ids, \"id used while training -> initial id\"\n",
    "doc_decoder = np.load('doc_decoder.npy',allow_pickle=True)[()]"
   ]
  },
  {
   "cell_type": "code",
   "execution_count": 0,
   "metadata": {
    "colab": {},
    "colab_type": "code",
    "id": "4jAVBJNc-Myu"
   },
   "outputs": [],
   "source": [
    "# original document categories\n",
    "\n",
    "targets=torch.zeros([data.shape[0]])\n",
    "for i in range(len(BF_fake)):\n",
    "  targets[i]=1\n",
    "target_names = ['0','1']\n",
    "\n",
    "targets = np.array([targets[doc_decoder[i]] for i in range(len(doc_decoder))])"
   ]
  },
  {
   "cell_type": "markdown",
   "metadata": {
    "colab_type": "text",
    "id": "iMeMod-Z-S-C"
   },
   "source": [
    "# Load the trained model\n"
   ]
  },
  {
   "cell_type": "code",
   "execution_count": 1,
   "metadata": {
    "colab": {
     "base_uri": "https://localhost:8080/",
     "height": 35
    },
    "colab_type": "code",
    "id": "zzAX9ylh-QQe",
    "outputId": "e8a99182-0c0e-457e-ff73-f2f266d48e98"
   },
   "outputs": [],
   "source": [
    "state = torch.load('model_state.pytorch', map_location=lambda storage, loc: storage)\n",
    "n_topics = 6\n",
    "doc_weights = state['doc_weights.weight'].cpu().clone().numpy()\n",
    "topic_vectors = state['topics.topic_vectors'].cpu().clone().numpy()\n",
    "resulted_word_vectors = state['neg.embedding.weight'].cpu().clone().numpy()\n",
    "\n",
    "# distribution over the topics for each document\n",
    "topic_dist = softmax(doc_weights)\n",
    "\n",
    "# vector representation of the documents\n",
    "doc_vecs = np.matmul(topic_dist, topic_vectors)\n",
    "topic_dist.shape"
   ]
  },
  {
   "cell_type": "markdown",
   "metadata": {
    "colab_type": "text",
    "id": "b_y3rVt3-be0"
   },
   "source": [
    "# Show topics"
   ]
  },
  {
   "cell_type": "code",
   "execution_count": 0,
   "metadata": {
    "colab": {
     "base_uri": "https://localhost:8080/",
     "height": 122
    },
    "colab_type": "code",
    "id": "NlJzd4Eh-nIF",
    "outputId": "422faf83-5ae8-47db-8451-0d09e2dd4400"
   },
   "outputs": [
    {
     "name": "stdout",
     "output_type": "stream",
     "text": [
      "topic 1 : work news rockford bill police united good surrogate york liberal\n",
      "topic 2 : news michelle american find suspect north united york absolutely police\n",
      "topic 3 : police american news spin voter search way family affair arpaio\n",
      "topic 4 : percent news black woman find house thing way happen american\n",
      "topic 5 : depp news take god woman liberal anger thing family removal\n",
      "topic 6 : arpaio house bid woman michelle defense right america thing talk\n"
     ]
    }
   ],
   "source": [
    "similarity = np.matmul(topic_vectors, resulted_word_vectors.T)\n",
    "most_similar = similarity.argsort(axis=1)[:, -10:]\n",
    "\n",
    "for j in range(n_topics):\n",
    "    topic_words = ' '.join([decoder[i] for i in reversed(most_similar[j])])\n",
    "    print('topic', j + 1, ':', topic_words)"
   ]
  },
  {
   "cell_type": "markdown",
   "metadata": {
    "colab_type": "text",
    "id": "C5bgiDBM-dqA"
   },
   "source": [
    "# Show learned document embeddings"
   ]
  },
  {
   "cell_type": "code",
   "execution_count": 0,
   "metadata": {
    "colab": {},
    "colab_type": "code",
    "id": "X4zMwdQh-7-_"
   },
   "outputs": [],
   "source": [
    "from mpl_toolkits.mplot3d import Axes3D\n",
    "\n",
    "def plot(X):\n",
    "    # X has shape [n_documents, 2]\n",
    "    \n",
    "    # fig = plt.figure(figsize=(8, 5), dpi=120);\n",
    "    plt.figure(figsize=(8, 5), dpi=120);\n",
    "    # ax = Axes3D(fig)\n",
    "    cmap = plt.cm.tab20\n",
    "    number_of_targets = 2\n",
    "    \n",
    "    for i in range(number_of_targets):\n",
    "        \n",
    "        label = target_names[i]\n",
    "        # size = 15.0\n",
    "        linewidths = 1\n",
    "        edgecolors = 'k'\n",
    "        color = cmap(i)\n",
    "  \n",
    "        \n",
    "        if '0' in label:\n",
    "            marker = 'v'\n",
    "            size = 8.0\n",
    "            linewidths = 1\n",
    "            edgecolors = 'r'\n",
    "        else:\n",
    "            marker = 'o'\n",
    "            size = 8.0\n",
    "            edgecolors = 'g'\n",
    "            \n",
    "            \n",
    "        plt.scatter(\n",
    "            X[targets == i, 0], \n",
    "            X[targets == i, 1], \n",
    "            s=size, c=color, marker=marker,\n",
    "            linewidths=linewidths, edgecolors=edgecolors,\n",
    "            label=label\n",
    "        )\n",
    "        \n",
    "    \n",
    "    leg = plt.legend()\n",
    "    leg.get_frame().set_alpha(0.3)"
   ]
  },
  {
   "cell_type": "code",
   "execution_count": null,
   "metadata": {},
   "outputs": [],
   "source": [
    "# !pip install MulticoreTSNE\n",
    "from MulticoreTSNE import MulticoreTSNE as TSNE\n",
    "tsne = TSNE(perplexity=200, n_jobs=4, random_state=2020)\n",
    "X = tsne.fit_transform(doc_vecs.astype('float64'))"
   ]
  },
  {
   "cell_type": "code",
   "execution_count": 0,
   "metadata": {
    "colab": {
     "base_uri": "https://localhost:8080/",
     "height": 577
    },
    "colab_type": "code",
    "id": "gR1JLtbOA2Ek",
    "outputId": "f7954374-58f6-47f8-fa72-c225e72113b5"
   },
   "outputs": [
    {
     "name": "stderr",
     "output_type": "stream",
     "text": [
      "'c' argument looks like a single numeric RGB or RGBA sequence, which should be avoided as value-mapping will have precedence in case its length matches with 'x' & 'y'.  Please use a 2-D array with a single row if you really want to specify the same RGB or RGBA value for all points.\n",
      "'c' argument looks like a single numeric RGB or RGBA sequence, which should be avoided as value-mapping will have precedence in case its length matches with 'x' & 'y'.  Please use a 2-D array with a single row if you really want to specify the same RGB or RGBA value for all points.\n"
     ]
    },
    {
     "data": {
      "image/png": "[encoded data removed]",
      "text/plain": [
       "<Figure size 960x600 with 1 Axes>"
      ]
     },
     "metadata": {
      "needs_background": "light",
      "tags": []
     },
     "output_type": "display_data"
    }
   ],
   "source": [
    "plot(X) # learned document vectors"
   ]
  },
  {
   "cell_type": "markdown",
   "metadata": {
    "colab_type": "text",
    "id": "_mQqLZZD-g2g"
   },
   "source": [
    "# Show initial document weights (vanilla lda)"
   ]
  },
  {
   "cell_type": "code",
   "execution_count": 0,
   "metadata": {
    "colab": {},
    "colab_type": "code",
    "id": "ZNKDF9fs-4nI"
   },
   "outputs": [],
   "source": [
    "doc_weights_init = np.load('doc_weights_init.npy')"
   ]
  },
  {
   "cell_type": "code",
   "execution_count": 0,
   "metadata": {
    "colab": {},
    "colab_type": "code",
    "id": "pe0fQTYHJnl6"
   },
   "outputs": [],
   "source": [
    "tsne = TSNE(perplexity=200, n_jobs=4, random_state=2020)\n",
    "Y = tsne.fit_transform(doc_weights_init.astype('float64'))"
   ]
  },
  {
   "cell_type": "code",
   "execution_count": 0,
   "metadata": {
    "colab": {
     "base_uri": "https://localhost:8080/",
     "height": 577
    },
    "colab_type": "code",
    "id": "4w8jtUSxJu3c",
    "outputId": "fcbbc2f6-f52f-498f-80c7-4b6473c95b7c"
   },
   "outputs": [
    {
     "name": "stderr",
     "output_type": "stream",
     "text": [
      "'c' argument looks like a single numeric RGB or RGBA sequence, which should be avoided as value-mapping will have precedence in case its length matches with 'x' & 'y'.  Please use a 2-D array with a single row if you really want to specify the same RGB or RGBA value for all points.\n",
      "'c' argument looks like a single numeric RGB or RGBA sequence, which should be avoided as value-mapping will have precedence in case its length matches with 'x' & 'y'.  Please use a 2-D array with a single row if you really want to specify the same RGB or RGBA value for all points.\n"
     ]
    },
    {
     "data": {
      "image/png": "[encoded data removed]",
      "text/plain": [
       "<Figure size 960x600 with 1 Axes>"
      ]
     },
     "metadata": {
      "needs_background": "light",
      "tags": []
     },
     "output_type": "display_data"
    }
   ],
   "source": [
    "plot(Y)  # distribution over the topics for each document (output of LDA)"
   ]
  },
  {
   "cell_type": "markdown",
   "metadata": {
    "colab_type": "text",
    "id": "KfWNl1S2KNY4"
   },
   "source": [
    "# Explore learned topic distribution"
   ]
  },
  {
   "cell_type": "code",
   "execution_count": 0,
   "metadata": {
    "colab": {},
    "colab_type": "code",
    "id": "9nSbcfgoKPd2"
   },
   "outputs": [],
   "source": [
    "tsne = TSNE(perplexity=200, n_jobs=4, random_state=2020)\n",
    "Z = tsne.fit_transform(topic_dist.astype('float64'))"
   ]
  },
  {
   "cell_type": "code",
   "execution_count": 0,
   "metadata": {
    "colab": {
     "base_uri": "https://localhost:8080/",
     "height": 577
    },
    "colab_type": "code",
    "id": "iyTARpJCKWaf",
    "outputId": "6d2ee24c-f407-49ab-952f-3a42cb75a13c"
   },
   "outputs": [
    {
     "name": "stderr",
     "output_type": "stream",
     "text": [
      "'c' argument looks like a single numeric RGB or RGBA sequence, which should be avoided as value-mapping will have precedence in case its length matches with 'x' & 'y'.  Please use a 2-D array with a single row if you really want to specify the same RGB or RGBA value for all points.\n",
      "'c' argument looks like a single numeric RGB or RGBA sequence, which should be avoided as value-mapping will have precedence in case its length matches with 'x' & 'y'.  Please use a 2-D array with a single row if you really want to specify the same RGB or RGBA value for all points.\n"
     ]
    },
    {
     "data": {
      "image/png": "[encoded data removed]",
      "text/plain": [
       "<Figure size 960x600 with 1 Axes>"
      ]
     },
     "metadata": {
      "needs_background": "light",
      "tags": []
     },
     "output_type": "display_data"
    }
   ],
   "source": [
    "plot(Z)#learned distribution over the topics for each document"
   ]
  },
  {
   "cell_type": "code",
   "execution_count": 0,
   "metadata": {
    "colab": {
     "base_uri": "https://localhost:8080/",
     "height": 265
    },
    "colab_type": "code",
    "id": "zUtpuXCfKx9L",
    "outputId": "e6189acb-4d0e-4120-c673-e656350a163a"
   },
   "outputs": [
    {
     "data": {
      "image/png": "[encoded data removed]",
      "text/plain": [
       "<Figure size 432x288 with 1 Axes>"
      ]
     },
     "metadata": {
      "needs_background": "light",
      "tags": []
     },
     "output_type": "display_data"
    }
   ],
   "source": [
    "# distribution of nonzero probabilities\n",
    "dist = topic_dist.reshape(-1)\n",
    "plt.hist(dist[dist > 0.01], bins=40);"
   ]
  },
  {
   "cell_type": "code",
   "execution_count": 0,
   "metadata": {
    "colab": {
     "base_uri": "https://localhost:8080/",
     "height": 265
    },
    "colab_type": "code",
    "id": "AeULU-weLBmG",
    "outputId": "33419709-9524-40df-94f1-1c9065e8ea5b"
   },
   "outputs": [
    {
     "data": {
      "image/png": "[encoded data removed]",
      "text/plain": [
       "<Figure size 432x288 with 1 Axes>"
      ]
     },
     "metadata": {
      "needs_background": "light",
      "tags": []
     },
     "output_type": "display_data"
    }
   ],
   "source": [
    "# distribution of probabilities for some random topic\n",
    "plt.hist(topic_dist[:, n_topics-1], bins=40);"
   ]
  },
  {
   "cell_type": "code",
   "execution_count": 0,
   "metadata": {
    "colab": {
     "base_uri": "https://localhost:8080/",
     "height": 265
    },
    "colab_type": "code",
    "id": "1iz4d3eaLJpO",
    "outputId": "f00ff8e7-8fc2-42e9-f16d-b9e34017174a"
   },
   "outputs": [
    {
     "data": {
      "image/png": "[encoded data removed]",
      "text/plain": [
       "<Figure size 432x288 with 1 Axes>"
      ]
     },
     "metadata": {
      "needs_background": "light",
      "tags": []
     },
     "output_type": "display_data"
    }
   ],
   "source": [
    "# topic assignments for two random topics\n",
    "plt.scatter(topic_dist[:, 0], topic_dist[:, 1]);"
   ]
  },
  {
   "cell_type": "code",
   "execution_count": 0,
   "metadata": {
    "colab": {
     "base_uri": "https://localhost:8080/",
     "height": 268
    },
    "colab_type": "code",
    "id": "fIO1VT4wLVo8",
    "outputId": "e55b5f36-f4e3-4219-e21c-d7c03a447119"
   },
   "outputs": [
    {
     "data": {
      "image/png": "[encoded data removed]",
      "text/plain": [
       "<Figure size 432x288 with 2 Axes>"
      ]
     },
     "metadata": {
      "needs_background": "light",
      "tags": []
     },
     "output_type": "display_data"
    }
   ],
   "source": [
    "# correlation of topic assignments\n",
    "corr = np.corrcoef(topic_dist.transpose(1, 0))\n",
    "plt.imshow(corr);\n",
    "plt.colorbar();"
   ]
  },
  {
   "cell_type": "markdown",
   "metadata": {
    "colab_type": "text",
    "id": "BWQ9UPsELjBF"
   },
   "source": [
    "# Show a document and its topics"
   ]
  },
  {
   "cell_type": "code",
   "execution_count": 0,
   "metadata": {
    "colab": {
     "base_uri": "https://localhost:8080/",
     "height": 475
    },
    "colab_type": "code",
    "id": "5DBNaXXRLd__",
    "outputId": "e1a4564e-12a0-483f-a1f3-ae2ab967a512"
   },
   "outputs": [
    {
     "name": "stdout",
     "output_type": "stream",
     "text": [
      "DOCUMENT:\n",
      "Georgia poll: Donald Trump, Hillary Clinton in tight race Story highlights Trump has 45%, Clinton 42% and Gary Johnson 8%\n",
      "\n",
      "Mitt Romney won the state by 8 points in 2012\n",
      "\n",
      "Washington (CNN) Donald Trump and Hillary Clinton are in a tight race in in Georgia, a traditionally deep red state, according to a new poll.\n",
      "\n",
      "The Republican candidate has 45% to Clinton's 42% in the Monmouth University poll, within the poll's margin of error. Libertarian Gary Johnson had the support of 8% of likely voters.\n",
      "\n",
      "Trump is underperforming previous GOP candidates. Mitt Romney won the state by 8 points in 2012 over President Barack Obama.\n",
      "\n",
      "The incumbent Republican senator is also out-polling Trump. Sen. Johnny Isakson has a 16-point lead over challenger Jim Barksdale, 50% to 34%.\n",
      "\n",
      "Clinton's strength comes from the Atlanta area, where she leads Trump 55% to 35%. But Trump leads her 51% to 33% elsewhere in the Peach State. She leads 88% to 4% among the state's black voters, but trails 20% to 66% among white voters.\n",
      "\n",
      "Read More \n",
      "\n",
      "DISTRIBUTION OVER TOPICS:\n",
      "1:0.151  2:0.146  3:0.172  4:0.210  5:0.191  6:0.130  \n",
      "\n",
      "\n",
      "TOP TOPICS:\n",
      "topic 4 : specific nelson fox fear wife york book crime foundation woman\n",
      "topic 5 : video brown cnn folk black politician september get white let\n",
      "topic 3 : cnn world black lot foundation accord week deal business run\n"
     ]
    }
   ],
   "source": [
    "i = 177 # document id\n",
    "\n",
    "print('DOCUMENT:')\n",
    "print([doc for j, doc in docs if j == doc_decoder[i]][0], '\\n')\n",
    "\n",
    "print('DISTRIBUTION OVER TOPICS:')\n",
    "s = ''\n",
    "for j, p in enumerate(topic_dist[i], 1):\n",
    "    s += '{0}:{1:.3f}  '.format(j, p)\n",
    "    if j%6 == 0:\n",
    "        s += '\\n'\n",
    "print(s)\n",
    "\n",
    "print('\\nTOP TOPICS:')\n",
    "for j in reversed(topic_dist[i].argsort()[-3:]):\n",
    "    topic_words = ' '.join([decoder[i] for i in reversed(most_similar[j])])\n",
    "    print('topic', j + 1, ':', topic_words)"
   ]
  }
 ],
 "metadata": {
  "colab": {
   "collapsed_sections": [
    "KFq4vjeJvtJm",
    "iuaoty5lxHiF",
    "ZsQK8qWN8fUO",
    "6_Q8L1QS3F8t",
    "IfOfdLGh3LPg",
    "eAUGWnF13S29",
    "8opO45TY3e6N",
    "lC4fWIJN3pDk"
   ],
   "name": "Exploratory & Visualisation.ipynb",
   "provenance": [],
   "toc_visible": true
  },
  "kernelspec": {
   "display_name": "Python 3",
   "language": "python",
   "name": "python3"
  },
  "language_info": {
   "codemirror_mode": {
    "name": "ipython",
    "version": 3
   },
   "file_extension": ".py",
   "mimetype": "text/x-python",
   "name": "python",
   "nbconvert_exporter": "python",
   "pygments_lexer": "ipython3",
   "version": "3.7.4"
  }
 },
 "nbformat": 4,
 "nbformat_minor": 1
}
