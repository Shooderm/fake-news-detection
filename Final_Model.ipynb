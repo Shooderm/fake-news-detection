{
  "nbformat": 4,
  "nbformat_minor": 0,
  "metadata": {
    "colab": {
      "name": "Final Model",
      "provenance": [],
      "collapsed_sections": [
        "MuSwiYiszSg5"
      ],
      "machine_shape": "hm"
    },
    "kernelspec": {
      "name": "python3",
      "display_name": "Python 3"
    },
    "accelerator": "GPU"
  },
  "cells": [
    {
      "cell_type": "markdown",
      "metadata": {
        "id": "PzWWX24_WeDA",
        "colab_type": "text"
      },
      "source": [
        "# FAKE NEWS DETECTION USING DEEP LEARNING"
      ]
    },
    {
      "cell_type": "markdown",
      "metadata": {
        "id": "HZBT4NZKWqrq",
        "colab_type": "text"
      },
      "source": [
        "## 1. Preparation"
      ]
    },
    {
      "cell_type": "markdown",
      "metadata": {
        "id": "6-AcZ_UiXt7S",
        "colab_type": "text"
      },
      "source": [
        "### 1.1. Download Data"
      ]
    },
    {
      "cell_type": "code",
      "metadata": {
        "id": "WPYu4tktF-Ak",
        "colab_type": "code",
        "outputId": "b213bce1-b3bc-4e5c-d81b-22dfc04e21a7",
        "colab": {
          "base_uri": "https://localhost:8080/",
          "height": 204
        }
      },
      "source": [
        "# Code to download file into Colaboratory:\n",
        "!pip install -U -q PyDrive\n",
        "import pandas as pd\n",
        "import numpy as np\n",
        "import nltk\n",
        "import string\n",
        "from gensim.models import Word2Vec\n",
        "from gensim.models import FastText\n",
        "from nltk.corpus import stopwords as sw\n",
        "from nltk.corpus import RegexpTokenizer\n",
        "from nltk.stem import WordNetLemmatizer\n",
        "from itertools import chain\n",
        "from nltk.stem.porter import PorterStemmer\n",
        "nltk.download('wordnet')\n",
        "nltk.download('stopwords')\n",
        "stop_words = set(sw.words('english')) \n",
        "nltk.download('wordnet')\n",
        "nltk.download('punkt')\n",
        "nltk.download('stopwords')\n",
        "stop_words = set(sw.words('english')) \n",
        "from pydrive.auth import GoogleAuth\n",
        "from pydrive.drive import GoogleDrive\n",
        "from google.colab import auth\n",
        "from oauth2client.client import GoogleCredentials\n",
        "# Authenticate and create the PyDrive client.\n",
        "\n",
        "auth.authenticate_user()\n",
        "gauth = GoogleAuth()\n",
        "gauth.credentials = GoogleCredentials.get_application_default()\n",
        "drive = GoogleDrive(gauth)\n",
        "\n",
        "id = '1MagOVnkudsYsCtz9-U6-mWBOcydPCe0s'\n",
        "downloaded = drive.CreateFile({'id':id}) \n",
        "downloaded.GetContentFile('BuzzFeed_fake_news_content.csv')\n",
        "\n",
        "id = '1LA6oUXDxsux_CSsClQQdVG6Awnx5NvTW'\n",
        "downloaded = drive.CreateFile({'id':id}) \n",
        "downloaded.GetContentFile('BuzzFeed_real_news_content.csv')\n",
        "\n",
        "id = '1PH22HewU7HYhaw6ZjD503q4blq-ekbwf'\n",
        "downloaded = drive.CreateFile({'id':id}) \n",
        "downloaded.GetContentFile('PF_fake.csv')\n",
        "\n",
        "id = '1FPL-p7z5NgoiblJ3_YEQIqy0uZwh_wYK'\n",
        "downloaded = drive.CreateFile({'id':id}) \n",
        "downloaded.GetContentFile('PolitiFact_real_news_content.csv')"
      ],
      "execution_count": 1,
      "outputs": [
        {
          "output_type": "stream",
          "text": [
            "[nltk_data] Downloading package wordnet to /root/nltk_data...\n",
            "[nltk_data]   Unzipping corpora/wordnet.zip.\n",
            "[nltk_data] Downloading package stopwords to /root/nltk_data...\n",
            "[nltk_data]   Unzipping corpora/stopwords.zip.\n",
            "[nltk_data] Downloading package wordnet to /root/nltk_data...\n",
            "[nltk_data]   Package wordnet is already up-to-date!\n",
            "[nltk_data] Downloading package punkt to /root/nltk_data...\n",
            "[nltk_data]   Unzipping tokenizers/punkt.zip.\n",
            "[nltk_data] Downloading package stopwords to /root/nltk_data...\n",
            "[nltk_data]   Package stopwords is already up-to-date!\n"
          ],
          "name": "stdout"
        }
      ]
    },
    {
      "cell_type": "markdown",
      "metadata": {
        "id": "6d97p3KKYGx7",
        "colab_type": "text"
      },
      "source": [
        "### 1.2. Dataset and Parameters Setting"
      ]
    },
    {
      "cell_type": "code",
      "metadata": {
        "id": "NAsMMkxhhQWx",
        "colab_type": "code",
        "colab": {}
      },
      "source": [
        "# 0=BuzzFeed 1=PolitiFact 2=Both\n",
        "dataset=1\n",
        "# Embedding_size\n",
        "embedding_size=128\n",
        "# Doc Vector size\n",
        "d2v_size=32\n",
        "# LDA number of topics\n",
        "lda_topic=6\n",
        "# 0=text+title 1=lda2vec 3=all\n",
        "emb_type=3\n",
        "pretrain=0"
      ],
      "execution_count": 0,
      "outputs": []
    },
    {
      "cell_type": "code",
      "metadata": {
        "id": "dzgoYK_NG1mW",
        "colab_type": "code",
        "colab": {}
      },
      "source": [
        "# BuzzFeed and Politifact DATASET\n",
        "BF_fake = pd.read_csv('BuzzFeed_fake_news_content.csv')\n",
        "BF_real = pd.read_csv('BuzzFeed_real_news_content.csv')\n",
        "PF_fake = pd.read_csv('PF_fake.csv')\n",
        "PF_real = pd.read_csv('PolitiFact_real_news_content.csv')\n",
        "BF_fake = BF_fake.drop([4,9,32])\n",
        "BF_real = BF_real.drop([38])\n",
        "PF_fake = PF_fake.drop([37,62])\n",
        "PF_fake = PF_fake.drop([7,23,42,51,88])\n",
        "\n",
        "# Switch of dataset selection\n",
        "if dataset==0:\n",
        "  BF = pd.concat([BF_fake ,BF_real])\n",
        "  numFake = BF_fake.shape[0]\n",
        "elif dataset==1:\n",
        "  BF = pd.concat([PF_fake ,PF_real])\n",
        "  numFake = PF_fake.shape[0]\n",
        "  \n",
        "# Combination of two dataset\n",
        "else:\n",
        "  BF = pd.concat([PF_fake,BF_fake,PF_real,BF_real])\n",
        "  numFake = PF_fake.shape[0]+BF_fake.shape[0]\n"
      ],
      "execution_count": 0,
      "outputs": []
    },
    {
      "cell_type": "code",
      "metadata": {
        "id": "MsPKPolcVLST",
        "colab_type": "code",
        "outputId": "0a6ed599-b95f-48d1-c575-9ab657392a08",
        "colab": {
          "base_uri": "https://localhost:8080/",
          "height": 210
        }
      },
      "source": [
        "PF_fake.head()"
      ],
      "execution_count": 4,
      "outputs": [
        {
          "output_type": "execute_result",
          "data": {
            "text/html": [
              "<div>\n",
              "<style scoped>\n",
              "    .dataframe tbody tr th:only-of-type {\n",
              "        vertical-align: middle;\n",
              "    }\n",
              "\n",
              "    .dataframe tbody tr th {\n",
              "        vertical-align: top;\n",
              "    }\n",
              "\n",
              "    .dataframe thead th {\n",
              "        text-align: right;\n",
              "    }\n",
              "</style>\n",
              "<table border=\"1\" class=\"dataframe\">\n",
              "  <thead>\n",
              "    <tr style=\"text-align: right;\">\n",
              "      <th></th>\n",
              "      <th>text</th>\n",
              "      <th>title</th>\n",
              "    </tr>\n",
              "  </thead>\n",
              "  <tbody>\n",
              "    <tr>\n",
              "      <th>0</th>\n",
              "      <td>335 SHARES SHARE THIS STORY\\n\\nRepublican atta...</td>\n",
              "      <td>Virginia Republican Wants Schools To Check Chi...</td>\n",
              "    </tr>\n",
              "    <tr>\n",
              "      <th>1</th>\n",
              "      <td>BREAKING!\\n\\nLiberal rag Huffington Post is re...</td>\n",
              "      <td>PUTIN INTERFERENCE COULD GIVE COURTS LEGAL RIG...</td>\n",
              "    </tr>\n",
              "    <tr>\n",
              "      <th>2</th>\n",
              "      <td>Three women who all went missing in the mid-19...</td>\n",
              "      <td>Barrels Removed From Clinton Property Containe...</td>\n",
              "    </tr>\n",
              "    <tr>\n",
              "      <th>3</th>\n",
              "      <td>On Monday, Bumble Bee Foods and 2 employees we...</td>\n",
              "      <td>Massive Bumble Bee Recall After 2 Employees Ad...</td>\n",
              "    </tr>\n",
              "    <tr>\n",
              "      <th>4</th>\n",
              "      <td>Republican Rep. Trey Gowdy, who sits on the Ho...</td>\n",
              "      <td>JUST IN TODAY Trey Gowdy Is The NEW DIRECTOR O...</td>\n",
              "    </tr>\n",
              "  </tbody>\n",
              "</table>\n",
              "</div>"
            ],
            "text/plain": [
              "                                                text                                              title\n",
              "0  335 SHARES SHARE THIS STORY\\n\\nRepublican atta...  Virginia Republican Wants Schools To Check Chi...\n",
              "1  BREAKING!\\n\\nLiberal rag Huffington Post is re...  PUTIN INTERFERENCE COULD GIVE COURTS LEGAL RIG...\n",
              "2  Three women who all went missing in the mid-19...  Barrels Removed From Clinton Property Containe...\n",
              "3  On Monday, Bumble Bee Foods and 2 employees we...  Massive Bumble Bee Recall After 2 Employees Ad...\n",
              "4  Republican Rep. Trey Gowdy, who sits on the Ho...  JUST IN TODAY Trey Gowdy Is The NEW DIRECTOR O..."
            ]
          },
          "metadata": {
            "tags": []
          },
          "execution_count": 4
        }
      ]
    },
    {
      "cell_type": "code",
      "metadata": {
        "id": "g1OvV8AVfEKp",
        "colab_type": "code",
        "colab": {}
      },
      "source": [
        "text_sentence=col_one_list = BF['text'].tolist()\n",
        "title_sentence=col_one_list = BF['title'].tolist()\n",
        "both_sentence=[]\n",
        "for i in range(len(text_sentence)):\n",
        "  both_sentence.append(title_sentence[i]+' '+'EndOfTitle'+' '+text_sentence[i])\n",
        "sentences=both_sentence"
      ],
      "execution_count": 0,
      "outputs": []
    },
    {
      "cell_type": "markdown",
      "metadata": {
        "id": "fUmfWKy_0Bfi",
        "colab_type": "text"
      },
      "source": [
        "### 1.3. Word Embedding"
      ]
    },
    {
      "cell_type": "code",
      "metadata": {
        "id": "wzhESOHLHX0J",
        "colab_type": "code",
        "colab": {}
      },
      "source": [
        "tokenizer=RegexpTokenizer(r'[a-zA-Z]{3,}')\n",
        "\n",
        "tokenized_train=[]\n",
        "i=0\n",
        "for sentence in sentences:\n",
        "  try:\n",
        "    tokenized_train.append(tokenizer.tokenize(sentence))\n",
        "  except:\n",
        "    print(i)\n",
        "    tokenized_train.append([])\n",
        "  i+=1\n",
        "\n",
        "filtered_train=[]\n",
        "for i in range(len(tokenized_train)):\n",
        "  filtered_train.append([])\n",
        "  for w in tokenized_train[i]:\n",
        "    if w.lower() not in stop_words: \n",
        "      filtered_train[i].append(w.lower()) \n",
        "\n",
        "lemmatzer=WordNetLemmatizer()\n",
        "\n",
        "lemm_train=[]\n",
        "for i in range(len(filtered_train)):\n",
        "  lemm_train.append([])\n",
        "  for w in filtered_train[i]:\n",
        "    lemm_train[i].append(lemmatzer.lemmatize(w))\n",
        "\n",
        "stemmer=PorterStemmer()\n",
        "stem_train=[]\n",
        "for i in range(len(filtered_train)):\n",
        "  stem_train.append([])\n",
        "  for w in filtered_train[i]:\n",
        "    stem_train[i].append(stemmer.stem(w))"
      ],
      "execution_count": 0,
      "outputs": []
    },
    {
      "cell_type": "code",
      "metadata": {
        "id": "LBlDF_2vJRG1",
        "colab_type": "code",
        "colab": {}
      },
      "source": [
        "# join each sentences to one list\n",
        "word_sequence = list(chain(*lemm_train))\n",
        "# get unique words\n",
        "word_list = list(chain(*lemm_train))\n",
        "word_list = list(set(word_list))\n",
        "word_list.sort()\n",
        "\n",
        "# make dictionary so that we can be reference each index of unique word\n",
        "word2ind = {w: i for i, w in enumerate(word_list)}\n"
      ],
      "execution_count": 0,
      "outputs": []
    },
    {
      "cell_type": "code",
      "metadata": {
        "id": "q9DlARIiJ3EU",
        "colab_type": "code",
        "outputId": "1397f2c2-8879-4969-d055-62dda4c86407",
        "colab": {
          "base_uri": "https://localhost:8080/",
          "height": 54
        }
      },
      "source": [
        "emb_size=embedding_size\n",
        "w2v = Word2Vec(lemm_train, size=emb_size,iter=50, window=5, min_count=1, workers=4, sg=1)\n",
        "embedding=np.array([w2v[i] for i in word_list])"
      ],
      "execution_count": 8,
      "outputs": [
        {
          "output_type": "stream",
          "text": [
            "/usr/local/lib/python3.6/dist-packages/ipykernel_launcher.py:3: DeprecationWarning: Call to deprecated `__getitem__` (Method will be removed in 4.0.0, use self.wv.__getitem__() instead).\n",
            "  This is separate from the ipykernel package so we can avoid doing imports until\n"
          ],
          "name": "stderr"
        }
      ]
    },
    {
      "cell_type": "markdown",
      "metadata": {
        "id": "X5UumhUeresC",
        "colab_type": "text"
      },
      "source": [
        "### 1.4. Document Embedding\n",
        "\n"
      ]
    },
    {
      "cell_type": "code",
      "metadata": {
        "id": "oL4pHQRTq35p",
        "colab_type": "code",
        "outputId": "5a5b70e8-3a9c-4456-ff45-5a43154b4001",
        "colab": {
          "base_uri": "https://localhost:8080/",
          "height": 74
        }
      },
      "source": [
        "import numpy as np\n",
        "from tqdm import tqdm\n",
        "import spacy\n",
        "from gensim import corpora, models\n",
        "from collections import Counter\n",
        "nlp = spacy.load('en')\n",
        "from collections import Counter\n",
        "from tqdm import tqdm\n",
        "# store an index with a document\n",
        "docs = [(i, doc) for i, doc in enumerate(sentences)]\n",
        "docs[40]"
      ],
      "execution_count": 9,
      "outputs": [
        {
          "output_type": "execute_result",
          "data": {
            "text/plain": [
              "(40,\n",
              " 'Trump Caught INVESTING in Dakota Pipeline Before Signing It EndOfTitle CNBC reported that Trump has substantial investments in the companies involved with the construction of the pipeline. Trump’s early decision to approve the pipeline was a conflict-of-interest, and we must impeach him for it.\\n\\nDonald Trump’s business investments spread throughout the world. Now, we know that he has ties to the Dakota Access Pipeline, the one that crosses sacred Indian land.\\n\\nThe construction of the pipeline raised the ire of Native American Sioux settlements in the area. It will cross sacred land and pollute their water supply.\\n\\nThe pipeline is also a threat to the Missouri and Mississippi Rivers, which provide drinking water for millions of people. In addition, the two rivers provide shipping avenues for commerce through the middle of the country.\\n\\nOpposition to the pipeline resulted in massive protests. The protests received international coverage when police and security workers for the construction firms sprayed protestors with water and beat them.\\n\\nThe opposition brought out many supporters, too. On November 15, 2016, there was a National Day of Action to protest the construction. There were massive protests in cities as Los Angeles, Chicago, Denver, and Trump’s own Manhattan in support of the Sioux Nation.\\n\\nVeterans also went to the front lines of the protest to stand against the construction and the violence from the hired thugs. American heroes supporting Native American heroes.\\n\\nAnd now we learn that “President” Trump has investments in the companies building the pipelines. No wonder the Orange Fuehrer ordered the resumption of their construction as one of his first moves as president.\\n\\nThis should come as no surprise since Trump ‘s financial ties are everywhere. Almost daily, we hear of another financial conflict-of-interest involving the president.\\n\\nThis involvement is another example of Trump’s unconstitutional failure to divest himself of his businesses interests. The Tenth Amendment of the Constitution prohibits him from profiting from decisions made while president. And here it is, another unconstitutional violation.\\n\\nAccording to Ethics experts, Trump’s decisions to pass his businesses to his two sons is not adequate. As with other presidents, he must divest himself of all business interests and place them in a blind trust.\\n\\nThe blind trust would prohibit Trump from any involvement. As he wants it, his two spoiled brat sons would consult him on business decisions regularly, and he would surely lie about it.\\n\\nThe Dakota Pipeline investment is one of many illegal ones by Trump, but perhaps the most controversial. If only the mainstream media will pick up the story and run with it will the public know of Trump’s support of the cruel actions of the police.\\n\\nWe must insist that the media tell this story. With its broadcast, the public will see how Trump uses the presidency for his financial gain and support his immediate impeachment.\\n\\nPlease share this story on Facebook!')"
            ]
          },
          "metadata": {
            "tags": []
          },
          "execution_count": 9
        }
      ]
    },
    {
      "cell_type": "code",
      "metadata": {
        "id": "umKzp2iJsNdc",
        "colab_type": "code",
        "colab": {}
      },
      "source": [
        "########### Preprocess.py (from lda of TropComplique) ###########\n",
        "\n",
        "def preprocess(docs, nlp, min_length, min_counts, max_counts):\n",
        "    \"\"\"Tokenize, clean, and encode documents.\n",
        "    Arguments:\n",
        "        docs: A list of tuples (index, string), each string is a document.\n",
        "        nlp: A spaCy object, like nlp = spacy.load('en').\n",
        "        min_length: An integer, minimum document length.\n",
        "        min_counts: An integer, minimum count of a word.\n",
        "        max_counts: An integer, maximum count of a word.\n",
        "    Returns:\n",
        "        encoded_docs: A list of tuples (index, list), each list is a document\n",
        "            with words encoded by integer values.\n",
        "        decoder: A dict, integer -> word.\n",
        "        word_counts: A list of integers, counts of words that are in decoder.\n",
        "            word_counts[i] is the number of occurrences of word decoder[i]\n",
        "            in all documents in docs.\n",
        "    \"\"\"\n",
        "\n",
        "    default = [\"trump\", \"donald\", \"hillary\", \"clinton\", \"barack\", \"obama\", \n",
        "               \"say\", \"people\", \"president\"]\n",
        "               \n",
        "    def clean_and_tokenize(doc):\n",
        "        # remove excessive spaces\n",
        "        text = ' '.join(doc.split())\n",
        "        text = nlp(text)\n",
        "        text = [t.lemma_ for t in text if t.is_alpha and len(t) > 2 and not t.is_stop]\n",
        "        text = [t.lower() for t in text]\n",
        "        text = [t for t in text if t not in default]\n",
        "\n",
        "        return text\n",
        "\n",
        "    tokenized_docs = [(i, clean_and_tokenize(doc)) for i, doc in tqdm(docs)]\n",
        "\n",
        "    # remove short documents\n",
        "    n_short_docs = sum(1 for i, doc in tokenized_docs if len(doc) < min_length)\n",
        "    for i, doc in tokenized_docs:\n",
        "      if len(doc) < min_length:\n",
        "        print('remove index:', i)\n",
        "    tokenized_docs = [(i, doc) for i, doc in tokenized_docs if len(doc) >= min_length]\n",
        "    print(tokenized_docs.index)\n",
        "    print('number of removed short documents:', n_short_docs)\n",
        "\n",
        "    # remove some tokens\n",
        "    counts = _count_unique_tokens(tokenized_docs)\n",
        "    tokenized_docs = _remove_tokens(tokenized_docs, counts, min_counts, max_counts)\n",
        "    for i, doc in tokenized_docs:\n",
        "      if len(doc) < min_length:\n",
        "        print('remove index:', i)\n",
        "    n_short_docs = sum(1 for i, doc in tokenized_docs if len(doc) < min_length)\n",
        "    tokenized_docs = [(i, doc) for i, doc in tokenized_docs if len(doc) >= min_length]\n",
        "    print('number of additionally removed short documents:', n_short_docs)\n",
        "\n",
        "    counts = _count_unique_tokens(tokenized_docs)\n",
        "    encoder, decoder, word_counts = _create_token_encoder(counts)\n",
        "    \n",
        "    print('\\nminimum word count number:', word_counts[-1])\n",
        "    print('this number can be less than MIN_COUNTS because of document removal')\n",
        "\n",
        "    encoded_docs = _encode(tokenized_docs, encoder)\n",
        "    return encoded_docs, decoder, word_counts\n",
        "\n",
        "\n",
        "def _count_unique_tokens(tokenized_docs):\n",
        "    tokens = []\n",
        "    for i, doc in tokenized_docs:\n",
        "        tokens += doc\n",
        "    return Counter(tokens)\n",
        "\n",
        "\n",
        "def _encode(tokenized_docs, encoder):\n",
        "    return [(i, [encoder[t] for t in doc]) for i, doc in tokenized_docs]\n",
        "\n",
        "\n",
        "def _remove_tokens(tokenized_docs, counts, min_counts, max_counts):\n",
        "    \"\"\"\n",
        "    Words with count < min_counts or count > max_counts\n",
        "    will be removed.\n",
        "    \"\"\"\n",
        "    total_tokens_count = sum(\n",
        "        count for token, count in counts.most_common()\n",
        "    )\n",
        "    print('total number of tokens:', total_tokens_count)\n",
        "\n",
        "    unknown_tokens_count = sum(\n",
        "        count for token, count in counts.most_common()\n",
        "        if count < min_counts or count > max_counts\n",
        "    )\n",
        "    print('number of tokens to be removed:', unknown_tokens_count)\n",
        "\n",
        "    keep = {}\n",
        "    for token, count in counts.most_common():\n",
        "        keep[token] = count >= min_counts and count <= max_counts\n",
        "\n",
        "    return [(i, [t for t in doc if keep[t]]) for i, doc in tokenized_docs]\n",
        "\n",
        "\n",
        "def _create_token_encoder(counts):\n",
        "\n",
        "    total_tokens_count = sum(\n",
        "        count for token, count in counts.most_common()\n",
        "    )\n",
        "    print('total number of tokens:', total_tokens_count)\n",
        "\n",
        "    encoder = {}\n",
        "    decoder = {}\n",
        "    word_counts = []\n",
        "    i = 0\n",
        "\n",
        "    for token, count in counts.most_common():\n",
        "        # counts.most_common() is in decreasing count order\n",
        "        encoder[token] = i\n",
        "        decoder[i] = token\n",
        "        word_counts.append(count)\n",
        "        i += 1\n",
        "\n",
        "    return encoder, decoder, word_counts"
      ],
      "execution_count": 0,
      "outputs": []
    },
    {
      "cell_type": "code",
      "metadata": {
        "id": "TlFiO5DNtVn1",
        "colab_type": "code",
        "colab": {}
      },
      "source": [
        "MIN_COUNTS = 15\n",
        "MAX_COUNTS = 150\n",
        "# words with count < MIN_COUNTS\n",
        "# and count > MAX_COUNTS\n",
        "# will be removed\n",
        "\n",
        "MIN_LENGTH = 15\n",
        "# minimum document length \n",
        "# (number of words)\n",
        "# after preprocessing\n",
        "\n",
        "# half the size of the context around a word\n",
        "HALF_WINDOW_SIZE = 5\n",
        "# it must be that 2*HALF_WINDOW_SIZE < MIN_LENGTH"
      ],
      "execution_count": 0,
      "outputs": []
    },
    {
      "cell_type": "code",
      "metadata": {
        "id": "Gr1P1iuxsNwa",
        "colab_type": "code",
        "outputId": "9c310327-60ca-4dc6-d2f7-4668d6af32f4",
        "colab": {
          "base_uri": "https://localhost:8080/",
          "height": 204
        }
      },
      "source": [
        "encoded_docs, decoder, word_counts = preprocess( \n",
        "    docs, nlp, MIN_LENGTH, MIN_COUNTS, MAX_COUNTS)"
      ],
      "execution_count": 12,
      "outputs": [
        {
          "output_type": "stream",
          "text": [
            "100%|██████████| 233/233 [00:22<00:00, 10.14it/s]"
          ],
          "name": "stderr"
        },
        {
          "output_type": "stream",
          "text": [
            "<built-in method index of list object at 0x7f4d3a635a08>\n",
            "number of removed short documents: 0\n",
            "total number of tokens: 58348\n",
            "number of tokens to be removed: 26700\n",
            "number of additionally removed short documents: 0\n",
            "total number of tokens: 31648\n",
            "\n",
            "minimum word count number: 15\n",
            "this number can be less than MIN_COUNTS because of document removal\n"
          ],
          "name": "stdout"
        },
        {
          "output_type": "stream",
          "text": [
            "\n"
          ],
          "name": "stderr"
        }
      ]
    },
    {
      "cell_type": "code",
      "metadata": {
        "id": "2srAEk3DySk0",
        "colab_type": "code",
        "colab": {}
      },
      "source": [
        "print(encoded_docs)\n",
        "print(decoder)\n",
        "print(word_counts[0])"
      ],
      "execution_count": 0,
      "outputs": []
    },
    {
      "cell_type": "code",
      "metadata": {
        "id": "-Eg8p_PA2iZB",
        "colab_type": "code",
        "colab": {}
      },
      "source": [
        "# new ids will be created for the documents.\n",
        "# create a way of restoring initial ids:\n",
        "doc_decoder = {i: doc_id for i, (doc_id, doc) in enumerate(encoded_docs)}"
      ],
      "execution_count": 0,
      "outputs": []
    },
    {
      "cell_type": "code",
      "metadata": {
        "id": "V-NobMMk_65N",
        "colab_type": "code",
        "outputId": "482308ff-eb8d-4732-d0e8-a657c8b5b3bd",
        "colab": {
          "base_uri": "https://localhost:8080/",
          "height": 54
        }
      },
      "source": [
        "vocab_size = len(decoder)\n",
        "embedding_dim = embedding_size\n",
        "\n",
        "# train a skip-gram word2vec model\n",
        "texts = [[str(j) for j in doc] for i, doc in encoded_docs]\n",
        "model = models.Word2Vec(texts, size=embedding_dim, iter=50, window=5, workers=4, sg=1)\n",
        "model.init_sims(replace=True)\n",
        "\n",
        "word_vectors = np.array([model[str(i)] for i in decoder])"
      ],
      "execution_count": 15,
      "outputs": [
        {
          "output_type": "stream",
          "text": [
            "/usr/local/lib/python3.6/dist-packages/ipykernel_launcher.py:9: DeprecationWarning: Call to deprecated `__getitem__` (Method will be removed in 4.0.0, use self.wv.__getitem__() instead).\n",
            "  if __name__ == '__main__':\n"
          ],
          "name": "stderr"
        }
      ]
    },
    {
      "cell_type": "markdown",
      "metadata": {
        "id": "OLYo_lLS0I-W",
        "colab_type": "text"
      },
      "source": [
        "#### 1.4.1. Doc weight"
      ]
    },
    {
      "cell_type": "code",
      "metadata": {
        "id": "lUyQQSs50T7q",
        "colab_type": "code",
        "colab": {}
      },
      "source": [
        "texts = [[decoder[j] for j in doc] for i, doc in encoded_docs]\n",
        "dictionary = corpora.Dictionary(texts)\n",
        "corpus = [dictionary.doc2bow(text) for text in texts]"
      ],
      "execution_count": 0,
      "outputs": []
    },
    {
      "cell_type": "code",
      "metadata": {
        "id": "_cFe0JM20kEG",
        "colab_type": "code",
        "outputId": "b6e269e8-421a-4ce5-8a4d-5144467d00d6",
        "colab": {
          "base_uri": "https://localhost:8080/",
          "height": 54
        }
      },
      "source": [
        "%%time\n",
        "n_topics = lda_topic\n",
        "lda = models.LdaModel(corpus, alpha=0.9, id2word=dictionary, num_topics=n_topics)\n",
        "corpus_lda = lda[corpus]"
      ],
      "execution_count": 17,
      "outputs": [
        {
          "output_type": "stream",
          "text": [
            "CPU times: user 524 ms, sys: 1.02 ms, total: 525 ms\n",
            "Wall time: 524 ms\n"
          ],
          "name": "stdout"
        }
      ]
    },
    {
      "cell_type": "code",
      "metadata": {
        "id": "ldG96Iwu0oJU",
        "colab_type": "code",
        "outputId": "eae3f51d-cb24-48bf-8493-bfda6df396c7",
        "colab": {
          "base_uri": "https://localhost:8080/",
          "height": 129
        }
      },
      "source": [
        "for i, topics in lda.show_topics(n_topics, formatted=False):\n",
        "    print('topic', i, ':', ' '.join([t for t, _ in topics]))"
      ],
      "execution_count": 18,
      "outputs": [
        {
          "output_type": "stream",
          "text": [
            "topic 0 : republican million candidate bill house look need right vote news\n",
            "topic 1 : police black family story law right scott thing american news\n",
            "topic 2 : america american thing story city look vote family war get\n",
            "topic 3 : police vote house try start find take law bill story\n",
            "topic 4 : news thing woman bill house presidential work stop vote york\n",
            "topic 5 : republican call million work family ask find police voter north\n"
          ],
          "name": "stdout"
        }
      ]
    },
    {
      "cell_type": "code",
      "metadata": {
        "id": "1tXD1Kv80oIW",
        "colab_type": "code",
        "outputId": "1e80a430-32cd-46f1-ece8-29e19ecde6c3",
        "colab": {
          "base_uri": "https://localhost:8080/",
          "height": 54
        }
      },
      "source": [
        "doc_weights_init = np.zeros((len(corpus_lda), n_topics))\n",
        "for i in tqdm(range(len(corpus_lda))):\n",
        "    topics = corpus_lda[i]\n",
        "    for j, prob in topics:\n",
        "        doc_weights_init[i, j] = prob\n",
        "print(doc_weights_init.shape)"
      ],
      "execution_count": 19,
      "outputs": [
        {
          "output_type": "stream",
          "text": [
            "100%|██████████| 233/233 [00:00<00:00, 942.62it/s]"
          ],
          "name": "stderr"
        },
        {
          "output_type": "stream",
          "text": [
            "(233, 6)\n"
          ],
          "name": "stdout"
        },
        {
          "output_type": "stream",
          "text": [
            "\n"
          ],
          "name": "stderr"
        }
      ]
    },
    {
      "cell_type": "code",
      "metadata": {
        "id": "XowxLfwEIbA8",
        "colab_type": "code",
        "outputId": "6143f507-90e6-4280-e5b4-0d29474c6302",
        "colab": {
          "base_uri": "https://localhost:8080/",
          "height": 54
        }
      },
      "source": [
        "# transform to logits\n",
        "doc_weights = np.log(doc_weights_init + 1e-4)\n",
        "\n",
        "# make distribution softer\n",
        "temperature = 7.0\n",
        "doc_weights /= temperature\n",
        "\n",
        "doc_weights[0]\n"
      ],
      "execution_count": 20,
      "outputs": [
        {
          "output_type": "execute_result",
          "data": {
            "text/plain": [
              "array([-0.18534763, -0.48041033, -0.40287811, -0.25294071, -0.2929564 ,\n",
              "       -0.15654969])"
            ]
          },
          "metadata": {
            "tags": []
          },
          "execution_count": 20
        }
      ]
    },
    {
      "cell_type": "markdown",
      "metadata": {
        "id": "MuSwiYiszSg5",
        "colab_type": "text"
      },
      "source": [
        "#### 1.4.2. Explore the clustering of LDA2Vec (doc_weights_init)"
      ]
    },
    {
      "cell_type": "code",
      "metadata": {
        "id": "X4zMwdQh-7-_",
        "colab_type": "code",
        "colab": {}
      },
      "source": [
        "def plot(X):\n",
        "    # X has shape [n_documents, 2]\n",
        "    \n",
        "    plt.figure(figsize=(16, 9), dpi=120);\n",
        "    cmap = plt.cm.tab20\n",
        "    number_of_targets = 2\n",
        "    \n",
        "    for i in range(number_of_targets):\n",
        "        \n",
        "        label = target_names[i]\n",
        "        #size = 15.0\n",
        "        linewidths = 1\n",
        "        edgecolors = 'k'\n",
        "        color = cmap(i)\n",
        "  \n",
        "        \n",
        "        if '0' in label:\n",
        "            marker = 'v'\n",
        "            size = 20.0\n",
        "            linewidths = 1\n",
        "            edgecolors = 'r'\n",
        "        else:\n",
        "            marker = 'o'\n",
        "            size = 40.0\n",
        "            edgecolors = 'g'\n",
        "            \n",
        "            \n",
        "        \n",
        "        plt.scatter(\n",
        "            X[targets == i, 0], \n",
        "            X[targets == i, 1], \n",
        "            s=size, c=color, marker=marker,\n",
        "            linewidths=linewidths, edgecolors=edgecolors,\n",
        "            label=label\n",
        "        )\n",
        "      \n",
        "    \n",
        "    leg = plt.legend()\n",
        "    leg.get_frame().set_alpha(0.3)"
      ],
      "execution_count": 0,
      "outputs": []
    },
    {
      "cell_type": "code",
      "metadata": {
        "id": "pe0fQTYHJnl6",
        "colab_type": "code",
        "outputId": "7c9d28c1-4cb6-4bc5-b13c-adb9f708432e",
        "colab": {
          "base_uri": "https://localhost:8080/",
          "height": 241
        }
      },
      "source": [
        "!pip install MulticoreTSNE\n",
        "from MulticoreTSNE import MulticoreTSNE as TSNE\n",
        "import matplotlib.pyplot as plt\n",
        "\n",
        "tsne = TSNE(perplexity=200, n_jobs=4)\n",
        "Y = tsne.fit_transform(doc_weights_init.astype('float64'))"
      ],
      "execution_count": 24,
      "outputs": [
        {
          "output_type": "stream",
          "text": [
            "Collecting MulticoreTSNE\n",
            "  Downloading https://files.pythonhosted.org/packages/2d/e8/2afa896fa4eebfa1d0d0ba2673fddac45582ec0f06b2bdda88108ced5425/MulticoreTSNE-0.1.tar.gz\n",
            "Requirement already satisfied: numpy in /usr/local/lib/python3.6/dist-packages (from MulticoreTSNE) (1.18.4)\n",
            "Requirement already satisfied: cffi in /usr/local/lib/python3.6/dist-packages (from MulticoreTSNE) (1.14.0)\n",
            "Requirement already satisfied: pycparser in /usr/local/lib/python3.6/dist-packages (from cffi->MulticoreTSNE) (2.20)\n",
            "Building wheels for collected packages: MulticoreTSNE\n",
            "  Building wheel for MulticoreTSNE (setup.py) ... \u001b[?25l\u001b[?25hdone\n",
            "  Created wheel for MulticoreTSNE: filename=MulticoreTSNE-0.1-cp36-cp36m-linux_x86_64.whl size=68502 sha256=1b816d2f2b566aacb33e15eb5b1526ca301bd39afb28c3dcaf10bd27a1d94ef9\n",
            "  Stored in directory: /root/.cache/pip/wheels/27/59/53/3b52ee63add3692254c30d687fa4dff4d128d0557861fb028e\n",
            "Successfully built MulticoreTSNE\n",
            "Installing collected packages: MulticoreTSNE\n",
            "Successfully installed MulticoreTSNE-0.1\n"
          ],
          "name": "stdout"
        }
      ]
    },
    {
      "cell_type": "code",
      "metadata": {
        "id": "4w8jtUSxJu3c",
        "colab_type": "code",
        "outputId": "66507dbd-129e-452c-fd8f-f44a08683dd1",
        "colab": {
          "base_uri": "https://localhost:8080/",
          "height": 944
        }
      },
      "source": [
        "# targets # fake-1, real-0\n",
        "import torch\n",
        "targets=torch.zeros([BF.shape[0]])\n",
        "for i in range(numFake):\n",
        "  targets[i]=1\n",
        "# targets class\n",
        "target_names = ['0','1']\n",
        "\n",
        "plot(Y)  # distribution over the topics for each document (output of LDA)"
      ],
      "execution_count": 25,
      "outputs": [
        {
          "output_type": "stream",
          "text": [
            "'c' argument looks like a single numeric RGB or RGBA sequence, which should be avoided as value-mapping will have precedence in case its length matches with 'x' & 'y'.  Please use a 2-D array with a single row if you really want to specify the same RGB or RGBA value for all points.\n",
            "'c' argument looks like a single numeric RGB or RGBA sequence, which should be avoided as value-mapping will have precedence in case its length matches with 'x' & 'y'.  Please use a 2-D array with a single row if you really want to specify the same RGB or RGBA value for all points.\n"
          ],
          "name": "stderr"
        },
        {
          "output_type": "display_data",
          "data": {
            "image/png": "[encoded data removed]",
            "text/plain": [
              "<Figure size 1920x1080 with 1 Axes>"
            ]
          },
          "metadata": {
            "tags": [],
            "needs_background": "light"
          }
        }
      ]
    },
    {
      "cell_type": "markdown",
      "metadata": {
        "id": "wYPKQKIvF5ir",
        "colab_type": "text"
      },
      "source": [
        "## 2. Model Design"
      ]
    },
    {
      "cell_type": "code",
      "metadata": {
        "id": "jov2IhD7Kg9p",
        "colab_type": "code",
        "colab": {}
      },
      "source": [
        "import torch\n",
        "import torch.nn as nn\n",
        "import torch.nn as nn\n",
        "import torch.nn.functional as F\n",
        "import torch.optim as optim\n",
        "from sklearn.metrics import accuracy_score"
      ],
      "execution_count": 0,
      "outputs": []
    },
    {
      "cell_type": "markdown",
      "metadata": {
        "id": "8xvxHPuMR75a",
        "colab_type": "text"
      },
      "source": [
        "### 2.1. Final Model"
      ]
    },
    {
      "cell_type": "code",
      "metadata": {
        "id": "kptOm9VdF-WH",
        "colab_type": "code",
        "colab": {}
      },
      "source": [
        "class GRU_model(nn.Module):\n",
        "  def __init__(self):\n",
        "    super(GRU_model, self).__init__()\n",
        "    #You need to use \"bias=False\" when you define Linear functions\n",
        "    self.gru = nn.GRU(emb_size, hidden,batch_first =True, num_layers=1,bidirectional=True)\n",
        "    self.dropout = nn.Dropout(0.5)\n",
        "    self.gru2 = nn.GRU(hidden*2, hidden,batch_first =True, num_layers=1,bidirectional=True)\n",
        "    self.gru3 = nn.GRU(hidden*4, hidden,batch_first =True, num_layers=1,bidirectional=True)\n",
        "    self.relu = nn.LeakyReLU(negative_slope=0.01,inplace=True)\n",
        "    self.hidden= nn.Linear(d2v_size, hidden)\n",
        "    self.attention = Attention(hidden*2)\n",
        "    self.hidden_dim=hidden\n",
        "    if emb_type==3:\n",
        "      self.out  = nn.Linear(hidden*2+hidden, num_classes)\n",
        "    elif emb_type in [1,3]:\n",
        "      self.out  = nn.Linear(hidden, num_classes)\n",
        "    else:\n",
        "      self.out  = nn.Linear(hidden*2, num_classes)\n",
        "\n",
        "  def forward(self, input,d2v): \n",
        "    if emb_type in [0,3]:\n",
        "      lstm_out1, h_n=self.gru(input)\n",
        "      lstm_out1=self.dropout(lstm_out1)\n",
        "      lstm_out2, h_n=self.gru2(lstm_out1)\n",
        "      attention_out, attn=self.attention(lstm_out2,lstm_out1)\n",
        "\n",
        "      x=attention_out.view(input.shape[0],input.shape[1], self.hidden_dim*4)\n",
        "      \n",
        "      lstm_out3, h_n=self.gru3(x)\n",
        "      x=torch.cat((h_n[0,:,:],h_n[1,:,:]),-1)\n",
        "    else:\n",
        "      x=d2v\n",
        "      x=self.hidden(x)\n",
        "    if emb_type==3:\n",
        "      x2 =self.hidden(d2v)\n",
        "      x = torch.cat((x,x2),1)\n",
        "    x = self.dropout(x)\n",
        "    x = self.relu(x)\n",
        "    x = self.out(x)\n",
        "    x = F.log_softmax(x,dim=-1)\n",
        "    return lstm_out3,x,attn"
      ],
      "execution_count": 0,
      "outputs": []
    },
    {
      "cell_type": "markdown",
      "metadata": {
        "id": "VsUX1UCbSDPO",
        "colab_type": "text"
      },
      "source": [
        "### 2.2. Attention score"
      ]
    },
    {
      "cell_type": "code",
      "metadata": {
        "id": "hnwYNR8G53sc",
        "colab_type": "code",
        "colab": {}
      },
      "source": [
        "class Attention(nn.Module):\n",
        "    def __init__(self, hidden_dim):\n",
        "        super(Attention, self).__init__()\n",
        "        self.hidden = hidden_dim\n",
        "        self.linear_in = nn.Linear(self.hidden, self.hidden, bias=False)\n",
        "        self.linear_out = nn.Linear(self.hidden*2, self.hidden*2)\n",
        "        \n",
        "    def forward(self, output, context):\n",
        "        # output: batch_size, output_len, hidden_size\n",
        "        # context: batch_size, context_len, 2*hidden_size\n",
        "        batch_size = output.shape[0]\n",
        "        output_len = output.shape[1]\n",
        "        input_len = context.size(1)\n",
        "        context_in = self.linear_in(context.reshape(batch_size*input_len, -1)).view(                \n",
        "            batch_size, input_len, -1) # batch_size, context_len, hidden_size   \n",
        "        # context_in.transpose(1,2): batch_size, hidden_size, context_len \n",
        "        # output: batch_size, output_len, hidden_size\n",
        "        attn = torch.bmm(output, context_in.transpose(1,2)) \n",
        "        # batch_size, output_len, context_len\n",
        "        attn = F.softmax(attn, dim=2) \n",
        "        # batch_size, output_len, context_len\n",
        "        context = torch.bmm(attn, context)\n",
        "        # batch_size, output_len, hidden_size\n",
        "\n",
        "        output = torch.cat((context, output), dim=2) # batch_size, output_len, hidden_size*2\n",
        "        output = output.view(batch_size*output_len, -1)\n",
        "        output = self.linear_out(output)\n",
        "        output = output.view(batch_size, output_len, -1)\n",
        "        \n",
        "        return output, attn"
      ],
      "execution_count": 0,
      "outputs": []
    },
    {
      "cell_type": "markdown",
      "metadata": {
        "id": "Cpnr8V8oSHTS",
        "colab_type": "text"
      },
      "source": [
        "### 2.3. Dataloader"
      ]
    },
    {
      "cell_type": "code",
      "metadata": {
        "id": "YL-YI6sNIvlH",
        "colab_type": "code",
        "colab": {}
      },
      "source": [
        "class Embeddings(torch.utils.data.Dataset):\n",
        "  def __init__(self,lemm_train,d2v,word_sequence,word_list,word2ind,embedding,labels,maxlen):\n",
        "    super(Embeddings,self).__init__()\n",
        "    self.word_sequence=word_sequence\n",
        "    self.word_list=word_list\n",
        "    self.word2ind=word2ind\n",
        "    self.embedding=torch.Tensor(embedding)\n",
        "    self.labels=labels\n",
        "    self.maxlen=max([len(i)for i in lemm_train])\n",
        "    self.encoded=torch.zeros([len(lemm_train),maxlen,emb_size])\n",
        "    self.d2v=d2v\n",
        "    # Encode each sentence\n",
        "    for i in range(len(lemm_train)):\n",
        "      for j in range(len(lemm_train[i])):\n",
        "        if j==maxlen:\n",
        "          break\n",
        "        self.encoded[i,j]=self.embedding[word2ind[lemm_train[i][j]]]\n",
        "    print(self.encoded.shape[0])\n",
        "\n",
        "  def __getitem__(self,index):\n",
        "    # Return document encoding\n",
        "    input_torch=self.encoded[index]\n",
        "    label=self.labels[index]\n",
        "    docvec=torch.Tensor(self.d2v[index])\n",
        "    return input_torch,docvec,label\n",
        "\n",
        "  def __len__(self):\n",
        "    return self.encoded.shape[0]"
      ],
      "execution_count": 0,
      "outputs": []
    },
    {
      "cell_type": "code",
      "metadata": {
        "id": "Ylcx54BBWPie",
        "colab_type": "code",
        "colab": {}
      },
      "source": [
        "from sklearn.model_selection import train_test_split\n",
        "from torch.utils.data import DataLoader\n",
        "import torch.optim as optim\n",
        "from operator import itemgetter \n",
        "\n",
        "# Initualize target\n",
        "labels=torch.zeros([BF.shape[0]])\n",
        "for i in range(numFake):\n",
        "  labels[i]=1\n",
        "device = torch.device(\"cuda\" if torch.cuda.is_available() else \"cpu\")\n",
        "\n",
        "# Initualize hyper parameters\n",
        "maxlen=1200\n",
        "emb_size=embedding.shape[1]\n",
        "learning_rate = 0.0005\n",
        "batch_size = 16\n",
        "num_classes = 2\n",
        "hidden= 64\n",
        "sample_size=list(range(len(lemm_train)))\n",
        "train_ind, test_ind, y_train, y_test = train_test_split(sample_size, labels, test_size=0.2, random_state=42)\n",
        "\n",
        "# Get training and testing dataset\n",
        "train_text=list(itemgetter(*train_ind)(lemm_train))\n",
        "test_text=list(itemgetter(*test_ind)(lemm_train))"
      ],
      "execution_count": 0,
      "outputs": []
    },
    {
      "cell_type": "code",
      "metadata": {
        "id": "dM0Rpsred8Ex",
        "colab_type": "code",
        "colab": {}
      },
      "source": [
        "\n",
        "train_d2v=[]\n",
        "test_d2v=[]\n",
        "\n",
        "for i in train_ind:\n",
        "  train_d2v.append(doc_weights[i])\n",
        "\n",
        "for i in test_ind:\n",
        "  test_d2v.append(doc_weights[i])\n",
        "\n",
        "d2v_size=len(test_d2v[0])"
      ],
      "execution_count": 0,
      "outputs": []
    },
    {
      "cell_type": "code",
      "metadata": {
        "id": "8dXQCAwNd9n-",
        "colab_type": "code",
        "outputId": "a867e605-ae9d-441d-91a0-c4602ab5f432",
        "colab": {
          "base_uri": "https://localhost:8080/",
          "height": 54
        }
      },
      "source": [
        "# Create dataset and data loader\n",
        "train_samples=Embeddings(train_text,train_d2v,word_sequence,word_list,word2ind,embedding,y_train,maxlen)\n",
        "test_samples=Embeddings(test_text,test_d2v,word_sequence,word_list,word2ind,embedding,y_test,maxlen)\n",
        "\n",
        "train_loader=DataLoader(train_samples, batch_size=batch_size,shuffle=True)\n",
        "test_loader=DataLoader(test_samples, batch_size=len(y_test))"
      ],
      "execution_count": 32,
      "outputs": [
        {
          "output_type": "stream",
          "text": [
            "186\n",
            "47\n"
          ],
          "name": "stdout"
        }
      ]
    },
    {
      "cell_type": "markdown",
      "metadata": {
        "id": "MhHWEq8Lzw9d",
        "colab_type": "text"
      },
      "source": [
        "## 3. Training"
      ]
    },
    {
      "cell_type": "code",
      "metadata": {
        "id": "v5_n-qUmW3Hx",
        "colab_type": "code",
        "outputId": "92ef14d4-de95-425a-8ced-0e7c66d4970b",
        "colab": {
          "base_uri": "https://localhost:8080/",
          "height": 1000
        }
      },
      "source": [
        "import time\n",
        "import copy\n",
        "from sklearn.metrics import f1_score\n",
        "net = GRU_model().to(device)\n",
        "optimiser = optim.Adam(net.parameters(), lr=learning_rate)\n",
        "criterion = nn.NLLLoss()\n",
        "\n",
        "# Collect loss and accuracy for plot\n",
        "train_acces = []\n",
        "test_acces = []\n",
        "train_losses = []\n",
        "test_losses = []\n",
        "\n",
        "start=time.time()\n",
        "lowest_loss=10\n",
        "highest_accuracy=0.0\n",
        "# Get validation dataset \n",
        "for input_torches,docvector,target_torches in test_loader:\n",
        "  input_test,dv_test,target_test=input_torches.to(device),docvector.to(device),target_torches.long().to(device)\n",
        "\n",
        "# Start training\n",
        "for epoch in range(30):\n",
        "  batch_number=1\n",
        "  for input_torches,docvector,target_torches in train_loader:\n",
        "    input_torches,input_dv,target_torches=input_torches.to(device),docvector.to(device),target_torches.long().to(device)\n",
        "    net.train()\n",
        "    _,outputs,_ = net(input_torches,input_dv) \n",
        "    loss = criterion(outputs, target_torches)\n",
        "    loss.backward() \n",
        "    optimiser.step()\n",
        "    optimiser.zero_grad()\n",
        "    end=time.time()\n",
        "\n",
        "    net.eval()\n",
        "    _,outputs,_ = net(input_torches,input_dv) \n",
        "    loss = criterion(outputs, target_torches)\n",
        "    _, predicted = torch.max(outputs, 1)\n",
        "    train_acc = accuracy_score(predicted.cpu().numpy(),target_torches.cpu().numpy())\n",
        "    train_acces.append(train_acc)\n",
        "\n",
        "    _,outputs2,_ = net(input_test,dv_test)\n",
        "    loss2 = criterion(outputs2, target_test)\n",
        "    _, predicted = torch.max(outputs2, 1)\n",
        "    test_acc = accuracy_score(predicted.cpu().numpy(),target_test.cpu().numpy())\n",
        "    test_acces.append(test_acc)\n",
        "\n",
        "    if loss2.item()<lowest_loss:\n",
        "      lowest_loss=loss2.item()\n",
        "      save_model_loss= copy.deepcopy(net)\n",
        "    if test_acc>highest_accuracy:\n",
        "      highest_accuracy=test_acc\n",
        "      save_model_acc= copy.deepcopy(net)\n",
        "\n",
        "    train_losses.append(loss.item())\n",
        "    test_losses.append(loss2.item())\n",
        "    print('Epoch: %d,Batch: %d, train_loss: %.5f, train_acc: %.3f, test_loss: %.5f, test_acc: %.3f' %(epoch+1 ,batch_number , loss.item(), train_acc, loss2.item(), test_acc))\n",
        "    batch_number += 1\n",
        "stop = time.time()\n",
        "print('Runtime: ', stop - start)  "
      ],
      "execution_count": 34,
      "outputs": [
        {
          "output_type": "stream",
          "text": [
            "Epoch: 1,Batch: 1, train_loss: 0.69469, train_acc: 0.625, test_loss: 0.70334, test_acc: 0.447\n",
            "Epoch: 1,Batch: 2, train_loss: 0.68823, train_acc: 0.562, test_loss: 0.70429, test_acc: 0.447\n",
            "Epoch: 1,Batch: 3, train_loss: 0.69424, train_acc: 0.500, test_loss: 0.70316, test_acc: 0.447\n",
            "Epoch: 1,Batch: 4, train_loss: 0.68977, train_acc: 0.500, test_loss: 0.70028, test_acc: 0.447\n",
            "Epoch: 1,Batch: 5, train_loss: 0.69018, train_acc: 0.562, test_loss: 0.69655, test_acc: 0.447\n",
            "Epoch: 1,Batch: 6, train_loss: 0.69741, train_acc: 0.375, test_loss: 0.69172, test_acc: 0.511\n",
            "Epoch: 1,Batch: 7, train_loss: 0.69140, train_acc: 0.625, test_loss: 0.68851, test_acc: 0.596\n",
            "Epoch: 1,Batch: 8, train_loss: 0.68800, train_acc: 0.562, test_loss: 0.68561, test_acc: 0.617\n",
            "Epoch: 1,Batch: 9, train_loss: 0.67532, train_acc: 0.562, test_loss: 0.68233, test_acc: 0.574\n",
            "Epoch: 1,Batch: 10, train_loss: 0.69173, train_acc: 0.500, test_loss: 0.67969, test_acc: 0.553\n",
            "Epoch: 1,Batch: 11, train_loss: 0.68620, train_acc: 0.500, test_loss: 0.67731, test_acc: 0.553\n",
            "Epoch: 1,Batch: 12, train_loss: 0.70445, train_acc: 0.400, test_loss: 0.67578, test_acc: 0.553\n",
            "Epoch: 2,Batch: 1, train_loss: 0.67807, train_acc: 0.500, test_loss: 0.67417, test_acc: 0.553\n",
            "Epoch: 2,Batch: 2, train_loss: 0.67536, train_acc: 0.500, test_loss: 0.67256, test_acc: 0.553\n",
            "Epoch: 2,Batch: 3, train_loss: 0.66473, train_acc: 0.562, test_loss: 0.67062, test_acc: 0.553\n",
            "Epoch: 2,Batch: 4, train_loss: 0.68771, train_acc: 0.500, test_loss: 0.66900, test_acc: 0.553\n",
            "Epoch: 2,Batch: 5, train_loss: 0.68929, train_acc: 0.375, test_loss: 0.66774, test_acc: 0.553\n",
            "Epoch: 2,Batch: 6, train_loss: 0.69672, train_acc: 0.250, test_loss: 0.66743, test_acc: 0.553\n",
            "Epoch: 2,Batch: 7, train_loss: 0.67978, train_acc: 0.625, test_loss: 0.66698, test_acc: 0.638\n",
            "Epoch: 2,Batch: 8, train_loss: 0.64138, train_acc: 0.625, test_loss: 0.66539, test_acc: 0.702\n",
            "Epoch: 2,Batch: 9, train_loss: 0.66179, train_acc: 0.625, test_loss: 0.66351, test_acc: 0.723\n",
            "Epoch: 2,Batch: 10, train_loss: 0.65665, train_acc: 0.750, test_loss: 0.66047, test_acc: 0.766\n",
            "Epoch: 2,Batch: 11, train_loss: 0.65838, train_acc: 0.688, test_loss: 0.65647, test_acc: 0.766\n",
            "Epoch: 2,Batch: 12, train_loss: 0.69005, train_acc: 0.600, test_loss: 0.65321, test_acc: 0.745\n",
            "Epoch: 3,Batch: 1, train_loss: 0.60179, train_acc: 0.688, test_loss: 0.64775, test_acc: 0.766\n",
            "Epoch: 3,Batch: 2, train_loss: 0.66330, train_acc: 0.562, test_loss: 0.64239, test_acc: 0.766\n",
            "Epoch: 3,Batch: 3, train_loss: 0.65996, train_acc: 0.625, test_loss: 0.63641, test_acc: 0.787\n",
            "Epoch: 3,Batch: 4, train_loss: 0.59945, train_acc: 0.750, test_loss: 0.62888, test_acc: 0.702\n",
            "Epoch: 3,Batch: 5, train_loss: 0.59511, train_acc: 0.688, test_loss: 0.62265, test_acc: 0.702\n",
            "Epoch: 3,Batch: 6, train_loss: 0.68909, train_acc: 0.625, test_loss: 0.61938, test_acc: 0.660\n",
            "Epoch: 3,Batch: 7, train_loss: 0.63621, train_acc: 0.500, test_loss: 0.61445, test_acc: 0.660\n",
            "Epoch: 3,Batch: 8, train_loss: 0.59005, train_acc: 0.688, test_loss: 0.60843, test_acc: 0.660\n",
            "Epoch: 3,Batch: 9, train_loss: 0.66329, train_acc: 0.562, test_loss: 0.60117, test_acc: 0.745\n",
            "Epoch: 3,Batch: 10, train_loss: 0.64731, train_acc: 0.562, test_loss: 0.59683, test_acc: 0.787\n",
            "Epoch: 3,Batch: 11, train_loss: 0.57425, train_acc: 0.812, test_loss: 0.59910, test_acc: 0.723\n",
            "Epoch: 3,Batch: 12, train_loss: 0.63856, train_acc: 0.600, test_loss: 0.60919, test_acc: 0.766\n",
            "Epoch: 4,Batch: 1, train_loss: 0.57105, train_acc: 0.812, test_loss: 0.61680, test_acc: 0.723\n",
            "Epoch: 4,Batch: 2, train_loss: 0.57300, train_acc: 0.812, test_loss: 0.62349, test_acc: 0.702\n",
            "Epoch: 4,Batch: 3, train_loss: 0.60513, train_acc: 0.750, test_loss: 0.62893, test_acc: 0.660\n",
            "Epoch: 4,Batch: 4, train_loss: 0.56997, train_acc: 0.750, test_loss: 0.62950, test_acc: 0.660\n",
            "Epoch: 4,Batch: 5, train_loss: 0.62002, train_acc: 0.625, test_loss: 0.62725, test_acc: 0.660\n",
            "Epoch: 4,Batch: 6, train_loss: 0.59696, train_acc: 0.625, test_loss: 0.61147, test_acc: 0.681\n",
            "Epoch: 4,Batch: 7, train_loss: 0.51382, train_acc: 0.812, test_loss: 0.58877, test_acc: 0.681\n",
            "Epoch: 4,Batch: 8, train_loss: 0.52722, train_acc: 0.875, test_loss: 0.56091, test_acc: 0.745\n",
            "Epoch: 4,Batch: 9, train_loss: 0.59518, train_acc: 0.688, test_loss: 0.53589, test_acc: 0.745\n",
            "Epoch: 4,Batch: 10, train_loss: 0.55205, train_acc: 0.625, test_loss: 0.51921, test_acc: 0.745\n",
            "Epoch: 4,Batch: 11, train_loss: 0.51794, train_acc: 0.688, test_loss: 0.51224, test_acc: 0.787\n",
            "Epoch: 4,Batch: 12, train_loss: 0.39193, train_acc: 0.900, test_loss: 0.51313, test_acc: 0.830\n",
            "Epoch: 5,Batch: 1, train_loss: 0.51356, train_acc: 0.812, test_loss: 0.51708, test_acc: 0.787\n",
            "Epoch: 5,Batch: 2, train_loss: 0.62137, train_acc: 0.688, test_loss: 0.50959, test_acc: 0.787\n",
            "Epoch: 5,Batch: 3, train_loss: 0.59921, train_acc: 0.750, test_loss: 0.49204, test_acc: 0.787\n",
            "Epoch: 5,Batch: 4, train_loss: 0.52527, train_acc: 0.750, test_loss: 0.48267, test_acc: 0.766\n",
            "Epoch: 5,Batch: 5, train_loss: 0.43171, train_acc: 0.875, test_loss: 0.48332, test_acc: 0.745\n",
            "Epoch: 5,Batch: 6, train_loss: 0.37151, train_acc: 0.938, test_loss: 0.49316, test_acc: 0.787\n",
            "Epoch: 5,Batch: 7, train_loss: 0.48860, train_acc: 0.750, test_loss: 0.50674, test_acc: 0.766\n",
            "Epoch: 5,Batch: 8, train_loss: 0.50046, train_acc: 0.750, test_loss: 0.50970, test_acc: 0.766\n",
            "Epoch: 5,Batch: 9, train_loss: 0.31875, train_acc: 0.938, test_loss: 0.51016, test_acc: 0.766\n",
            "Epoch: 5,Batch: 10, train_loss: 0.39971, train_acc: 0.812, test_loss: 0.50219, test_acc: 0.787\n",
            "Epoch: 5,Batch: 11, train_loss: 0.50227, train_acc: 0.750, test_loss: 0.48337, test_acc: 0.787\n",
            "Epoch: 5,Batch: 12, train_loss: 0.36693, train_acc: 0.900, test_loss: 0.46822, test_acc: 0.809\n",
            "Epoch: 6,Batch: 1, train_loss: 0.40513, train_acc: 0.812, test_loss: 0.45380, test_acc: 0.766\n",
            "Epoch: 6,Batch: 2, train_loss: 0.35684, train_acc: 0.812, test_loss: 0.44104, test_acc: 0.766\n",
            "Epoch: 6,Batch: 3, train_loss: 0.37272, train_acc: 0.875, test_loss: 0.43476, test_acc: 0.851\n",
            "Epoch: 6,Batch: 4, train_loss: 0.52178, train_acc: 0.688, test_loss: 0.43158, test_acc: 0.851\n",
            "Epoch: 6,Batch: 5, train_loss: 0.23135, train_acc: 1.000, test_loss: 0.42439, test_acc: 0.851\n",
            "Epoch: 6,Batch: 6, train_loss: 0.22002, train_acc: 1.000, test_loss: 0.41536, test_acc: 0.809\n",
            "Epoch: 6,Batch: 7, train_loss: 0.38360, train_acc: 0.812, test_loss: 0.40769, test_acc: 0.745\n",
            "Epoch: 6,Batch: 8, train_loss: 0.31704, train_acc: 0.812, test_loss: 0.40140, test_acc: 0.809\n",
            "Epoch: 6,Batch: 9, train_loss: 0.22059, train_acc: 1.000, test_loss: 0.40759, test_acc: 0.830\n",
            "Epoch: 6,Batch: 10, train_loss: 0.50671, train_acc: 0.688, test_loss: 0.44249, test_acc: 0.809\n",
            "Epoch: 6,Batch: 11, train_loss: 0.46067, train_acc: 0.812, test_loss: 0.44667, test_acc: 0.787\n",
            "Epoch: 6,Batch: 12, train_loss: 0.20180, train_acc: 1.000, test_loss: 0.44116, test_acc: 0.787\n",
            "Epoch: 7,Batch: 1, train_loss: 0.41331, train_acc: 0.812, test_loss: 0.42534, test_acc: 0.809\n",
            "Epoch: 7,Batch: 2, train_loss: 0.27608, train_acc: 0.938, test_loss: 0.40274, test_acc: 0.830\n",
            "Epoch: 7,Batch: 3, train_loss: 0.32384, train_acc: 0.875, test_loss: 0.35727, test_acc: 0.830\n",
            "Epoch: 7,Batch: 4, train_loss: 0.23108, train_acc: 0.938, test_loss: 0.33469, test_acc: 0.894\n",
            "Epoch: 7,Batch: 5, train_loss: 0.15640, train_acc: 1.000, test_loss: 0.35381, test_acc: 0.851\n",
            "Epoch: 7,Batch: 6, train_loss: 0.32694, train_acc: 0.875, test_loss: 0.38593, test_acc: 0.851\n",
            "Epoch: 7,Batch: 7, train_loss: 0.32738, train_acc: 0.938, test_loss: 0.38328, test_acc: 0.851\n",
            "Epoch: 7,Batch: 8, train_loss: 0.28944, train_acc: 0.938, test_loss: 0.37521, test_acc: 0.851\n",
            "Epoch: 7,Batch: 9, train_loss: 0.12367, train_acc: 1.000, test_loss: 0.35729, test_acc: 0.851\n",
            "Epoch: 7,Batch: 10, train_loss: 0.08634, train_acc: 1.000, test_loss: 0.34188, test_acc: 0.872\n",
            "Epoch: 7,Batch: 11, train_loss: 0.11951, train_acc: 1.000, test_loss: 0.32404, test_acc: 0.915\n",
            "Epoch: 7,Batch: 12, train_loss: 0.56395, train_acc: 0.700, test_loss: 0.34422, test_acc: 0.851\n",
            "Epoch: 8,Batch: 1, train_loss: 0.10977, train_acc: 1.000, test_loss: 0.38698, test_acc: 0.851\n",
            "Epoch: 8,Batch: 2, train_loss: 0.14232, train_acc: 1.000, test_loss: 0.42014, test_acc: 0.809\n",
            "Epoch: 8,Batch: 3, train_loss: 0.50776, train_acc: 0.812, test_loss: 0.43242, test_acc: 0.809\n",
            "Epoch: 8,Batch: 4, train_loss: 0.16160, train_acc: 0.938, test_loss: 0.42735, test_acc: 0.809\n",
            "Epoch: 8,Batch: 5, train_loss: 0.16280, train_acc: 0.938, test_loss: 0.39534, test_acc: 0.809\n",
            "Epoch: 8,Batch: 6, train_loss: 0.15085, train_acc: 0.938, test_loss: 0.40200, test_acc: 0.809\n",
            "Epoch: 8,Batch: 7, train_loss: 0.16068, train_acc: 1.000, test_loss: 0.39357, test_acc: 0.809\n",
            "Epoch: 8,Batch: 8, train_loss: 0.33712, train_acc: 0.875, test_loss: 0.37464, test_acc: 0.851\n",
            "Epoch: 8,Batch: 9, train_loss: 0.31300, train_acc: 0.875, test_loss: 0.34699, test_acc: 0.851\n",
            "Epoch: 8,Batch: 10, train_loss: 0.28343, train_acc: 0.875, test_loss: 0.34331, test_acc: 0.872\n",
            "Epoch: 8,Batch: 11, train_loss: 0.13471, train_acc: 0.938, test_loss: 0.35976, test_acc: 0.872\n",
            "Epoch: 8,Batch: 12, train_loss: 0.34843, train_acc: 0.900, test_loss: 0.34601, test_acc: 0.851\n",
            "Epoch: 9,Batch: 1, train_loss: 0.26773, train_acc: 0.938, test_loss: 0.33535, test_acc: 0.851\n",
            "Epoch: 9,Batch: 2, train_loss: 0.10874, train_acc: 1.000, test_loss: 0.36812, test_acc: 0.830\n",
            "Epoch: 9,Batch: 3, train_loss: 0.17560, train_acc: 0.938, test_loss: 0.41146, test_acc: 0.809\n",
            "Epoch: 9,Batch: 4, train_loss: 0.11259, train_acc: 1.000, test_loss: 0.42511, test_acc: 0.809\n",
            "Epoch: 9,Batch: 5, train_loss: 0.18140, train_acc: 0.938, test_loss: 0.41071, test_acc: 0.809\n",
            "Epoch: 9,Batch: 6, train_loss: 0.20319, train_acc: 0.938, test_loss: 0.34991, test_acc: 0.851\n",
            "Epoch: 9,Batch: 7, train_loss: 0.08143, train_acc: 1.000, test_loss: 0.34084, test_acc: 0.830\n",
            "Epoch: 9,Batch: 8, train_loss: 0.07228, train_acc: 1.000, test_loss: 0.37921, test_acc: 0.830\n",
            "Epoch: 9,Batch: 9, train_loss: 0.23874, train_acc: 0.938, test_loss: 0.41279, test_acc: 0.809\n",
            "Epoch: 9,Batch: 10, train_loss: 0.41783, train_acc: 0.812, test_loss: 0.42203, test_acc: 0.830\n",
            "Epoch: 9,Batch: 11, train_loss: 0.16777, train_acc: 0.875, test_loss: 0.42175, test_acc: 0.830\n",
            "Epoch: 9,Batch: 12, train_loss: 0.05081, train_acc: 1.000, test_loss: 0.41859, test_acc: 0.809\n",
            "Epoch: 10,Batch: 1, train_loss: 0.27345, train_acc: 0.938, test_loss: 0.41411, test_acc: 0.809\n",
            "Epoch: 10,Batch: 2, train_loss: 0.07957, train_acc: 1.000, test_loss: 0.39160, test_acc: 0.830\n",
            "Epoch: 10,Batch: 3, train_loss: 0.14545, train_acc: 0.938, test_loss: 0.36920, test_acc: 0.830\n",
            "Epoch: 10,Batch: 4, train_loss: 0.10115, train_acc: 1.000, test_loss: 0.34845, test_acc: 0.872\n",
            "Epoch: 10,Batch: 5, train_loss: 0.07889, train_acc: 1.000, test_loss: 0.35480, test_acc: 0.851\n",
            "Epoch: 10,Batch: 6, train_loss: 0.15563, train_acc: 0.938, test_loss: 0.39161, test_acc: 0.851\n",
            "Epoch: 10,Batch: 7, train_loss: 0.07832, train_acc: 1.000, test_loss: 0.42687, test_acc: 0.809\n",
            "Epoch: 10,Batch: 8, train_loss: 0.12181, train_acc: 1.000, test_loss: 0.45499, test_acc: 0.830\n",
            "Epoch: 10,Batch: 9, train_loss: 0.11901, train_acc: 0.938, test_loss: 0.46241, test_acc: 0.830\n",
            "Epoch: 10,Batch: 10, train_loss: 0.23803, train_acc: 0.938, test_loss: 0.46404, test_acc: 0.830\n",
            "Epoch: 10,Batch: 11, train_loss: 0.15643, train_acc: 0.938, test_loss: 0.45684, test_acc: 0.830\n",
            "Epoch: 10,Batch: 12, train_loss: 0.12870, train_acc: 0.900, test_loss: 0.43924, test_acc: 0.830\n",
            "Epoch: 11,Batch: 1, train_loss: 0.06420, train_acc: 1.000, test_loss: 0.41367, test_acc: 0.809\n",
            "Epoch: 11,Batch: 2, train_loss: 0.07528, train_acc: 1.000, test_loss: 0.37845, test_acc: 0.809\n",
            "Epoch: 11,Batch: 3, train_loss: 0.09108, train_acc: 1.000, test_loss: 0.33794, test_acc: 0.872\n",
            "Epoch: 11,Batch: 4, train_loss: 0.04734, train_acc: 1.000, test_loss: 0.34055, test_acc: 0.872\n",
            "Epoch: 11,Batch: 5, train_loss: 0.04704, train_acc: 1.000, test_loss: 0.35915, test_acc: 0.851\n",
            "Epoch: 11,Batch: 6, train_loss: 0.20955, train_acc: 0.938, test_loss: 0.37582, test_acc: 0.851\n",
            "Epoch: 11,Batch: 7, train_loss: 0.05649, train_acc: 1.000, test_loss: 0.35033, test_acc: 0.872\n",
            "Epoch: 11,Batch: 8, train_loss: 0.09288, train_acc: 1.000, test_loss: 0.33575, test_acc: 0.872\n",
            "Epoch: 11,Batch: 9, train_loss: 0.02992, train_acc: 1.000, test_loss: 0.34134, test_acc: 0.872\n",
            "Epoch: 11,Batch: 10, train_loss: 0.05501, train_acc: 1.000, test_loss: 0.36013, test_acc: 0.851\n",
            "Epoch: 11,Batch: 11, train_loss: 0.26458, train_acc: 0.938, test_loss: 0.36016, test_acc: 0.851\n",
            "Epoch: 11,Batch: 12, train_loss: 0.07100, train_acc: 1.000, test_loss: 0.37580, test_acc: 0.809\n",
            "Epoch: 12,Batch: 1, train_loss: 0.06758, train_acc: 1.000, test_loss: 0.38865, test_acc: 0.830\n",
            "Epoch: 12,Batch: 2, train_loss: 0.04921, train_acc: 1.000, test_loss: 0.39392, test_acc: 0.830\n",
            "Epoch: 12,Batch: 3, train_loss: 0.06351, train_acc: 1.000, test_loss: 0.39232, test_acc: 0.830\n",
            "Epoch: 12,Batch: 4, train_loss: 0.05208, train_acc: 1.000, test_loss: 0.37513, test_acc: 0.830\n",
            "Epoch: 12,Batch: 5, train_loss: 0.03746, train_acc: 1.000, test_loss: 0.36074, test_acc: 0.830\n",
            "Epoch: 12,Batch: 6, train_loss: 0.05537, train_acc: 1.000, test_loss: 0.34347, test_acc: 0.851\n",
            "Epoch: 12,Batch: 7, train_loss: 0.24988, train_acc: 0.938, test_loss: 0.26799, test_acc: 0.894\n",
            "Epoch: 12,Batch: 8, train_loss: 0.03690, train_acc: 1.000, test_loss: 0.25017, test_acc: 0.915\n",
            "Epoch: 12,Batch: 9, train_loss: 0.02914, train_acc: 1.000, test_loss: 0.26799, test_acc: 0.915\n",
            "Epoch: 12,Batch: 10, train_loss: 0.02894, train_acc: 1.000, test_loss: 0.32484, test_acc: 0.851\n",
            "Epoch: 12,Batch: 11, train_loss: 0.07320, train_acc: 1.000, test_loss: 0.26750, test_acc: 0.915\n",
            "Epoch: 12,Batch: 12, train_loss: 0.03469, train_acc: 1.000, test_loss: 0.22089, test_acc: 0.894\n",
            "Epoch: 13,Batch: 1, train_loss: 0.13640, train_acc: 0.938, test_loss: 0.25488, test_acc: 0.894\n",
            "Epoch: 13,Batch: 2, train_loss: 0.04839, train_acc: 1.000, test_loss: 0.31824, test_acc: 0.872\n",
            "Epoch: 13,Batch: 3, train_loss: 0.03406, train_acc: 1.000, test_loss: 0.37959, test_acc: 0.872\n",
            "Epoch: 13,Batch: 4, train_loss: 0.05819, train_acc: 1.000, test_loss: 0.42011, test_acc: 0.851\n",
            "Epoch: 13,Batch: 5, train_loss: 0.18790, train_acc: 0.938, test_loss: 0.39189, test_acc: 0.851\n",
            "Epoch: 13,Batch: 6, train_loss: 0.05653, train_acc: 1.000, test_loss: 0.32389, test_acc: 0.872\n",
            "Epoch: 13,Batch: 7, train_loss: 0.03659, train_acc: 1.000, test_loss: 0.26819, test_acc: 0.894\n",
            "Epoch: 13,Batch: 8, train_loss: 0.03674, train_acc: 1.000, test_loss: 0.26450, test_acc: 0.894\n",
            "Epoch: 13,Batch: 9, train_loss: 0.02492, train_acc: 1.000, test_loss: 0.28743, test_acc: 0.894\n",
            "Epoch: 13,Batch: 10, train_loss: 0.19089, train_acc: 0.938, test_loss: 0.31880, test_acc: 0.872\n",
            "Epoch: 13,Batch: 11, train_loss: 0.04195, train_acc: 1.000, test_loss: 0.35397, test_acc: 0.872\n",
            "Epoch: 13,Batch: 12, train_loss: 0.12981, train_acc: 0.900, test_loss: 0.35795, test_acc: 0.872\n",
            "Epoch: 14,Batch: 1, train_loss: 0.02841, train_acc: 1.000, test_loss: 0.36209, test_acc: 0.872\n",
            "Epoch: 14,Batch: 2, train_loss: 0.04390, train_acc: 1.000, test_loss: 0.35841, test_acc: 0.872\n",
            "Epoch: 14,Batch: 3, train_loss: 0.04173, train_acc: 1.000, test_loss: 0.33177, test_acc: 0.872\n",
            "Epoch: 14,Batch: 4, train_loss: 0.03842, train_acc: 1.000, test_loss: 0.28964, test_acc: 0.894\n",
            "Epoch: 14,Batch: 5, train_loss: 0.19758, train_acc: 0.938, test_loss: 0.27376, test_acc: 0.894\n",
            "Epoch: 14,Batch: 6, train_loss: 0.03012, train_acc: 1.000, test_loss: 0.29063, test_acc: 0.894\n",
            "Epoch: 14,Batch: 7, train_loss: 0.03113, train_acc: 1.000, test_loss: 0.33077, test_acc: 0.872\n",
            "Epoch: 14,Batch: 8, train_loss: 0.03494, train_acc: 1.000, test_loss: 0.37605, test_acc: 0.872\n",
            "Epoch: 14,Batch: 9, train_loss: 0.08454, train_acc: 1.000, test_loss: 0.40045, test_acc: 0.872\n",
            "Epoch: 14,Batch: 10, train_loss: 0.15414, train_acc: 0.875, test_loss: 0.35258, test_acc: 0.872\n",
            "Epoch: 14,Batch: 11, train_loss: 0.02844, train_acc: 1.000, test_loss: 0.30599, test_acc: 0.872\n",
            "Epoch: 14,Batch: 12, train_loss: 0.02879, train_acc: 1.000, test_loss: 0.27111, test_acc: 0.894\n",
            "Epoch: 15,Batch: 1, train_loss: 0.03830, train_acc: 1.000, test_loss: 0.25013, test_acc: 0.915\n",
            "Epoch: 15,Batch: 2, train_loss: 0.02831, train_acc: 1.000, test_loss: 0.23870, test_acc: 0.915\n",
            "Epoch: 15,Batch: 3, train_loss: 0.02291, train_acc: 1.000, test_loss: 0.23732, test_acc: 0.894\n",
            "Epoch: 15,Batch: 4, train_loss: 0.02127, train_acc: 1.000, test_loss: 0.24321, test_acc: 0.872\n",
            "Epoch: 15,Batch: 5, train_loss: 0.03150, train_acc: 1.000, test_loss: 0.25649, test_acc: 0.894\n",
            "Epoch: 15,Batch: 6, train_loss: 0.02238, train_acc: 1.000, test_loss: 0.27413, test_acc: 0.894\n",
            "Epoch: 15,Batch: 7, train_loss: 0.02088, train_acc: 1.000, test_loss: 0.29395, test_acc: 0.894\n",
            "Epoch: 15,Batch: 8, train_loss: 0.01624, train_acc: 1.000, test_loss: 0.31052, test_acc: 0.872\n",
            "Epoch: 15,Batch: 9, train_loss: 0.19426, train_acc: 0.938, test_loss: 0.32223, test_acc: 0.872\n",
            "Epoch: 15,Batch: 10, train_loss: 0.01513, train_acc: 1.000, test_loss: 0.33080, test_acc: 0.872\n",
            "Epoch: 15,Batch: 11, train_loss: 0.03593, train_acc: 1.000, test_loss: 0.31524, test_acc: 0.872\n",
            "Epoch: 15,Batch: 12, train_loss: 0.05651, train_acc: 1.000, test_loss: 0.27803, test_acc: 0.894\n",
            "Epoch: 16,Batch: 1, train_loss: 0.18623, train_acc: 0.938, test_loss: 0.24232, test_acc: 0.894\n",
            "Epoch: 16,Batch: 2, train_loss: 0.02395, train_acc: 1.000, test_loss: 0.23555, test_acc: 0.915\n",
            "Epoch: 16,Batch: 3, train_loss: 0.02691, train_acc: 1.000, test_loss: 0.23854, test_acc: 0.915\n",
            "Epoch: 16,Batch: 4, train_loss: 0.01588, train_acc: 1.000, test_loss: 0.24163, test_acc: 0.915\n",
            "Epoch: 16,Batch: 5, train_loss: 0.02507, train_acc: 1.000, test_loss: 0.24456, test_acc: 0.915\n",
            "Epoch: 16,Batch: 6, train_loss: 0.02240, train_acc: 1.000, test_loss: 0.24695, test_acc: 0.915\n",
            "Epoch: 16,Batch: 7, train_loss: 0.02029, train_acc: 1.000, test_loss: 0.24921, test_acc: 0.915\n",
            "Epoch: 16,Batch: 8, train_loss: 0.01437, train_acc: 1.000, test_loss: 0.25384, test_acc: 0.872\n",
            "Epoch: 16,Batch: 9, train_loss: 0.02147, train_acc: 1.000, test_loss: 0.26281, test_acc: 0.872\n",
            "Epoch: 16,Batch: 10, train_loss: 0.02304, train_acc: 1.000, test_loss: 0.28496, test_acc: 0.872\n",
            "Epoch: 16,Batch: 11, train_loss: 0.02380, train_acc: 1.000, test_loss: 0.30740, test_acc: 0.894\n",
            "Epoch: 16,Batch: 12, train_loss: 0.02213, train_acc: 1.000, test_loss: 0.32629, test_acc: 0.894\n",
            "Epoch: 17,Batch: 1, train_loss: 0.02510, train_acc: 1.000, test_loss: 0.34362, test_acc: 0.894\n",
            "Epoch: 17,Batch: 2, train_loss: 0.01752, train_acc: 1.000, test_loss: 0.35930, test_acc: 0.872\n",
            "Epoch: 17,Batch: 3, train_loss: 0.01780, train_acc: 1.000, test_loss: 0.37450, test_acc: 0.872\n",
            "Epoch: 17,Batch: 4, train_loss: 0.01444, train_acc: 1.000, test_loss: 0.38806, test_acc: 0.872\n",
            "Epoch: 17,Batch: 5, train_loss: 0.02524, train_acc: 1.000, test_loss: 0.39854, test_acc: 0.872\n",
            "Epoch: 17,Batch: 6, train_loss: 0.01817, train_acc: 1.000, test_loss: 0.40366, test_acc: 0.872\n",
            "Epoch: 17,Batch: 7, train_loss: 0.01560, train_acc: 1.000, test_loss: 0.40723, test_acc: 0.872\n",
            "Epoch: 17,Batch: 8, train_loss: 0.01913, train_acc: 1.000, test_loss: 0.40905, test_acc: 0.872\n",
            "Epoch: 17,Batch: 9, train_loss: 0.01246, train_acc: 1.000, test_loss: 0.40589, test_acc: 0.872\n",
            "Epoch: 17,Batch: 10, train_loss: 0.01085, train_acc: 1.000, test_loss: 0.40383, test_acc: 0.872\n",
            "Epoch: 17,Batch: 11, train_loss: 0.17412, train_acc: 0.938, test_loss: 0.39827, test_acc: 0.872\n",
            "Epoch: 17,Batch: 12, train_loss: 0.02702, train_acc: 1.000, test_loss: 0.39417, test_acc: 0.894\n",
            "Epoch: 18,Batch: 1, train_loss: 0.02086, train_acc: 1.000, test_loss: 0.38990, test_acc: 0.894\n",
            "Epoch: 18,Batch: 2, train_loss: 0.01217, train_acc: 1.000, test_loss: 0.38620, test_acc: 0.894\n",
            "Epoch: 18,Batch: 3, train_loss: 0.01915, train_acc: 1.000, test_loss: 0.38361, test_acc: 0.894\n",
            "Epoch: 18,Batch: 4, train_loss: 0.01012, train_acc: 1.000, test_loss: 0.38160, test_acc: 0.894\n",
            "Epoch: 18,Batch: 5, train_loss: 0.01992, train_acc: 1.000, test_loss: 0.38093, test_acc: 0.894\n",
            "Epoch: 18,Batch: 6, train_loss: 0.15740, train_acc: 0.938, test_loss: 0.37886, test_acc: 0.894\n",
            "Epoch: 18,Batch: 7, train_loss: 0.01759, train_acc: 1.000, test_loss: 0.37790, test_acc: 0.894\n",
            "Epoch: 18,Batch: 8, train_loss: 0.02333, train_acc: 1.000, test_loss: 0.37780, test_acc: 0.894\n",
            "Epoch: 18,Batch: 9, train_loss: 0.02465, train_acc: 1.000, test_loss: 0.37818, test_acc: 0.894\n",
            "Epoch: 18,Batch: 10, train_loss: 0.01991, train_acc: 1.000, test_loss: 0.37779, test_acc: 0.894\n",
            "Epoch: 18,Batch: 11, train_loss: 0.02569, train_acc: 1.000, test_loss: 0.37778, test_acc: 0.894\n",
            "Epoch: 18,Batch: 12, train_loss: 0.01291, train_acc: 1.000, test_loss: 0.37776, test_acc: 0.894\n",
            "Epoch: 19,Batch: 1, train_loss: 0.01958, train_acc: 1.000, test_loss: 0.37787, test_acc: 0.894\n",
            "Epoch: 19,Batch: 2, train_loss: 0.01855, train_acc: 1.000, test_loss: 0.37819, test_acc: 0.894\n",
            "Epoch: 19,Batch: 3, train_loss: 0.00930, train_acc: 1.000, test_loss: 0.37857, test_acc: 0.894\n",
            "Epoch: 19,Batch: 4, train_loss: 0.15749, train_acc: 0.938, test_loss: 0.37711, test_acc: 0.894\n",
            "Epoch: 19,Batch: 5, train_loss: 0.00805, train_acc: 1.000, test_loss: 0.37611, test_acc: 0.894\n",
            "Epoch: 19,Batch: 6, train_loss: 0.01648, train_acc: 1.000, test_loss: 0.37527, test_acc: 0.894\n",
            "Epoch: 19,Batch: 7, train_loss: 0.00861, train_acc: 1.000, test_loss: 0.37445, test_acc: 0.894\n",
            "Epoch: 19,Batch: 8, train_loss: 0.01238, train_acc: 1.000, test_loss: 0.37314, test_acc: 0.894\n",
            "Epoch: 19,Batch: 9, train_loss: 0.01314, train_acc: 1.000, test_loss: 0.36789, test_acc: 0.894\n",
            "Epoch: 19,Batch: 10, train_loss: 0.01486, train_acc: 1.000, test_loss: 0.36153, test_acc: 0.872\n",
            "Epoch: 19,Batch: 11, train_loss: 0.02302, train_acc: 1.000, test_loss: 0.35478, test_acc: 0.872\n",
            "Epoch: 19,Batch: 12, train_loss: 0.02376, train_acc: 1.000, test_loss: 0.35399, test_acc: 0.894\n",
            "Epoch: 20,Batch: 1, train_loss: 0.01998, train_acc: 1.000, test_loss: 0.35524, test_acc: 0.894\n",
            "Epoch: 20,Batch: 2, train_loss: 0.01550, train_acc: 1.000, test_loss: 0.35857, test_acc: 0.894\n",
            "Epoch: 20,Batch: 3, train_loss: 0.01797, train_acc: 1.000, test_loss: 0.36328, test_acc: 0.894\n",
            "Epoch: 20,Batch: 4, train_loss: 0.01151, train_acc: 1.000, test_loss: 0.36951, test_acc: 0.894\n",
            "Epoch: 20,Batch: 5, train_loss: 0.14754, train_acc: 0.938, test_loss: 0.36747, test_acc: 0.894\n",
            "Epoch: 20,Batch: 6, train_loss: 0.00439, train_acc: 1.000, test_loss: 0.36590, test_acc: 0.894\n",
            "Epoch: 20,Batch: 7, train_loss: 0.01436, train_acc: 1.000, test_loss: 0.36428, test_acc: 0.894\n",
            "Epoch: 20,Batch: 8, train_loss: 0.01182, train_acc: 1.000, test_loss: 0.36186, test_acc: 0.894\n",
            "Epoch: 20,Batch: 9, train_loss: 0.01243, train_acc: 1.000, test_loss: 0.36020, test_acc: 0.894\n",
            "Epoch: 20,Batch: 10, train_loss: 0.00713, train_acc: 1.000, test_loss: 0.35931, test_acc: 0.894\n",
            "Epoch: 20,Batch: 11, train_loss: 0.01020, train_acc: 1.000, test_loss: 0.35901, test_acc: 0.894\n",
            "Epoch: 20,Batch: 12, train_loss: 0.01310, train_acc: 1.000, test_loss: 0.35871, test_acc: 0.894\n",
            "Epoch: 21,Batch: 1, train_loss: 0.01324, train_acc: 1.000, test_loss: 0.35829, test_acc: 0.894\n",
            "Epoch: 21,Batch: 2, train_loss: 0.00503, train_acc: 1.000, test_loss: 0.35825, test_acc: 0.872\n",
            "Epoch: 21,Batch: 3, train_loss: 0.01471, train_acc: 1.000, test_loss: 0.35871, test_acc: 0.872\n",
            "Epoch: 21,Batch: 4, train_loss: 0.01188, train_acc: 1.000, test_loss: 0.35956, test_acc: 0.872\n",
            "Epoch: 21,Batch: 5, train_loss: 0.06749, train_acc: 0.938, test_loss: 0.35679, test_acc: 0.872\n",
            "Epoch: 21,Batch: 6, train_loss: 0.00924, train_acc: 1.000, test_loss: 0.35515, test_acc: 0.872\n",
            "Epoch: 21,Batch: 7, train_loss: 0.02209, train_acc: 1.000, test_loss: 0.35601, test_acc: 0.872\n",
            "Epoch: 21,Batch: 8, train_loss: 0.02077, train_acc: 1.000, test_loss: 0.35707, test_acc: 0.851\n",
            "Epoch: 21,Batch: 9, train_loss: 0.01141, train_acc: 1.000, test_loss: 0.35695, test_acc: 0.872\n",
            "Epoch: 21,Batch: 10, train_loss: 0.00704, train_acc: 1.000, test_loss: 0.35732, test_acc: 0.872\n",
            "Epoch: 21,Batch: 11, train_loss: 0.01344, train_acc: 1.000, test_loss: 0.35765, test_acc: 0.872\n",
            "Epoch: 21,Batch: 12, train_loss: 0.00691, train_acc: 1.000, test_loss: 0.35811, test_acc: 0.872\n",
            "Epoch: 22,Batch: 1, train_loss: 0.00836, train_acc: 1.000, test_loss: 0.35828, test_acc: 0.872\n",
            "Epoch: 22,Batch: 2, train_loss: 0.01421, train_acc: 1.000, test_loss: 0.35833, test_acc: 0.872\n",
            "Epoch: 22,Batch: 3, train_loss: 0.00653, train_acc: 1.000, test_loss: 0.35900, test_acc: 0.872\n",
            "Epoch: 22,Batch: 4, train_loss: 0.01009, train_acc: 1.000, test_loss: 0.35986, test_acc: 0.872\n",
            "Epoch: 22,Batch: 5, train_loss: 0.00883, train_acc: 1.000, test_loss: 0.36074, test_acc: 0.872\n",
            "Epoch: 22,Batch: 6, train_loss: 0.01443, train_acc: 1.000, test_loss: 0.36255, test_acc: 0.872\n",
            "Epoch: 22,Batch: 7, train_loss: 0.00494, train_acc: 1.000, test_loss: 0.36447, test_acc: 0.872\n",
            "Epoch: 22,Batch: 8, train_loss: 0.01667, train_acc: 1.000, test_loss: 0.36727, test_acc: 0.872\n",
            "Epoch: 22,Batch: 9, train_loss: 0.01668, train_acc: 1.000, test_loss: 0.36979, test_acc: 0.872\n",
            "Epoch: 22,Batch: 10, train_loss: 0.00813, train_acc: 1.000, test_loss: 0.37235, test_acc: 0.872\n",
            "Epoch: 22,Batch: 11, train_loss: 0.01291, train_acc: 1.000, test_loss: 0.37581, test_acc: 0.872\n",
            "Epoch: 22,Batch: 12, train_loss: 0.00673, train_acc: 1.000, test_loss: 0.37869, test_acc: 0.872\n",
            "Epoch: 23,Batch: 1, train_loss: 0.00488, train_acc: 1.000, test_loss: 0.38097, test_acc: 0.872\n",
            "Epoch: 23,Batch: 2, train_loss: 0.00651, train_acc: 1.000, test_loss: 0.38280, test_acc: 0.872\n",
            "Epoch: 23,Batch: 3, train_loss: 0.01579, train_acc: 1.000, test_loss: 0.38405, test_acc: 0.894\n",
            "Epoch: 23,Batch: 4, train_loss: 0.00966, train_acc: 1.000, test_loss: 0.38546, test_acc: 0.894\n",
            "Epoch: 23,Batch: 5, train_loss: 0.00858, train_acc: 1.000, test_loss: 0.38670, test_acc: 0.894\n",
            "Epoch: 23,Batch: 6, train_loss: 0.01248, train_acc: 1.000, test_loss: 0.38796, test_acc: 0.894\n",
            "Epoch: 23,Batch: 7, train_loss: 0.00969, train_acc: 1.000, test_loss: 0.38922, test_acc: 0.894\n",
            "Epoch: 23,Batch: 8, train_loss: 0.00617, train_acc: 1.000, test_loss: 0.39044, test_acc: 0.894\n",
            "Epoch: 23,Batch: 9, train_loss: 0.01110, train_acc: 1.000, test_loss: 0.39175, test_acc: 0.894\n",
            "Epoch: 23,Batch: 10, train_loss: 0.00452, train_acc: 1.000, test_loss: 0.39303, test_acc: 0.894\n",
            "Epoch: 23,Batch: 11, train_loss: 0.01179, train_acc: 1.000, test_loss: 0.39452, test_acc: 0.872\n",
            "Epoch: 23,Batch: 12, train_loss: 0.00472, train_acc: 1.000, test_loss: 0.39539, test_acc: 0.872\n",
            "Epoch: 24,Batch: 1, train_loss: 0.00919, train_acc: 1.000, test_loss: 0.39549, test_acc: 0.872\n",
            "Epoch: 24,Batch: 2, train_loss: 0.01106, train_acc: 1.000, test_loss: 0.39726, test_acc: 0.872\n",
            "Epoch: 24,Batch: 3, train_loss: 0.00670, train_acc: 1.000, test_loss: 0.39863, test_acc: 0.872\n",
            "Epoch: 24,Batch: 4, train_loss: 0.01169, train_acc: 1.000, test_loss: 0.39982, test_acc: 0.872\n",
            "Epoch: 24,Batch: 5, train_loss: 0.01055, train_acc: 1.000, test_loss: 0.39877, test_acc: 0.872\n",
            "Epoch: 24,Batch: 6, train_loss: 0.00893, train_acc: 1.000, test_loss: 0.39722, test_acc: 0.872\n",
            "Epoch: 24,Batch: 7, train_loss: 0.00589, train_acc: 1.000, test_loss: 0.39652, test_acc: 0.872\n",
            "Epoch: 24,Batch: 8, train_loss: 0.01282, train_acc: 1.000, test_loss: 0.39750, test_acc: 0.872\n",
            "Epoch: 24,Batch: 9, train_loss: 0.00935, train_acc: 1.000, test_loss: 0.39859, test_acc: 0.872\n",
            "Epoch: 24,Batch: 10, train_loss: 0.00945, train_acc: 1.000, test_loss: 0.39960, test_acc: 0.872\n",
            "Epoch: 24,Batch: 11, train_loss: 0.01091, train_acc: 1.000, test_loss: 0.40098, test_acc: 0.872\n",
            "Epoch: 24,Batch: 12, train_loss: 0.00475, train_acc: 1.000, test_loss: 0.40195, test_acc: 0.872\n",
            "Epoch: 25,Batch: 1, train_loss: 0.00649, train_acc: 1.000, test_loss: 0.40300, test_acc: 0.872\n",
            "Epoch: 25,Batch: 2, train_loss: 0.00738, train_acc: 1.000, test_loss: 0.40401, test_acc: 0.872\n",
            "Epoch: 25,Batch: 3, train_loss: 0.01122, train_acc: 1.000, test_loss: 0.40512, test_acc: 0.872\n",
            "Epoch: 25,Batch: 4, train_loss: 0.01210, train_acc: 1.000, test_loss: 0.40645, test_acc: 0.872\n",
            "Epoch: 25,Batch: 5, train_loss: 0.00875, train_acc: 1.000, test_loss: 0.40807, test_acc: 0.872\n",
            "Epoch: 25,Batch: 6, train_loss: 0.00681, train_acc: 1.000, test_loss: 0.41017, test_acc: 0.872\n",
            "Epoch: 25,Batch: 7, train_loss: 0.00471, train_acc: 1.000, test_loss: 0.41757, test_acc: 0.872\n",
            "Epoch: 25,Batch: 8, train_loss: 0.00629, train_acc: 1.000, test_loss: 0.42364, test_acc: 0.872\n",
            "Epoch: 25,Batch: 9, train_loss: 0.00884, train_acc: 1.000, test_loss: 0.42793, test_acc: 0.872\n",
            "Epoch: 25,Batch: 10, train_loss: 0.00796, train_acc: 1.000, test_loss: 0.43142, test_acc: 0.872\n",
            "Epoch: 25,Batch: 11, train_loss: 0.01295, train_acc: 1.000, test_loss: 0.43423, test_acc: 0.872\n",
            "Epoch: 25,Batch: 12, train_loss: 0.00573, train_acc: 1.000, test_loss: 0.43572, test_acc: 0.872\n",
            "Epoch: 26,Batch: 1, train_loss: 0.00371, train_acc: 1.000, test_loss: 0.43435, test_acc: 0.872\n",
            "Epoch: 26,Batch: 2, train_loss: 0.00859, train_acc: 1.000, test_loss: 0.43331, test_acc: 0.872\n",
            "Epoch: 26,Batch: 3, train_loss: 0.00821, train_acc: 1.000, test_loss: 0.43230, test_acc: 0.872\n",
            "Epoch: 26,Batch: 4, train_loss: 0.00494, train_acc: 1.000, test_loss: 0.43148, test_acc: 0.872\n",
            "Epoch: 26,Batch: 5, train_loss: 0.00660, train_acc: 1.000, test_loss: 0.43087, test_acc: 0.872\n",
            "Epoch: 26,Batch: 6, train_loss: 0.00387, train_acc: 1.000, test_loss: 0.43048, test_acc: 0.872\n",
            "Epoch: 26,Batch: 7, train_loss: 0.00850, train_acc: 1.000, test_loss: 0.43043, test_acc: 0.872\n",
            "Epoch: 26,Batch: 8, train_loss: 0.00370, train_acc: 1.000, test_loss: 0.43055, test_acc: 0.872\n",
            "Epoch: 26,Batch: 9, train_loss: 0.00795, train_acc: 1.000, test_loss: 0.43064, test_acc: 0.872\n",
            "Epoch: 26,Batch: 10, train_loss: 0.00569, train_acc: 1.000, test_loss: 0.43079, test_acc: 0.872\n",
            "Epoch: 26,Batch: 11, train_loss: 0.00657, train_acc: 1.000, test_loss: 0.43099, test_acc: 0.872\n",
            "Epoch: 26,Batch: 12, train_loss: 0.00981, train_acc: 1.000, test_loss: 0.43121, test_acc: 0.872\n",
            "Epoch: 27,Batch: 1, train_loss: 0.00666, train_acc: 1.000, test_loss: 0.43149, test_acc: 0.872\n",
            "Epoch: 27,Batch: 2, train_loss: 0.00641, train_acc: 1.000, test_loss: 0.43176, test_acc: 0.872\n",
            "Epoch: 27,Batch: 3, train_loss: 0.00911, train_acc: 1.000, test_loss: 0.43209, test_acc: 0.872\n",
            "Epoch: 27,Batch: 4, train_loss: 0.00623, train_acc: 1.000, test_loss: 0.43245, test_acc: 0.872\n",
            "Epoch: 27,Batch: 5, train_loss: 0.00831, train_acc: 1.000, test_loss: 0.42690, test_acc: 0.872\n",
            "Epoch: 27,Batch: 6, train_loss: 0.00693, train_acc: 1.000, test_loss: 0.42009, test_acc: 0.872\n",
            "Epoch: 27,Batch: 7, train_loss: 0.00464, train_acc: 1.000, test_loss: 0.41292, test_acc: 0.872\n",
            "Epoch: 27,Batch: 8, train_loss: 0.00374, train_acc: 1.000, test_loss: 0.40599, test_acc: 0.872\n",
            "Epoch: 27,Batch: 9, train_loss: 0.00549, train_acc: 1.000, test_loss: 0.40092, test_acc: 0.872\n",
            "Epoch: 27,Batch: 10, train_loss: 0.00714, train_acc: 1.000, test_loss: 0.39634, test_acc: 0.872\n",
            "Epoch: 27,Batch: 11, train_loss: 0.00484, train_acc: 1.000, test_loss: 0.39265, test_acc: 0.894\n",
            "Epoch: 27,Batch: 12, train_loss: 0.00519, train_acc: 1.000, test_loss: 0.38969, test_acc: 0.894\n",
            "Epoch: 28,Batch: 1, train_loss: 0.00715, train_acc: 1.000, test_loss: 0.38749, test_acc: 0.894\n",
            "Epoch: 28,Batch: 2, train_loss: 0.00713, train_acc: 1.000, test_loss: 0.38580, test_acc: 0.894\n",
            "Epoch: 28,Batch: 3, train_loss: 0.00883, train_acc: 1.000, test_loss: 0.38486, test_acc: 0.894\n",
            "Epoch: 28,Batch: 4, train_loss: 0.00747, train_acc: 1.000, test_loss: 0.38432, test_acc: 0.894\n",
            "Epoch: 28,Batch: 5, train_loss: 0.00586, train_acc: 1.000, test_loss: 0.38405, test_acc: 0.894\n",
            "Epoch: 28,Batch: 6, train_loss: 0.00564, train_acc: 1.000, test_loss: 0.38372, test_acc: 0.894\n",
            "Epoch: 28,Batch: 7, train_loss: 0.00572, train_acc: 1.000, test_loss: 0.38355, test_acc: 0.894\n",
            "Epoch: 28,Batch: 8, train_loss: 0.00494, train_acc: 1.000, test_loss: 0.38341, test_acc: 0.894\n",
            "Epoch: 28,Batch: 9, train_loss: 0.00781, train_acc: 1.000, test_loss: 0.38406, test_acc: 0.894\n",
            "Epoch: 28,Batch: 10, train_loss: 0.00910, train_acc: 1.000, test_loss: 0.38496, test_acc: 0.894\n",
            "Epoch: 28,Batch: 11, train_loss: 0.00616, train_acc: 1.000, test_loss: 0.38585, test_acc: 0.894\n",
            "Epoch: 28,Batch: 12, train_loss: 0.00291, train_acc: 1.000, test_loss: 0.38663, test_acc: 0.894\n",
            "Epoch: 29,Batch: 1, train_loss: 0.00631, train_acc: 1.000, test_loss: 0.38747, test_acc: 0.894\n",
            "Epoch: 29,Batch: 2, train_loss: 0.00524, train_acc: 1.000, test_loss: 0.38835, test_acc: 0.894\n",
            "Epoch: 29,Batch: 3, train_loss: 0.00469, train_acc: 1.000, test_loss: 0.38920, test_acc: 0.894\n",
            "Epoch: 29,Batch: 4, train_loss: 0.00681, train_acc: 1.000, test_loss: 0.38994, test_acc: 0.894\n",
            "Epoch: 29,Batch: 5, train_loss: 0.00648, train_acc: 1.000, test_loss: 0.39073, test_acc: 0.894\n",
            "Epoch: 29,Batch: 6, train_loss: 0.00455, train_acc: 1.000, test_loss: 0.39161, test_acc: 0.894\n",
            "Epoch: 29,Batch: 7, train_loss: 0.00320, train_acc: 1.000, test_loss: 0.39224, test_acc: 0.894\n",
            "Epoch: 29,Batch: 8, train_loss: 0.00315, train_acc: 1.000, test_loss: 0.39271, test_acc: 0.894\n",
            "Epoch: 29,Batch: 9, train_loss: 0.00657, train_acc: 1.000, test_loss: 0.39342, test_acc: 0.894\n",
            "Epoch: 29,Batch: 10, train_loss: 0.00525, train_acc: 1.000, test_loss: 0.39421, test_acc: 0.894\n",
            "Epoch: 29,Batch: 11, train_loss: 0.00784, train_acc: 1.000, test_loss: 0.39535, test_acc: 0.872\n",
            "Epoch: 29,Batch: 12, train_loss: 0.00297, train_acc: 1.000, test_loss: 0.39638, test_acc: 0.872\n",
            "Epoch: 30,Batch: 1, train_loss: 0.00701, train_acc: 1.000, test_loss: 0.39671, test_acc: 0.872\n",
            "Epoch: 30,Batch: 2, train_loss: 0.00548, train_acc: 1.000, test_loss: 0.39723, test_acc: 0.872\n",
            "Epoch: 30,Batch: 3, train_loss: 0.00418, train_acc: 1.000, test_loss: 0.39753, test_acc: 0.872\n",
            "Epoch: 30,Batch: 4, train_loss: 0.00514, train_acc: 1.000, test_loss: 0.39798, test_acc: 0.872\n",
            "Epoch: 30,Batch: 5, train_loss: 0.00318, train_acc: 1.000, test_loss: 0.39860, test_acc: 0.872\n",
            "Epoch: 30,Batch: 6, train_loss: 0.00527, train_acc: 1.000, test_loss: 0.42620, test_acc: 0.872\n",
            "Epoch: 30,Batch: 7, train_loss: 0.00353, train_acc: 1.000, test_loss: 0.43375, test_acc: 0.894\n",
            "Epoch: 30,Batch: 8, train_loss: 0.00287, train_acc: 1.000, test_loss: 0.44487, test_acc: 0.894\n",
            "Epoch: 30,Batch: 9, train_loss: 0.00549, train_acc: 1.000, test_loss: 0.45410, test_acc: 0.894\n",
            "Epoch: 30,Batch: 10, train_loss: 0.00515, train_acc: 1.000, test_loss: 0.45853, test_acc: 0.894\n",
            "Epoch: 30,Batch: 11, train_loss: 0.00428, train_acc: 1.000, test_loss: 0.45950, test_acc: 0.894\n",
            "Epoch: 30,Batch: 12, train_loss: 0.00648, train_acc: 1.000, test_loss: 0.45353, test_acc: 0.872\n",
            "Runtime:  143.93975472450256\n"
          ],
          "name": "stdout"
        }
      ]
    },
    {
      "cell_type": "markdown",
      "metadata": {
        "id": "lM0_eUdecrnI",
        "colab_type": "text"
      },
      "source": [
        "## 4. Evaluation"
      ]
    },
    {
      "cell_type": "code",
      "metadata": {
        "id": "OTsKLDGF90FI",
        "colab_type": "code",
        "outputId": "3bb315ec-0d00-4419-85ef-334bd608aeae",
        "colab": {
          "base_uri": "https://localhost:8080/",
          "height": 242
        }
      },
      "source": [
        "save_model_acc.gru.flatten_parameters()\n",
        "for i in range(1):\n",
        "  for input_torches,docvector,target_torches in test_loader:\n",
        "    lstmout,outputs,attout = save_model_acc(input_torches.to(device),docvector.to(device))\n",
        "    _, predicted = torch.max(outputs, 1)\n",
        "\n",
        "    from sklearn.metrics import classification_report\n",
        "    print(classification_report(target_torches,predicted.cpu().numpy(),digits=3))"
      ],
      "execution_count": 35,
      "outputs": [
        {
          "output_type": "stream",
          "text": [
            "              precision    recall  f1-score   support\n",
            "\n",
            "         0.0      0.893     0.962     0.926        26\n",
            "         1.0      0.947     0.857     0.900        21\n",
            "\n",
            "    accuracy                          0.915        47\n",
            "   macro avg      0.920     0.909     0.913        47\n",
            "weighted avg      0.917     0.915     0.914        47\n",
            "\n"
          ],
          "name": "stdout"
        },
        {
          "output_type": "stream",
          "text": [
            "/pytorch/aten/src/ATen/native/cudnn/RNN.cpp:1269: UserWarning: RNN module weights are not part of single contiguous chunk of memory. This means they need to be compacted at every call, possibly greatly increasing memory usage. To compact weights again call flatten_parameters().\n",
            "/pytorch/aten/src/ATen/native/cudnn/RNN.cpp:1269: UserWarning: RNN module weights are not part of single contiguous chunk of memory. This means they need to be compacted at every call, possibly greatly increasing memory usage. To compact weights again call flatten_parameters().\n"
          ],
          "name": "stderr"
        }
      ]
    },
    {
      "cell_type": "code",
      "metadata": {
        "id": "yiK8WMyFmGq-",
        "colab_type": "code",
        "outputId": "eb0f88ff-49f0-4cf2-8a85-468ec2d1d915",
        "colab": {
          "base_uri": "https://localhost:8080/",
          "height": 36
        }
      },
      "source": [
        "import numpy as np\n",
        "from keras.models import Sequential\n",
        "from keras.layers import Dense, Dropout, CuDNNLSTM\n",
        "from keras.callbacks import ModelCheckpoint\n",
        "from keras.utils import np_utils\n",
        "import re\n",
        "\n",
        "# Imports for visualisations\n",
        "from IPython.display import HTML as html_print\n",
        "from IPython.display import display\n",
        "import keras.backend as K\n",
        "# get html element\n",
        "def cstr(s, color='black'):\n",
        "\tif s == ' ':\n",
        "\t\treturn \"<text style=color:#000;padding-left:10px;background-color:{}> </text>\".format(color, s)\n",
        "\telse:\n",
        "\t\treturn \"<text style=color:#000;background-color:{}>{} </text>\".format(color, s)\n",
        "\t\n",
        "# print html\n",
        "def print_color(t):\n",
        "\tdisplay(html_print(''.join([cstr(ti, color=ci) for ti,ci in t])))\n",
        "\n",
        "# get appropriate color for value\n",
        "def get_clr(value):\n",
        "  colors=['#85c2e1', '#89c4e2', '#95cae5', '#99cce6', '#a1d0e8','#b2d9ec', '#baddee', '#c2e1f0', '#eff7fb', '#f9e8e8','#f9e8e8', '#f9d4d4', '#f9bdbd', '#f8a8a8', '#f68f8f','#f47676', '#f45f5f', '#f34343', '#f33b3b', '#f42e2e']\n",
        "  value = int((value * 100) / 5)\n",
        "  return colors[value]\n",
        "\n",
        "# sigmoid function\n",
        "def sigmoid(x):\n",
        "\tz = 1/(1 + np.exp(-x)) \n",
        "\treturn z\n",
        "\n",
        "\n",
        "def visualize(output_values, result_list, cell_no):\n",
        "\tprint(\"\\nCell Number:\", cell_no, \"\\n\")\n",
        "\ttext_colours = []\n",
        "\tfor i in range(len(result_list)):\n",
        "\t\ttext = (result_list[i], get_clr(output_values[i][cell_no]))\n",
        "\t\ttext_colours.append(text)\n",
        "\tprint_color(text_colours)"
      ],
      "execution_count": 36,
      "outputs": [
        {
          "output_type": "stream",
          "text": [
            "Using TensorFlow backend.\n"
          ],
          "name": "stderr"
        }
      ]
    },
    {
      "cell_type": "markdown",
      "metadata": {
        "id": "uebj6HkaG1YE",
        "colab_type": "text"
      },
      "source": [
        "#### 4.1 Attention Visualization"
      ]
    },
    {
      "cell_type": "code",
      "metadata": {
        "id": "mZQBbBgmmU0v",
        "colab_type": "code",
        "outputId": "519a504f-a893-47c5-8da7-c97da800da5b",
        "colab": {
          "base_uri": "https://localhost:8080/",
          "height": 222
        }
      },
      "source": [
        "d = 13\n",
        "corps=test_text[d]\n",
        "imp=attout.cpu()[d].detach().numpy()\n",
        "importance=sigmoid(imp*2000)\n",
        "print(visualize(importance,corps,11))\n",
        "print(y_test[d])\n",
        "print(predicted[d])"
      ],
      "execution_count": 37,
      "outputs": [
        {
          "output_type": "stream",
          "text": [
            "\n",
            "Cell Number: 11 \n",
            "\n"
          ],
          "name": "stdout"
        },
        {
          "output_type": "display_data",
          "data": {
            "text/html": [
              "<text style=color:#000;background-color:#f9bdbd>doctor </text><text style=color:#000;background-color:#f9d4d4>discovered </text><text style=color:#000;background-color:#f9d4d4>cancer </text><text style=color:#000;background-color:#f9d4d4>enzyme </text><text style=color:#000;background-color:#f9d4d4>vaccine </text><text style=color:#000;background-color:#f9e8e8>found </text><text style=color:#000;background-color:#f9e8e8>murdered </text><text style=color:#000;background-color:#f9e8e8>endoftitle </text><text style=color:#000;background-color:#f9e8e8>doctor </text><text style=color:#000;background-color:#f9e8e8>discovered </text><text style=color:#000;background-color:#f9e8e8>cancer </text><text style=color:#000;background-color:#f9e8e8>enzyme </text><text style=color:#000;background-color:#f9e8e8>vaccine </text><text style=color:#000;background-color:#f9e8e8>found </text><text style=color:#000;background-color:#f9e8e8>murdered </text><text style=color:#000;background-color:#f9e8e8>nagalese </text><text style=color:#000;background-color:#f9e8e8>prevents </text><text style=color:#000;background-color:#f9e8e8>vitamin </text><text style=color:#000;background-color:#f9e8e8>produced </text><text style=color:#000;background-color:#f9d4d4>body </text><text style=color:#000;background-color:#f9d4d4>neon </text><text style=color:#000;background-color:#f9d4d4>nettle </text><text style=color:#000;background-color:#f9d4d4>reported </text><text style=color:#000;background-color:#f9d4d4>epidemic </text><text style=color:#000;background-color:#f9d4d4>doctor </text><text style=color:#000;background-color:#f9d4d4>murdered </text><text style=color:#000;background-color:#f9d4d4>florida </text><text style=color:#000;background-color:#f9d4d4>scientist </text><text style=color:#000;background-color:#f9d4d4>shared </text><text style=color:#000;background-color:#f9d4d4>common </text><text style=color:#000;background-color:#f9d4d4>trait </text><text style=color:#000;background-color:#f9d4d4>discovered </text><text style=color:#000;background-color:#f9d4d4>nagalase </text><text style=color:#000;background-color:#f9d4d4>enzyme </text><text style=color:#000;background-color:#f9d4d4>protein </text><text style=color:#000;background-color:#f9d4d4>added </text><text style=color:#000;background-color:#f9d4d4>vaccine </text><text style=color:#000;background-color:#f9d4d4>administrated </text><text style=color:#000;background-color:#f9d4d4>human </text><text style=color:#000;background-color:#f9d4d4>nagalese </text><text style=color:#000;background-color:#f9d4d4>prevents </text><text style=color:#000;background-color:#f9d4d4>vitamin </text><text style=color:#000;background-color:#f9d4d4>produced </text><text style=color:#000;background-color:#f9d4d4>body </text><text style=color:#000;background-color:#f9d4d4>body </text><text style=color:#000;background-color:#f9bdbd>main </text><text style=color:#000;background-color:#f8a8a8>defense </text><text style=color:#000;background-color:#f8a8a8>naturally </text><text style=color:#000;background-color:#f8a8a8>kill </text><text style=color:#000;background-color:#f9bdbd>cancer </text><text style=color:#000;background-color:#f9d4d4>cell </text><text style=color:#000;background-color:#f9d4d4>scroll </text><text style=color:#000;background-color:#f9d4d4>video </text><text style=color:#000;background-color:#f9d4d4>according </text><text style=color:#000;background-color:#f9d4d4>thebigriddle </text><text style=color:#000;background-color:#f9d4d4>com </text><text style=color:#000;background-color:#f9d4d4>nagalase </text><text style=color:#000;background-color:#f9d4d4>protein </text><text style=color:#000;background-color:#f9d4d4>also </text><text style=color:#000;background-color:#f9d4d4>created </text><text style=color:#000;background-color:#f9d4d4>cancer </text><text style=color:#000;background-color:#f9d4d4>cell </text><text style=color:#000;background-color:#f9d4d4>protein </text><text style=color:#000;background-color:#f9d4d4>also </text><text style=color:#000;background-color:#f9e8e8>found </text><text style=color:#000;background-color:#f9d4d4>high </text><text style=color:#000;background-color:#f9d4d4>concentration </text><text style=color:#000;background-color:#f9d4d4>autistic </text><text style=color:#000;background-color:#f9bdbd>child </text><text style=color:#000;background-color:#f9bdbd>putting </text><text style=color:#000;background-color:#f9d4d4>vaccine </text><text style=color:#000;background-color:#f9d4d4>prevents </text><text style=color:#000;background-color:#f9e8e8>body </text><text style=color:#000;background-color:#f9e8e8>utilizing </text><text style=color:#000;background-color:#f9e8e8>vitamin </text><text style=color:#000;background-color:#f9e8e8>necessary </text><text style=color:#000;background-color:#f9e8e8>fight </text><text style=color:#000;background-color:#f9e8e8>cancer </text><text style=color:#000;background-color:#f9d4d4>prevent </text><text style=color:#000;background-color:#f9d4d4>autism </text><text style=color:#000;background-color:#f9d4d4>nagalese </text><text style=color:#000;background-color:#f9d4d4>disables </text><text style=color:#000;background-color:#f9bdbd>immune </text><text style=color:#000;background-color:#f9bdbd>system </text><text style=color:#000;background-color:#f9d4d4>also </text><text style=color:#000;background-color:#f9d4d4>known </text><text style=color:#000;background-color:#f9d4d4>cause </text><text style=color:#000;background-color:#f9d4d4>type </text><text style=color:#000;background-color:#f9d4d4>diabetes </text><text style=color:#000;background-color:#f9e8e8>basically </text><text style=color:#000;background-color:#f9e8e8>killing </text><text style=color:#000;background-color:#f9e8e8>doctor </text><text style=color:#000;background-color:#f9e8e8>found </text><text style=color:#000;background-color:#f9e8e8>cure </text><text style=color:#000;background-color:#f9e8e8>cancer </text><text style=color:#000;background-color:#f9e8e8>successfully </text><text style=color:#000;background-color:#f9e8e8>treating </text><text style=color:#000;background-color:#f9e8e8>autism </text><text style=color:#000;background-color:#f9d4d4>killing </text><text style=color:#000;background-color:#f9d4d4>researching </text><text style=color:#000;background-color:#f9d4d4>evidence </text><text style=color:#000;background-color:#f9d4d4>vaccine </text><text style=color:#000;background-color:#f9d4d4>injecting </text><text style=color:#000;background-color:#f9d4d4>precious </text><text style=color:#000;background-color:#f9bdbd>child </text><text style=color:#000;background-color:#f9bdbd>causing </text><text style=color:#000;background-color:#f9bdbd>current </text><text style=color:#000;background-color:#f9bdbd>cancer </text><text style=color:#000;background-color:#f9d4d4>autism </text><text style=color:#000;background-color:#f9d4d4>crisis </text><text style=color:#000;background-color:#f9d4d4>obviously </text><text style=color:#000;background-color:#f9d4d4>done </text><text style=color:#000;background-color:#f9d4d4>knowingly </text><text style=color:#000;background-color:#f9d4d4>purpose </text><text style=color:#000;background-color:#f9bdbd>killed </text><text style=color:#000;background-color:#f9d4d4>collaborating </text><text style=color:#000;background-color:#f9d4d4>getting </text><text style=color:#000;background-color:#f9bdbd>ready </text><text style=color:#000;background-color:#f9d4d4>public </text><text style=color:#000;background-color:#f9d4d4>information </text><text style=color:#000;background-color:#f9d4d4>depopulation </text><text style=color:#000;background-color:#f9d4d4>add </text><text style=color:#000;background-color:#f9d4d4>poison </text><text style=color:#000;background-color:#f9d4d4>vaccine </text><text style=color:#000;background-color:#f9bdbd>make </text><text style=color:#000;background-color:#f8a8a8>law </text><text style=color:#000;background-color:#f8a8a8>child </text><text style=color:#000;background-color:#f68f8f>must </text><text style=color:#000;background-color:#f68f8f>injected </text><text style=color:#000;background-color:#f8a8a8>attend </text><text style=color:#000;background-color:#f68f8f>school </text><text style=color:#000;background-color:#f47676>slow </text><text style=color:#000;background-color:#f47676>kill </text><text style=color:#000;background-color:#f68f8f>method </text><text style=color:#000;background-color:#f68f8f>think </text><text style=color:#000;background-color:#f47676>fair </text><text style=color:#000;background-color:#f47676>survival </text><text style=color:#000;background-color:#f47676>fittest </text><text style=color:#000;background-color:#f47676>type </text><text style=color:#000;background-color:#f47676>mentality </text><text style=color:#000;background-color:#f68f8f>best </text><text style=color:#000;background-color:#f68f8f>gene </text><text style=color:#000;background-color:#f8a8a8>survive </text><text style=color:#000;background-color:#f8a8a8>people </text><text style=color:#000;background-color:#f8a8a8>soul </text>"
            ],
            "text/plain": [
              "<IPython.core.display.HTML object>"
            ]
          },
          "metadata": {
            "tags": []
          }
        },
        {
          "output_type": "stream",
          "text": [
            "None\n",
            "tensor(1.)\n",
            "tensor(1, device='cuda:0')\n"
          ],
          "name": "stdout"
        }
      ]
    },
    {
      "cell_type": "code",
      "metadata": {
        "id": "gjfhUmJi3WxY",
        "colab_type": "code",
        "outputId": "e9bdb879-e453-4c64-8d77-7d0d87f8f05d",
        "colab": {
          "base_uri": "https://localhost:8080/",
          "height": 36
        }
      },
      "source": [
        "y_test[3]"
      ],
      "execution_count": 38,
      "outputs": [
        {
          "output_type": "execute_result",
          "data": {
            "text/plain": [
              "tensor(1.)"
            ]
          },
          "metadata": {
            "tags": []
          },
          "execution_count": 38
        }
      ]
    },
    {
      "cell_type": "markdown",
      "metadata": {
        "id": "T8ODbTzAG9EJ",
        "colab_type": "text"
      },
      "source": [
        "#### 4.2 Bi-GRU Visualization"
      ]
    },
    {
      "cell_type": "code",
      "metadata": {
        "id": "s4WTxJRBnVMR",
        "colab_type": "code",
        "outputId": "5607e829-9028-44e8-f5e4-0cf56c36252e",
        "colab": {
          "base_uri": "https://localhost:8080/",
          "height": 1000
        }
      },
      "source": [
        "\n",
        "corps=test_text[3]\n",
        "imp=lstmout.cpu()[3].detach().numpy()\n",
        "importance=sigmoid(imp)\n",
        "\n",
        "for i in [10,50,108,105]:\n",
        "  print(visualize(importance,corps,i))\n"
      ],
      "execution_count": 39,
      "outputs": [
        {
          "output_type": "stream",
          "text": [
            "\n",
            "Cell Number: 10 \n",
            "\n"
          ],
          "name": "stdout"
        },
        {
          "output_type": "display_data",
          "data": {
            "text/html": [
              "<text style=color:#000;background-color:#f9e8e8>trump </text><text style=color:#000;background-color:#f9e8e8>legal </text><text style=color:#000;background-color:#f9d4d4>right </text><text style=color:#000;background-color:#f9d4d4>cancel </text><text style=color:#000;background-color:#f9d4d4>scotus </text><text style=color:#000;background-color:#f9d4d4>serve </text><text style=color:#000;background-color:#f9d4d4>pleasure </text><text style=color:#000;background-color:#f9d4d4>endoftitle </text><text style=color:#000;background-color:#f9d4d4>monday </text><text style=color:#000;background-color:#f9bdbd>press </text><text style=color:#000;background-color:#f9bdbd>conference </text><text style=color:#000;background-color:#f9bdbd>medium </text><text style=color:#000;background-color:#f9bdbd>outlet </text><text style=color:#000;background-color:#f9bdbd>banned </text><text style=color:#000;background-color:#f9bdbd>airing </text><text style=color:#000;background-color:#f9bdbd>white </text><text style=color:#000;background-color:#f9bdbd>house </text><text style=color:#000;background-color:#f9bdbd>press </text><text style=color:#000;background-color:#f9bdbd>secretary </text><text style=color:#000;background-color:#f9bdbd>sean </text><text style=color:#000;background-color:#f9d4d4>spicer </text><text style=color:#000;background-color:#f9d4d4>announced </text><text style=color:#000;background-color:#f9d4d4>president </text><text style=color:#000;background-color:#f9d4d4>sending </text><text style=color:#000;background-color:#f9d4d4>thought </text><text style=color:#000;background-color:#f9d4d4>prayer </text><text style=color:#000;background-color:#f9d4d4>victim </text><text style=color:#000;background-color:#f9d4d4>alleged </text><text style=color:#000;background-color:#f9d4d4>terrorist </text><text style=color:#000;background-color:#f9d4d4>attack </text><text style=color:#000;background-color:#f9d4d4>london </text><text style=color:#000;background-color:#f9d4d4>family </text><text style=color:#000;background-color:#f9d4d4>seven </text><text style=color:#000;background-color:#f9d4d4>dead </text><text style=color:#000;background-color:#f9d4d4>sailor </text><text style=color:#000;background-color:#f9d4d4>spicer </text><text style=color:#000;background-color:#f9d4d4>defended </text><text style=color:#000;background-color:#f9d4d4>ban </text><text style=color:#000;background-color:#f9d4d4>broadcasting </text><text style=color:#000;background-color:#f9d4d4>briefing </text><text style=color:#000;background-color:#f9d4d4>noting </text><text style=color:#000;background-color:#f9d4d4>president </text><text style=color:#000;background-color:#f9e8e8>donald </text><text style=color:#000;background-color:#f9d4d4>trump </text><text style=color:#000;background-color:#f9d4d4>already </text><text style=color:#000;background-color:#f9d4d4>appeared </text><text style=color:#000;background-color:#f9d4d4>camera </text><text style=color:#000;background-color:#f9d4d4>monday </text><text style=color:#000;background-color:#f9d4d4>several </text><text style=color:#000;background-color:#f9d4d4>minute </text><text style=color:#000;background-color:#f9d4d4>although </text><text style=color:#000;background-color:#f9d4d4>took </text><text style=color:#000;background-color:#f9d4d4>question </text><text style=color:#000;background-color:#f9d4d4>spicer </text><text style=color:#000;background-color:#f9d4d4>also </text><text style=color:#000;background-color:#f9d4d4>said </text><text style=color:#000;background-color:#f9d4d4>president </text><text style=color:#000;background-color:#f9d4d4>confidence </text><text style=color:#000;background-color:#f9d4d4>member </text><text style=color:#000;background-color:#f9d4d4>justice </text><text style=color:#000;background-color:#f9d4d4>department </text><text style=color:#000;background-color:#f9d4d4>including </text><text style=color:#000;background-color:#f9d4d4>special </text><text style=color:#000;background-color:#f9d4d4>counsel </text><text style=color:#000;background-color:#f9d4d4>robert </text><text style=color:#000;background-color:#f9d4d4>mueller </text><text style=color:#000;background-color:#f9d4d4>reportedly </text><text style=color:#000;background-color:#f9d4d4>investigating </text><text style=color:#000;background-color:#f9d4d4>president </text><text style=color:#000;background-color:#f9d4d4>obstruction </text><text style=color:#000;background-color:#f9d4d4>justice </text><text style=color:#000;background-color:#f9d4d4>also </text><text style=color:#000;background-color:#f9d4d4>insisted </text><text style=color:#000;background-color:#f9d4d4>trump </text><text style=color:#000;background-color:#f9d4d4>power </text><text style=color:#000;background-color:#f9d4d4>fire </text><text style=color:#000;background-color:#f9d4d4>mueller </text><text style=color:#000;background-color:#f9d4d4>necessary </text><text style=color:#000;background-color:#f9d4d4>serve </text><text style=color:#000;background-color:#f9d4d4>pleasure </text><text style=color:#000;background-color:#f9d4d4>president </text><text style=color:#000;background-color:#f9d4d4>serve </text><text style=color:#000;background-color:#f9d4d4>pleasure </text><text style=color:#000;background-color:#f9d4d4>president </text><text style=color:#000;background-color:#f9d4d4>said </text><text style=color:#000;background-color:#f9d4d4>fact </text><text style=color:#000;background-color:#f9d4d4>asked </text><text style=color:#000;background-color:#f9d4d4>several </text><text style=color:#000;background-color:#f9d4d4>reporter </text><text style=color:#000;background-color:#f9d4d4>clarify </text><text style=color:#000;background-color:#f9d4d4>full </text><text style=color:#000;background-color:#f9d4d4>extent </text><text style=color:#000;background-color:#f9d4d4>president </text><text style=color:#000;background-color:#f9d4d4>power </text><text style=color:#000;background-color:#f9d4d4>word </text><text style=color:#000;background-color:#f9d4d4>limitation </text><text style=color:#000;background-color:#f9d4d4>exist </text><text style=color:#000;background-color:#f9d4d4>spicer </text><text style=color:#000;background-color:#f9bdbd>argued </text><text style=color:#000;background-color:#f9bdbd>constitution </text><text style=color:#000;background-color:#f9bdbd>clearly </text><text style=color:#000;background-color:#f9bdbd>state </text><text style=color:#000;background-color:#f9bdbd>president </text><text style=color:#000;background-color:#f9bdbd>united </text><text style=color:#000;background-color:#f9bdbd>state </text><text style=color:#000;background-color:#f9bdbd>cannot </text><text style=color:#000;background-color:#f9bdbd>however </text><text style=color:#000;background-color:#f9d4d4>added </text><text style=color:#000;background-color:#f9d4d4>one </text><text style=color:#000;background-color:#f9d4d4>must </text><text style=color:#000;background-color:#f9d4d4>also </text><text style=color:#000;background-color:#f9d4d4>recognize </text><text style=color:#000;background-color:#f9d4d4>fact </text><text style=color:#000;background-color:#f9bdbd>constitution </text><text style=color:#000;background-color:#f9bdbd>written </text><text style=color:#000;background-color:#f9bdbd>quite </text><text style=color:#000;background-color:#f9bdbd>ago </text><text style=color:#000;background-color:#f9bdbd>ideal </text><text style=color:#000;background-color:#f9bdbd>come </text><text style=color:#000;background-color:#f9bdbd>facing </text><text style=color:#000;background-color:#f9bdbd>issue </text><text style=color:#000;background-color:#f9bdbd>plague </text><text style=color:#000;background-color:#f9bdbd>american </text><text style=color:#000;background-color:#f9bdbd>society </text><text style=color:#000;background-color:#f9bdbd>nowadays </text><text style=color:#000;background-color:#f9bdbd>one </text><text style=color:#000;background-color:#f9bdbd>issue </text><text style=color:#000;background-color:#f9bdbd>also </text><text style=color:#000;background-color:#f9bdbd>limit </text><text style=color:#000;background-color:#f9bdbd>president </text><text style=color:#000;background-color:#f9bdbd>power </text><text style=color:#000;background-color:#f9bdbd>like </text><text style=color:#000;background-color:#f9bdbd>language </text><text style=color:#000;background-color:#f9bdbd>many </text><text style=color:#000;background-color:#f9bdbd>thing </text><text style=color:#000;background-color:#f9bdbd>typically </text><text style=color:#000;background-color:#f9bdbd>american </text><text style=color:#000;background-color:#f9bdbd>constitution </text><text style=color:#000;background-color:#f9bdbd>also </text><text style=color:#000;background-color:#f9d4d4>living </text><text style=color:#000;background-color:#f9d4d4>thing </text><text style=color:#000;background-color:#f9d4d4>change </text><text style=color:#000;background-color:#f9d4d4>evolves </text><text style=color:#000;background-color:#f9d4d4>time </text><text style=color:#000;background-color:#f9d4d4>go </text><text style=color:#000;background-color:#f9d4d4>people </text><text style=color:#000;background-color:#f9d4d4>america </text><text style=color:#000;background-color:#f9d4d4>help </text><text style=color:#000;background-color:#f9d4d4>however </text><text style=color:#000;background-color:#f9d4d4>seeing </text><text style=color:#000;background-color:#f9d4d4>people </text><text style=color:#000;background-color:#f9d4d4>already </text><text style=color:#000;background-color:#f9d4d4>enough </text><text style=color:#000;background-color:#f9d4d4>plate </text><text style=color:#000;background-color:#f9d4d4>day </text><text style=color:#000;background-color:#f9d4d4>president </text><text style=color:#000;background-color:#f9d4d4>decided </text><text style=color:#000;background-color:#f9d4d4>bother </text><text style=color:#000;background-color:#f9d4d4>folk </text><text style=color:#000;background-color:#f9d4d4>boring </text><text style=color:#000;background-color:#f9d4d4>decision </text><text style=color:#000;background-color:#f9d4d4>spicer </text><text style=color:#000;background-color:#f9d4d4>continued </text><text style=color:#000;background-color:#f9d4d4>result </text><text style=color:#000;background-color:#f9d4d4>president </text><text style=color:#000;background-color:#f9d4d4>country </text><text style=color:#000;background-color:#f9d4d4>nowadays </text><text style=color:#000;background-color:#f9d4d4>different </text><text style=color:#000;background-color:#f9d4d4>legal </text><text style=color:#000;background-color:#f9d4d4>executive </text><text style=color:#000;background-color:#f9d4d4>ability </text><text style=color:#000;background-color:#f9d4d4>many </text><text style=color:#000;background-color:#f9d4d4>predecessor </text><text style=color:#000;background-color:#f9d4d4>especially </text><text style=color:#000;background-color:#f9d4d4>first </text><text style=color:#000;background-color:#f9d4d4>one </text><text style=color:#000;background-color:#f9d4d4>like </text><text style=color:#000;background-color:#f9d4d4>george </text><text style=color:#000;background-color:#f9d4d4>washington </text><text style=color:#000;background-color:#f9d4d4>thomas </text><text style=color:#000;background-color:#f9d4d4>jefferson </text><text style=color:#000;background-color:#f9d4d4>matter </text><text style=color:#000;background-color:#f9d4d4>fact </text><text style=color:#000;background-color:#f9d4d4>order </text><text style=color:#000;background-color:#f9d4d4>able </text><text style=color:#000;background-color:#f9d4d4>deal </text><text style=color:#000;background-color:#f9d4d4>problem </text><text style=color:#000;background-color:#f9d4d4>today </text><text style=color:#000;background-color:#f9d4d4>vary </text><text style=color:#000;background-color:#f9d4d4>incredibly </text><text style=color:#000;background-color:#f9d4d4>compared </text><text style=color:#000;background-color:#f9d4d4>one </text><text style=color:#000;background-color:#f9d4d4>existed </text><text style=color:#000;background-color:#f9d4d4>constitution </text><text style=color:#000;background-color:#f9d4d4>written </text><text style=color:#000;background-color:#f9d4d4>donald </text><text style=color:#000;background-color:#f9d4d4>trump </text><text style=color:#000;background-color:#f9d4d4>incomparably </text><text style=color:#000;background-color:#f9d4d4>power </text><text style=color:#000;background-color:#f9d4d4>president </text><text style=color:#000;background-color:#f9d4d4>history </text><text style=color:#000;background-color:#f9d4d4>country </text><text style=color:#000;background-color:#f9d4d4>word </text><text style=color:#000;background-color:#f9d4d4>real </text><text style=color:#000;background-color:#f9d4d4>need </text><text style=color:#000;background-color:#f9d4d4>follow </text><text style=color:#000;background-color:#f9d4d4>aforementioned </text><text style=color:#000;background-color:#f9d4d4>serve </text><text style=color:#000;background-color:#f9d4d4>pleasure </text><text style=color:#000;background-color:#f9d4d4>president </text><text style=color:#000;background-color:#f9d4d4>serve </text><text style=color:#000;background-color:#f9d4d4>pleasure </text><text style=color:#000;background-color:#f9d4d4>president </text><text style=color:#000;background-color:#f9d4d4>rule </text><text style=color:#000;background-color:#f9d4d4>example </text><text style=color:#000;background-color:#f9d4d4>president </text><text style=color:#000;background-color:#f9d4d4>trump </text><text style=color:#000;background-color:#f9d4d4>power </text><text style=color:#000;background-color:#f9d4d4>fire </text><text style=color:#000;background-color:#f9d4d4>robert </text><text style=color:#000;background-color:#f9d4d4>mueller </text><text style=color:#000;background-color:#f9d4d4>also </text><text style=color:#000;background-color:#f9d4d4>legal </text><text style=color:#000;background-color:#f9d4d4>ability </text><text style=color:#000;background-color:#f9d4d4>right </text><text style=color:#000;background-color:#f9d4d4>cancel </text><text style=color:#000;background-color:#f9d4d4>disband </text><text style=color:#000;background-color:#f9d4d4>supreme </text><text style=color:#000;background-color:#f9d4d4>court </text><text style=color:#000;background-color:#f9d4d4>united </text><text style=color:#000;background-color:#f9d4d4>state </text><text style=color:#000;background-color:#f9d4d4>well </text><text style=color:#000;background-color:#f9d4d4>feel </text><text style=color:#000;background-color:#f9d4d4>need </text><text style=color:#000;background-color:#f9d4d4>one </text><text style=color:#000;background-color:#f9bdbd>could </text><text style=color:#000;background-color:#f9bdbd>argue </text><text style=color:#000;background-color:#f9bdbd>decision </text><text style=color:#000;background-color:#f9bdbd>something </text><text style=color:#000;background-color:#f9bdbd>necessary </text><text style=color:#000;background-color:#f9d4d4>order </text><text style=color:#000;background-color:#f9d4d4>cope </text><text style=color:#000;background-color:#f9d4d4>daily </text><text style=color:#000;background-color:#f9d4d4>problem </text><text style=color:#000;background-color:#f9d4d4>disaster </text><text style=color:#000;background-color:#f9d4d4>territory </text><text style=color:#000;background-color:#f9d4d4>living </text><text style=color:#000;background-color:#f9d4d4>technologically </text><text style=color:#000;background-color:#f9d4d4>advanced </text><text style=color:#000;background-color:#f9d4d4>time </text><text style=color:#000;background-color:#f9d4d4>make </text><text style=color:#000;background-color:#f9d4d4>thing </text><text style=color:#000;background-color:#f9d4d4>perfectly </text><text style=color:#000;background-color:#f9d4d4>clear </text><text style=color:#000;background-color:#f9d4d4>something </text><text style=color:#000;background-color:#f9d4d4>exclusive </text><text style=color:#000;background-color:#f9d4d4>donald </text><text style=color:#000;background-color:#f9d4d4>trump </text><text style=color:#000;background-color:#f9d4d4>whoever </text><text style=color:#000;background-color:#f9d4d4>succeeds </text><text style=color:#000;background-color:#f9d4d4>president </text><text style=color:#000;background-color:#f9d4d4>also </text><text style=color:#000;background-color:#f9d4d4>slightly </text><text style=color:#000;background-color:#f9bdbd>higher </text><text style=color:#000;background-color:#f9bdbd>level </text><text style=color:#000;background-color:#f9bdbd>power </text><text style=color:#000;background-color:#f9bdbd>power </text><text style=color:#000;background-color:#f9bdbd>linked </text><text style=color:#000;background-color:#f9bdbd>position </text><text style=color:#000;background-color:#f9d4d4>man </text><text style=color:#000;background-color:#f9d4d4>position </text><text style=color:#000;background-color:#f9d4d4>today </text><text style=color:#000;background-color:#f9d4d4>requirement </text><text style=color:#000;background-color:#f9d4d4>much </text><text style=color:#000;background-color:#f9d4d4>logical </text><text style=color:#000;background-color:#f9d4d4>order </text><text style=color:#000;background-color:#f9d4d4>event </text><text style=color:#000;background-color:#f9d4d4>important </text><text style=color:#000;background-color:#f9d4d4>evolve </text><text style=color:#000;background-color:#f9d4d4>time </text><text style=color:#000;background-color:#f9d4d4>stuck </text><text style=color:#000;background-color:#f9d4d4>past </text><text style=color:#000;background-color:#f9d4d4>everyone </text><text style=color:#000;background-color:#f9d4d4>else </text><text style=color:#000;background-color:#f9d4d4>go </text><text style=color:#000;background-color:#f9d4d4>past </text><text style=color:#000;background-color:#f9d4d4>need </text><text style=color:#000;background-color:#f9d4d4>retain </text><text style=color:#000;background-color:#f9d4d4>proactively </text><text style=color:#000;background-color:#f9d4d4>flexible </text><text style=color:#000;background-color:#f9d4d4>approach </text><text style=color:#000;background-color:#f9d4d4>life </text><text style=color:#000;background-color:#f9d4d4>trademark </text><text style=color:#000;background-color:#f9d4d4>long </text><text style=color:#000;background-color:#f9bdbd>go </text><text style=color:#000;background-color:#f9bdbd>especially </text><text style=color:#000;background-color:#f9bdbd>interpreting </text><text style=color:#000;background-color:#f9bdbd>constitution </text><text style=color:#000;background-color:#f9bdbd>united </text><text style=color:#000;background-color:#f9bdbd>state </text><text style=color:#000;background-color:#f9d4d4>spicer </text><text style=color:#000;background-color:#f9d4d4>concluded </text><text style=color:#000;background-color:#f9d4d4>politicops </text><text style=color:#000;background-color:#f9d4d4>com </text><text style=color:#000;background-color:#f9d4d4>comment </text><text style=color:#000;background-color:#f9e8e8>comment </text>"
            ],
            "text/plain": [
              "<IPython.core.display.HTML object>"
            ]
          },
          "metadata": {
            "tags": []
          }
        },
        {
          "output_type": "stream",
          "text": [
            "None\n",
            "\n",
            "Cell Number: 50 \n",
            "\n"
          ],
          "name": "stdout"
        },
        {
          "output_type": "display_data",
          "data": {
            "text/html": [
              "<text style=color:#000;background-color:#f9e8e8>trump </text><text style=color:#000;background-color:#f9d4d4>legal </text><text style=color:#000;background-color:#f9d4d4>right </text><text style=color:#000;background-color:#f9bdbd>cancel </text><text style=color:#000;background-color:#f9bdbd>scotus </text><text style=color:#000;background-color:#f9bdbd>serve </text><text style=color:#000;background-color:#f9bdbd>pleasure </text><text style=color:#000;background-color:#f9bdbd>endoftitle </text><text style=color:#000;background-color:#f9bdbd>monday </text><text style=color:#000;background-color:#f9bdbd>press </text><text style=color:#000;background-color:#f9bdbd>conference </text><text style=color:#000;background-color:#f9bdbd>medium </text><text style=color:#000;background-color:#f9bdbd>outlet </text><text style=color:#000;background-color:#f9bdbd>banned </text><text style=color:#000;background-color:#f9bdbd>airing </text><text style=color:#000;background-color:#f8a8a8>white </text><text style=color:#000;background-color:#f8a8a8>house </text><text style=color:#000;background-color:#f8a8a8>press </text><text style=color:#000;background-color:#f8a8a8>secretary </text><text style=color:#000;background-color:#f8a8a8>sean </text><text style=color:#000;background-color:#f8a8a8>spicer </text><text style=color:#000;background-color:#f8a8a8>announced </text><text style=color:#000;background-color:#f8a8a8>president </text><text style=color:#000;background-color:#f8a8a8>sending </text><text style=color:#000;background-color:#f9bdbd>thought </text><text style=color:#000;background-color:#f9bdbd>prayer </text><text style=color:#000;background-color:#f9bdbd>victim </text><text style=color:#000;background-color:#f9bdbd>alleged </text><text style=color:#000;background-color:#f9bdbd>terrorist </text><text style=color:#000;background-color:#f9bdbd>attack </text><text style=color:#000;background-color:#f9bdbd>london </text><text style=color:#000;background-color:#f9bdbd>family </text><text style=color:#000;background-color:#f9bdbd>seven </text><text style=color:#000;background-color:#f9bdbd>dead </text><text style=color:#000;background-color:#f9bdbd>sailor </text><text style=color:#000;background-color:#f9bdbd>spicer </text><text style=color:#000;background-color:#f9bdbd>defended </text><text style=color:#000;background-color:#f9bdbd>ban </text><text style=color:#000;background-color:#f9bdbd>broadcasting </text><text style=color:#000;background-color:#f9bdbd>briefing </text><text style=color:#000;background-color:#f9bdbd>noting </text><text style=color:#000;background-color:#f9bdbd>president </text><text style=color:#000;background-color:#f9bdbd>donald </text><text style=color:#000;background-color:#f9bdbd>trump </text><text style=color:#000;background-color:#f9bdbd>already </text><text style=color:#000;background-color:#f9bdbd>appeared </text><text style=color:#000;background-color:#f9bdbd>camera </text><text style=color:#000;background-color:#f9bdbd>monday </text><text style=color:#000;background-color:#f9bdbd>several </text><text style=color:#000;background-color:#f9d4d4>minute </text><text style=color:#000;background-color:#f9d4d4>although </text><text style=color:#000;background-color:#f9d4d4>took </text><text style=color:#000;background-color:#f9d4d4>question </text><text style=color:#000;background-color:#f9d4d4>spicer </text><text style=color:#000;background-color:#f9bdbd>also </text><text style=color:#000;background-color:#f9bdbd>said </text><text style=color:#000;background-color:#f9bdbd>president </text><text style=color:#000;background-color:#f9bdbd>confidence </text><text style=color:#000;background-color:#f9bdbd>member </text><text style=color:#000;background-color:#f9bdbd>justice </text><text style=color:#000;background-color:#f9bdbd>department </text><text style=color:#000;background-color:#f9bdbd>including </text><text style=color:#000;background-color:#f9bdbd>special </text><text style=color:#000;background-color:#f9bdbd>counsel </text><text style=color:#000;background-color:#f8a8a8>robert </text><text style=color:#000;background-color:#f8a8a8>mueller </text><text style=color:#000;background-color:#f8a8a8>reportedly </text><text style=color:#000;background-color:#f8a8a8>investigating </text><text style=color:#000;background-color:#f8a8a8>president </text><text style=color:#000;background-color:#f9bdbd>obstruction </text><text style=color:#000;background-color:#f9bdbd>justice </text><text style=color:#000;background-color:#f9bdbd>also </text><text style=color:#000;background-color:#f9bdbd>insisted </text><text style=color:#000;background-color:#f9bdbd>trump </text><text style=color:#000;background-color:#f9bdbd>power </text><text style=color:#000;background-color:#f9bdbd>fire </text><text style=color:#000;background-color:#f9bdbd>mueller </text><text style=color:#000;background-color:#f9bdbd>necessary </text><text style=color:#000;background-color:#f9bdbd>serve </text><text style=color:#000;background-color:#f9bdbd>pleasure </text><text style=color:#000;background-color:#f9bdbd>president </text><text style=color:#000;background-color:#f9bdbd>serve </text><text style=color:#000;background-color:#f9bdbd>pleasure </text><text style=color:#000;background-color:#f9bdbd>president </text><text style=color:#000;background-color:#f9bdbd>said </text><text style=color:#000;background-color:#f9bdbd>fact </text><text style=color:#000;background-color:#f9bdbd>asked </text><text style=color:#000;background-color:#f9bdbd>several </text><text style=color:#000;background-color:#f9bdbd>reporter </text><text style=color:#000;background-color:#f9bdbd>clarify </text><text style=color:#000;background-color:#f9bdbd>full </text><text style=color:#000;background-color:#f8a8a8>extent </text><text style=color:#000;background-color:#f8a8a8>president </text><text style=color:#000;background-color:#f8a8a8>power </text><text style=color:#000;background-color:#f8a8a8>word </text><text style=color:#000;background-color:#f8a8a8>limitation </text><text style=color:#000;background-color:#f8a8a8>exist </text><text style=color:#000;background-color:#f8a8a8>spicer </text><text style=color:#000;background-color:#f9bdbd>argued </text><text style=color:#000;background-color:#f9bdbd>constitution </text><text style=color:#000;background-color:#f9bdbd>clearly </text><text style=color:#000;background-color:#f9bdbd>state </text><text style=color:#000;background-color:#f8a8a8>president </text><text style=color:#000;background-color:#f8a8a8>united </text><text style=color:#000;background-color:#f8a8a8>state </text><text style=color:#000;background-color:#f9bdbd>cannot </text><text style=color:#000;background-color:#f9bdbd>however </text><text style=color:#000;background-color:#f9bdbd>added </text><text style=color:#000;background-color:#f9bdbd>one </text><text style=color:#000;background-color:#f9bdbd>must </text><text style=color:#000;background-color:#f9bdbd>also </text><text style=color:#000;background-color:#f9bdbd>recognize </text><text style=color:#000;background-color:#f9bdbd>fact </text><text style=color:#000;background-color:#f9bdbd>constitution </text><text style=color:#000;background-color:#f9bdbd>written </text><text style=color:#000;background-color:#f9bdbd>quite </text><text style=color:#000;background-color:#f9bdbd>ago </text><text style=color:#000;background-color:#f8a8a8>ideal </text><text style=color:#000;background-color:#f8a8a8>come </text><text style=color:#000;background-color:#f8a8a8>facing </text><text style=color:#000;background-color:#f8a8a8>issue </text><text style=color:#000;background-color:#f9bdbd>plague </text><text style=color:#000;background-color:#f9bdbd>american </text><text style=color:#000;background-color:#f8a8a8>society </text><text style=color:#000;background-color:#f9bdbd>nowadays </text><text style=color:#000;background-color:#f9bdbd>one </text><text style=color:#000;background-color:#f9bdbd>issue </text><text style=color:#000;background-color:#f9bdbd>also </text><text style=color:#000;background-color:#f9bdbd>limit </text><text style=color:#000;background-color:#f9bdbd>president </text><text style=color:#000;background-color:#f9bdbd>power </text><text style=color:#000;background-color:#f9bdbd>like </text><text style=color:#000;background-color:#f9bdbd>language </text><text style=color:#000;background-color:#f9bdbd>many </text><text style=color:#000;background-color:#f9bdbd>thing </text><text style=color:#000;background-color:#f9bdbd>typically </text><text style=color:#000;background-color:#f9bdbd>american </text><text style=color:#000;background-color:#f9bdbd>constitution </text><text style=color:#000;background-color:#f9bdbd>also </text><text style=color:#000;background-color:#f9bdbd>living </text><text style=color:#000;background-color:#f9bdbd>thing </text><text style=color:#000;background-color:#f9bdbd>change </text><text style=color:#000;background-color:#f9bdbd>evolves </text><text style=color:#000;background-color:#f9bdbd>time </text><text style=color:#000;background-color:#f9bdbd>go </text><text style=color:#000;background-color:#f9bdbd>people </text><text style=color:#000;background-color:#f9bdbd>america </text><text style=color:#000;background-color:#f9bdbd>help </text><text style=color:#000;background-color:#f9bdbd>however </text><text style=color:#000;background-color:#f9bdbd>seeing </text><text style=color:#000;background-color:#f9bdbd>people </text><text style=color:#000;background-color:#f9bdbd>already </text><text style=color:#000;background-color:#f9bdbd>enough </text><text style=color:#000;background-color:#f9bdbd>plate </text><text style=color:#000;background-color:#f9bdbd>day </text><text style=color:#000;background-color:#f9bdbd>president </text><text style=color:#000;background-color:#f9bdbd>decided </text><text style=color:#000;background-color:#f9bdbd>bother </text><text style=color:#000;background-color:#f9bdbd>folk </text><text style=color:#000;background-color:#f9bdbd>boring </text><text style=color:#000;background-color:#f9bdbd>decision </text><text style=color:#000;background-color:#f9bdbd>spicer </text><text style=color:#000;background-color:#f9bdbd>continued </text><text style=color:#000;background-color:#f9bdbd>result </text><text style=color:#000;background-color:#f9bdbd>president </text><text style=color:#000;background-color:#f9bdbd>country </text><text style=color:#000;background-color:#f9bdbd>nowadays </text><text style=color:#000;background-color:#f9bdbd>different </text><text style=color:#000;background-color:#f8a8a8>legal </text><text style=color:#000;background-color:#f8a8a8>executive </text><text style=color:#000;background-color:#f9bdbd>ability </text><text style=color:#000;background-color:#f9bdbd>many </text><text style=color:#000;background-color:#f9bdbd>predecessor </text><text style=color:#000;background-color:#f9bdbd>especially </text><text style=color:#000;background-color:#f9bdbd>first </text><text style=color:#000;background-color:#f9bdbd>one </text><text style=color:#000;background-color:#f9bdbd>like </text><text style=color:#000;background-color:#f9bdbd>george </text><text style=color:#000;background-color:#f9bdbd>washington </text><text style=color:#000;background-color:#f9bdbd>thomas </text><text style=color:#000;background-color:#f9bdbd>jefferson </text><text style=color:#000;background-color:#f9bdbd>matter </text><text style=color:#000;background-color:#f9bdbd>fact </text><text style=color:#000;background-color:#f9bdbd>order </text><text style=color:#000;background-color:#f9bdbd>able </text><text style=color:#000;background-color:#f9bdbd>deal </text><text style=color:#000;background-color:#f9bdbd>problem </text><text style=color:#000;background-color:#f9bdbd>today </text><text style=color:#000;background-color:#f9bdbd>vary </text><text style=color:#000;background-color:#f9bdbd>incredibly </text><text style=color:#000;background-color:#f9bdbd>compared </text><text style=color:#000;background-color:#f9bdbd>one </text><text style=color:#000;background-color:#f9bdbd>existed </text><text style=color:#000;background-color:#f9bdbd>constitution </text><text style=color:#000;background-color:#f9bdbd>written </text><text style=color:#000;background-color:#f9bdbd>donald </text><text style=color:#000;background-color:#f9bdbd>trump </text><text style=color:#000;background-color:#f9bdbd>incomparably </text><text style=color:#000;background-color:#f9bdbd>power </text><text style=color:#000;background-color:#f9bdbd>president </text><text style=color:#000;background-color:#f9bdbd>history </text><text style=color:#000;background-color:#f9bdbd>country </text><text style=color:#000;background-color:#f9bdbd>word </text><text style=color:#000;background-color:#f9bdbd>real </text><text style=color:#000;background-color:#f9bdbd>need </text><text style=color:#000;background-color:#f9bdbd>follow </text><text style=color:#000;background-color:#f9bdbd>aforementioned </text><text style=color:#000;background-color:#f9bdbd>serve </text><text style=color:#000;background-color:#f9bdbd>pleasure </text><text style=color:#000;background-color:#f9bdbd>president </text><text style=color:#000;background-color:#f9bdbd>serve </text><text style=color:#000;background-color:#f9bdbd>pleasure </text><text style=color:#000;background-color:#f9bdbd>president </text><text style=color:#000;background-color:#f9bdbd>rule </text><text style=color:#000;background-color:#f9bdbd>example </text><text style=color:#000;background-color:#f9bdbd>president </text><text style=color:#000;background-color:#f9bdbd>trump </text><text style=color:#000;background-color:#f8a8a8>power </text><text style=color:#000;background-color:#f8a8a8>fire </text><text style=color:#000;background-color:#f8a8a8>robert </text><text style=color:#000;background-color:#f8a8a8>mueller </text><text style=color:#000;background-color:#f8a8a8>also </text><text style=color:#000;background-color:#f8a8a8>legal </text><text style=color:#000;background-color:#f8a8a8>ability </text><text style=color:#000;background-color:#f8a8a8>right </text><text style=color:#000;background-color:#f8a8a8>cancel </text><text style=color:#000;background-color:#f8a8a8>disband </text><text style=color:#000;background-color:#f8a8a8>supreme </text><text style=color:#000;background-color:#f8a8a8>court </text><text style=color:#000;background-color:#f8a8a8>united </text><text style=color:#000;background-color:#f8a8a8>state </text><text style=color:#000;background-color:#f8a8a8>well </text><text style=color:#000;background-color:#f8a8a8>feel </text><text style=color:#000;background-color:#f9bdbd>need </text><text style=color:#000;background-color:#f9bdbd>one </text><text style=color:#000;background-color:#f9bdbd>could </text><text style=color:#000;background-color:#f8a8a8>argue </text><text style=color:#000;background-color:#f8a8a8>decision </text><text style=color:#000;background-color:#f8a8a8>something </text><text style=color:#000;background-color:#f8a8a8>necessary </text><text style=color:#000;background-color:#f8a8a8>order </text><text style=color:#000;background-color:#f8a8a8>cope </text><text style=color:#000;background-color:#f8a8a8>daily </text><text style=color:#000;background-color:#f9bdbd>problem </text><text style=color:#000;background-color:#f9bdbd>disaster </text><text style=color:#000;background-color:#f9bdbd>territory </text><text style=color:#000;background-color:#f9bdbd>living </text><text style=color:#000;background-color:#f9bdbd>technologically </text><text style=color:#000;background-color:#f9bdbd>advanced </text><text style=color:#000;background-color:#f9bdbd>time </text><text style=color:#000;background-color:#f9bdbd>make </text><text style=color:#000;background-color:#f9bdbd>thing </text><text style=color:#000;background-color:#f9bdbd>perfectly </text><text style=color:#000;background-color:#f9bdbd>clear </text><text style=color:#000;background-color:#f9bdbd>something </text><text style=color:#000;background-color:#f9bdbd>exclusive </text><text style=color:#000;background-color:#f9bdbd>donald </text><text style=color:#000;background-color:#f9bdbd>trump </text><text style=color:#000;background-color:#f9bdbd>whoever </text><text style=color:#000;background-color:#f9bdbd>succeeds </text><text style=color:#000;background-color:#f9bdbd>president </text><text style=color:#000;background-color:#f9bdbd>also </text><text style=color:#000;background-color:#f8a8a8>slightly </text><text style=color:#000;background-color:#f8a8a8>higher </text><text style=color:#000;background-color:#f8a8a8>level </text><text style=color:#000;background-color:#f8a8a8>power </text><text style=color:#000;background-color:#f8a8a8>power </text><text style=color:#000;background-color:#f8a8a8>linked </text><text style=color:#000;background-color:#f8a8a8>position </text><text style=color:#000;background-color:#f8a8a8>man </text><text style=color:#000;background-color:#f8a8a8>position </text><text style=color:#000;background-color:#f8a8a8>today </text><text style=color:#000;background-color:#f8a8a8>requirement </text><text style=color:#000;background-color:#f8a8a8>much </text><text style=color:#000;background-color:#f8a8a8>logical </text><text style=color:#000;background-color:#f9bdbd>order </text><text style=color:#000;background-color:#f9bdbd>event </text><text style=color:#000;background-color:#f9bdbd>important </text><text style=color:#000;background-color:#f9bdbd>evolve </text><text style=color:#000;background-color:#f9bdbd>time </text><text style=color:#000;background-color:#f9bdbd>stuck </text><text style=color:#000;background-color:#f9d4d4>past </text><text style=color:#000;background-color:#f9d4d4>everyone </text><text style=color:#000;background-color:#f9d4d4>else </text><text style=color:#000;background-color:#f9d4d4>go </text><text style=color:#000;background-color:#f9d4d4>past </text><text style=color:#000;background-color:#f9d4d4>need </text><text style=color:#000;background-color:#f9d4d4>retain </text><text style=color:#000;background-color:#f9d4d4>proactively </text><text style=color:#000;background-color:#f9bdbd>flexible </text><text style=color:#000;background-color:#f9bdbd>approach </text><text style=color:#000;background-color:#f9bdbd>life </text><text style=color:#000;background-color:#f9bdbd>trademark </text><text style=color:#000;background-color:#f9bdbd>long </text><text style=color:#000;background-color:#f9bdbd>go </text><text style=color:#000;background-color:#f8a8a8>especially </text><text style=color:#000;background-color:#f8a8a8>interpreting </text><text style=color:#000;background-color:#f8a8a8>constitution </text><text style=color:#000;background-color:#f8a8a8>united </text><text style=color:#000;background-color:#f8a8a8>state </text><text style=color:#000;background-color:#f8a8a8>spicer </text><text style=color:#000;background-color:#f8a8a8>concluded </text><text style=color:#000;background-color:#f9bdbd>politicops </text><text style=color:#000;background-color:#f9bdbd>com </text><text style=color:#000;background-color:#f9bdbd>comment </text><text style=color:#000;background-color:#f9bdbd>comment </text>"
            ],
            "text/plain": [
              "<IPython.core.display.HTML object>"
            ]
          },
          "metadata": {
            "tags": []
          }
        },
        {
          "output_type": "stream",
          "text": [
            "None\n",
            "\n",
            "Cell Number: 108 \n",
            "\n"
          ],
          "name": "stdout"
        },
        {
          "output_type": "display_data",
          "data": {
            "text/html": [
              "<text style=color:#000;background-color:#c2e1f0>trump </text><text style=color:#000;background-color:#c2e1f0>legal </text><text style=color:#000;background-color:#c2e1f0>right </text><text style=color:#000;background-color:#baddee>cancel </text><text style=color:#000;background-color:#baddee>scotus </text><text style=color:#000;background-color:#b2d9ec>serve </text><text style=color:#000;background-color:#b2d9ec>pleasure </text><text style=color:#000;background-color:#b2d9ec>endoftitle </text><text style=color:#000;background-color:#b2d9ec>monday </text><text style=color:#000;background-color:#b2d9ec>press </text><text style=color:#000;background-color:#b2d9ec>conference </text><text style=color:#000;background-color:#b2d9ec>medium </text><text style=color:#000;background-color:#b2d9ec>outlet </text><text style=color:#000;background-color:#b2d9ec>banned </text><text style=color:#000;background-color:#b2d9ec>airing </text><text style=color:#000;background-color:#b2d9ec>white </text><text style=color:#000;background-color:#b2d9ec>house </text><text style=color:#000;background-color:#b2d9ec>press </text><text style=color:#000;background-color:#b2d9ec>secretary </text><text style=color:#000;background-color:#b2d9ec>sean </text><text style=color:#000;background-color:#b2d9ec>spicer </text><text style=color:#000;background-color:#b2d9ec>announced </text><text style=color:#000;background-color:#b2d9ec>president </text><text style=color:#000;background-color:#b2d9ec>sending </text><text style=color:#000;background-color:#b2d9ec>thought </text><text style=color:#000;background-color:#b2d9ec>prayer </text><text style=color:#000;background-color:#b2d9ec>victim </text><text style=color:#000;background-color:#b2d9ec>alleged </text><text style=color:#000;background-color:#b2d9ec>terrorist </text><text style=color:#000;background-color:#baddee>attack </text><text style=color:#000;background-color:#baddee>london </text><text style=color:#000;background-color:#baddee>family </text><text style=color:#000;background-color:#baddee>seven </text><text style=color:#000;background-color:#c2e1f0>dead </text><text style=color:#000;background-color:#c2e1f0>sailor </text><text style=color:#000;background-color:#eff7fb>spicer </text><text style=color:#000;background-color:#eff7fb>defended </text><text style=color:#000;background-color:#eff7fb>ban </text><text style=color:#000;background-color:#f9e8e8>broadcasting </text><text style=color:#000;background-color:#f9e8e8>briefing </text><text style=color:#000;background-color:#f9e8e8>noting </text><text style=color:#000;background-color:#f9e8e8>president </text><text style=color:#000;background-color:#f9e8e8>donald </text><text style=color:#000;background-color:#eff7fb>trump </text><text style=color:#000;background-color:#eff7fb>already </text><text style=color:#000;background-color:#eff7fb>appeared </text><text style=color:#000;background-color:#eff7fb>camera </text><text style=color:#000;background-color:#f9e8e8>monday </text><text style=color:#000;background-color:#f9e8e8>several </text><text style=color:#000;background-color:#f9e8e8>minute </text><text style=color:#000;background-color:#f9e8e8>although </text><text style=color:#000;background-color:#f9e8e8>took </text><text style=color:#000;background-color:#eff7fb>question </text><text style=color:#000;background-color:#c2e1f0>spicer </text><text style=color:#000;background-color:#c2e1f0>also </text><text style=color:#000;background-color:#c2e1f0>said </text><text style=color:#000;background-color:#c2e1f0>president </text><text style=color:#000;background-color:#c2e1f0>confidence </text><text style=color:#000;background-color:#baddee>member </text><text style=color:#000;background-color:#baddee>justice </text><text style=color:#000;background-color:#baddee>department </text><text style=color:#000;background-color:#b2d9ec>including </text><text style=color:#000;background-color:#b2d9ec>special </text><text style=color:#000;background-color:#b2d9ec>counsel </text><text style=color:#000;background-color:#b2d9ec>robert </text><text style=color:#000;background-color:#b2d9ec>mueller </text><text style=color:#000;background-color:#b2d9ec>reportedly </text><text style=color:#000;background-color:#b2d9ec>investigating </text><text style=color:#000;background-color:#b2d9ec>president </text><text style=color:#000;background-color:#b2d9ec>obstruction </text><text style=color:#000;background-color:#b2d9ec>justice </text><text style=color:#000;background-color:#b2d9ec>also </text><text style=color:#000;background-color:#b2d9ec>insisted </text><text style=color:#000;background-color:#b2d9ec>trump </text><text style=color:#000;background-color:#b2d9ec>power </text><text style=color:#000;background-color:#b2d9ec>fire </text><text style=color:#000;background-color:#b2d9ec>mueller </text><text style=color:#000;background-color:#b2d9ec>necessary </text><text style=color:#000;background-color:#b2d9ec>serve </text><text style=color:#000;background-color:#b2d9ec>pleasure </text><text style=color:#000;background-color:#b2d9ec>president </text><text style=color:#000;background-color:#b2d9ec>serve </text><text style=color:#000;background-color:#b2d9ec>pleasure </text><text style=color:#000;background-color:#b2d9ec>president </text><text style=color:#000;background-color:#b2d9ec>said </text><text style=color:#000;background-color:#b2d9ec>fact </text><text style=color:#000;background-color:#b2d9ec>asked </text><text style=color:#000;background-color:#b2d9ec>several </text><text style=color:#000;background-color:#b2d9ec>reporter </text><text style=color:#000;background-color:#b2d9ec>clarify </text><text style=color:#000;background-color:#b2d9ec>full </text><text style=color:#000;background-color:#b2d9ec>extent </text><text style=color:#000;background-color:#b2d9ec>president </text><text style=color:#000;background-color:#b2d9ec>power </text><text style=color:#000;background-color:#baddee>word </text><text style=color:#000;background-color:#b2d9ec>limitation </text><text style=color:#000;background-color:#b2d9ec>exist </text><text style=color:#000;background-color:#b2d9ec>spicer </text><text style=color:#000;background-color:#b2d9ec>argued </text><text style=color:#000;background-color:#b2d9ec>constitution </text><text style=color:#000;background-color:#b2d9ec>clearly </text><text style=color:#000;background-color:#b2d9ec>state </text><text style=color:#000;background-color:#baddee>president </text><text style=color:#000;background-color:#baddee>united </text><text style=color:#000;background-color:#baddee>state </text><text style=color:#000;background-color:#baddee>cannot </text><text style=color:#000;background-color:#c2e1f0>however </text><text style=color:#000;background-color:#c2e1f0>added </text><text style=color:#000;background-color:#c2e1f0>one </text><text style=color:#000;background-color:#baddee>must </text><text style=color:#000;background-color:#baddee>also </text><text style=color:#000;background-color:#b2d9ec>recognize </text><text style=color:#000;background-color:#b2d9ec>fact </text><text style=color:#000;background-color:#b2d9ec>constitution </text><text style=color:#000;background-color:#b2d9ec>written </text><text style=color:#000;background-color:#b2d9ec>quite </text><text style=color:#000;background-color:#b2d9ec>ago </text><text style=color:#000;background-color:#b2d9ec>ideal </text><text style=color:#000;background-color:#b2d9ec>come </text><text style=color:#000;background-color:#b2d9ec>facing </text><text style=color:#000;background-color:#baddee>issue </text><text style=color:#000;background-color:#baddee>plague </text><text style=color:#000;background-color:#baddee>american </text><text style=color:#000;background-color:#baddee>society </text><text style=color:#000;background-color:#b2d9ec>nowadays </text><text style=color:#000;background-color:#b2d9ec>one </text><text style=color:#000;background-color:#b2d9ec>issue </text><text style=color:#000;background-color:#b2d9ec>also </text><text style=color:#000;background-color:#b2d9ec>limit </text><text style=color:#000;background-color:#b2d9ec>president </text><text style=color:#000;background-color:#b2d9ec>power </text><text style=color:#000;background-color:#b2d9ec>like </text><text style=color:#000;background-color:#b2d9ec>language </text><text style=color:#000;background-color:#b2d9ec>many </text><text style=color:#000;background-color:#b2d9ec>thing </text><text style=color:#000;background-color:#b2d9ec>typically </text><text style=color:#000;background-color:#b2d9ec>american </text><text style=color:#000;background-color:#b2d9ec>constitution </text><text style=color:#000;background-color:#b2d9ec>also </text><text style=color:#000;background-color:#b2d9ec>living </text><text style=color:#000;background-color:#b2d9ec>thing </text><text style=color:#000;background-color:#baddee>change </text><text style=color:#000;background-color:#baddee>evolves </text><text style=color:#000;background-color:#baddee>time </text><text style=color:#000;background-color:#baddee>go </text><text style=color:#000;background-color:#baddee>people </text><text style=color:#000;background-color:#baddee>america </text><text style=color:#000;background-color:#baddee>help </text><text style=color:#000;background-color:#baddee>however </text><text style=color:#000;background-color:#baddee>seeing </text><text style=color:#000;background-color:#baddee>people </text><text style=color:#000;background-color:#baddee>already </text><text style=color:#000;background-color:#baddee>enough </text><text style=color:#000;background-color:#baddee>plate </text><text style=color:#000;background-color:#c2e1f0>day </text><text style=color:#000;background-color:#c2e1f0>president </text><text style=color:#000;background-color:#c2e1f0>decided </text><text style=color:#000;background-color:#c2e1f0>bother </text><text style=color:#000;background-color:#c2e1f0>folk </text><text style=color:#000;background-color:#c2e1f0>boring </text><text style=color:#000;background-color:#c2e1f0>decision </text><text style=color:#000;background-color:#baddee>spicer </text><text style=color:#000;background-color:#baddee>continued </text><text style=color:#000;background-color:#baddee>result </text><text style=color:#000;background-color:#baddee>president </text><text style=color:#000;background-color:#baddee>country </text><text style=color:#000;background-color:#baddee>nowadays </text><text style=color:#000;background-color:#baddee>different </text><text style=color:#000;background-color:#baddee>legal </text><text style=color:#000;background-color:#baddee>executive </text><text style=color:#000;background-color:#baddee>ability </text><text style=color:#000;background-color:#c2e1f0>many </text><text style=color:#000;background-color:#c2e1f0>predecessor </text><text style=color:#000;background-color:#c2e1f0>especially </text><text style=color:#000;background-color:#c2e1f0>first </text><text style=color:#000;background-color:#eff7fb>one </text><text style=color:#000;background-color:#eff7fb>like </text><text style=color:#000;background-color:#eff7fb>george </text><text style=color:#000;background-color:#eff7fb>washington </text><text style=color:#000;background-color:#eff7fb>thomas </text><text style=color:#000;background-color:#c2e1f0>jefferson </text><text style=color:#000;background-color:#c2e1f0>matter </text><text style=color:#000;background-color:#c2e1f0>fact </text><text style=color:#000;background-color:#c2e1f0>order </text><text style=color:#000;background-color:#c2e1f0>able </text><text style=color:#000;background-color:#c2e1f0>deal </text><text style=color:#000;background-color:#c2e1f0>problem </text><text style=color:#000;background-color:#c2e1f0>today </text><text style=color:#000;background-color:#eff7fb>vary </text><text style=color:#000;background-color:#eff7fb>incredibly </text><text style=color:#000;background-color:#f9e8e8>compared </text><text style=color:#000;background-color:#f9e8e8>one </text><text style=color:#000;background-color:#f9e8e8>existed </text><text style=color:#000;background-color:#f9e8e8>constitution </text><text style=color:#000;background-color:#f9e8e8>written </text><text style=color:#000;background-color:#f9e8e8>donald </text><text style=color:#000;background-color:#f9e8e8>trump </text><text style=color:#000;background-color:#f9e8e8>incomparably </text><text style=color:#000;background-color:#f9e8e8>power </text><text style=color:#000;background-color:#f9e8e8>president </text><text style=color:#000;background-color:#f9e8e8>history </text><text style=color:#000;background-color:#eff7fb>country </text><text style=color:#000;background-color:#c2e1f0>word </text><text style=color:#000;background-color:#baddee>real </text><text style=color:#000;background-color:#baddee>need </text><text style=color:#000;background-color:#baddee>follow </text><text style=color:#000;background-color:#b2d9ec>aforementioned </text><text style=color:#000;background-color:#b2d9ec>serve </text><text style=color:#000;background-color:#b2d9ec>pleasure </text><text style=color:#000;background-color:#b2d9ec>president </text><text style=color:#000;background-color:#b2d9ec>serve </text><text style=color:#000;background-color:#b2d9ec>pleasure </text><text style=color:#000;background-color:#b2d9ec>president </text><text style=color:#000;background-color:#b2d9ec>rule </text><text style=color:#000;background-color:#b2d9ec>example </text><text style=color:#000;background-color:#b2d9ec>president </text><text style=color:#000;background-color:#b2d9ec>trump </text><text style=color:#000;background-color:#b2d9ec>power </text><text style=color:#000;background-color:#b2d9ec>fire </text><text style=color:#000;background-color:#b2d9ec>robert </text><text style=color:#000;background-color:#b2d9ec>mueller </text><text style=color:#000;background-color:#b2d9ec>also </text><text style=color:#000;background-color:#b2d9ec>legal </text><text style=color:#000;background-color:#baddee>ability </text><text style=color:#000;background-color:#baddee>right </text><text style=color:#000;background-color:#baddee>cancel </text><text style=color:#000;background-color:#baddee>disband </text><text style=color:#000;background-color:#baddee>supreme </text><text style=color:#000;background-color:#baddee>court </text><text style=color:#000;background-color:#baddee>united </text><text style=color:#000;background-color:#baddee>state </text><text style=color:#000;background-color:#b2d9ec>well </text><text style=color:#000;background-color:#b2d9ec>feel </text><text style=color:#000;background-color:#b2d9ec>need </text><text style=color:#000;background-color:#b2d9ec>one </text><text style=color:#000;background-color:#b2d9ec>could </text><text style=color:#000;background-color:#b2d9ec>argue </text><text style=color:#000;background-color:#b2d9ec>decision </text><text style=color:#000;background-color:#b2d9ec>something </text><text style=color:#000;background-color:#b2d9ec>necessary </text><text style=color:#000;background-color:#b2d9ec>order </text><text style=color:#000;background-color:#b2d9ec>cope </text><text style=color:#000;background-color:#b2d9ec>daily </text><text style=color:#000;background-color:#baddee>problem </text><text style=color:#000;background-color:#baddee>disaster </text><text style=color:#000;background-color:#baddee>territory </text><text style=color:#000;background-color:#baddee>living </text><text style=color:#000;background-color:#c2e1f0>technologically </text><text style=color:#000;background-color:#c2e1f0>advanced </text><text style=color:#000;background-color:#eff7fb>time </text><text style=color:#000;background-color:#f9e8e8>make </text><text style=color:#000;background-color:#f9e8e8>thing </text><text style=color:#000;background-color:#f9e8e8>perfectly </text><text style=color:#000;background-color:#f9e8e8>clear </text><text style=color:#000;background-color:#f9e8e8>something </text><text style=color:#000;background-color:#eff7fb>exclusive </text><text style=color:#000;background-color:#c2e1f0>donald </text><text style=color:#000;background-color:#baddee>trump </text><text style=color:#000;background-color:#b2d9ec>whoever </text><text style=color:#000;background-color:#b2d9ec>succeeds </text><text style=color:#000;background-color:#b2d9ec>president </text><text style=color:#000;background-color:#b2d9ec>also </text><text style=color:#000;background-color:#b2d9ec>slightly </text><text style=color:#000;background-color:#b2d9ec>higher </text><text style=color:#000;background-color:#b2d9ec>level </text><text style=color:#000;background-color:#b2d9ec>power </text><text style=color:#000;background-color:#b2d9ec>power </text><text style=color:#000;background-color:#baddee>linked </text><text style=color:#000;background-color:#baddee>position </text><text style=color:#000;background-color:#baddee>man </text><text style=color:#000;background-color:#baddee>position </text><text style=color:#000;background-color:#baddee>today </text><text style=color:#000;background-color:#baddee>requirement </text><text style=color:#000;background-color:#c2e1f0>much </text><text style=color:#000;background-color:#c2e1f0>logical </text><text style=color:#000;background-color:#c2e1f0>order </text><text style=color:#000;background-color:#eff7fb>event </text><text style=color:#000;background-color:#eff7fb>important </text><text style=color:#000;background-color:#eff7fb>evolve </text><text style=color:#000;background-color:#f9e8e8>time </text><text style=color:#000;background-color:#f9e8e8>stuck </text><text style=color:#000;background-color:#f9e8e8>past </text><text style=color:#000;background-color:#f9e8e8>everyone </text><text style=color:#000;background-color:#f9e8e8>else </text><text style=color:#000;background-color:#f9e8e8>go </text><text style=color:#000;background-color:#f9e8e8>past </text><text style=color:#000;background-color:#eff7fb>need </text><text style=color:#000;background-color:#eff7fb>retain </text><text style=color:#000;background-color:#c2e1f0>proactively </text><text style=color:#000;background-color:#baddee>flexible </text><text style=color:#000;background-color:#baddee>approach </text><text style=color:#000;background-color:#baddee>life </text><text style=color:#000;background-color:#baddee>trademark </text><text style=color:#000;background-color:#b2d9ec>long </text><text style=color:#000;background-color:#b2d9ec>go </text><text style=color:#000;background-color:#b2d9ec>especially </text><text style=color:#000;background-color:#baddee>interpreting </text><text style=color:#000;background-color:#baddee>constitution </text><text style=color:#000;background-color:#baddee>united </text><text style=color:#000;background-color:#baddee>state </text><text style=color:#000;background-color:#c2e1f0>spicer </text><text style=color:#000;background-color:#c2e1f0>concluded </text><text style=color:#000;background-color:#eff7fb>politicops </text><text style=color:#000;background-color:#f9e8e8>com </text><text style=color:#000;background-color:#f9e8e8>comment </text><text style=color:#000;background-color:#f9e8e8>comment </text>"
            ],
            "text/plain": [
              "<IPython.core.display.HTML object>"
            ]
          },
          "metadata": {
            "tags": []
          }
        },
        {
          "output_type": "stream",
          "text": [
            "None\n",
            "\n",
            "Cell Number: 105 \n",
            "\n"
          ],
          "name": "stdout"
        },
        {
          "output_type": "display_data",
          "data": {
            "text/html": [
              "<text style=color:#000;background-color:#f9bdbd>trump </text><text style=color:#000;background-color:#f9bdbd>legal </text><text style=color:#000;background-color:#f9bdbd>right </text><text style=color:#000;background-color:#f9bdbd>cancel </text><text style=color:#000;background-color:#f8a8a8>scotus </text><text style=color:#000;background-color:#f8a8a8>serve </text><text style=color:#000;background-color:#f8a8a8>pleasure </text><text style=color:#000;background-color:#f8a8a8>endoftitle </text><text style=color:#000;background-color:#f8a8a8>monday </text><text style=color:#000;background-color:#f68f8f>press </text><text style=color:#000;background-color:#f68f8f>conference </text><text style=color:#000;background-color:#f68f8f>medium </text><text style=color:#000;background-color:#f68f8f>outlet </text><text style=color:#000;background-color:#f68f8f>banned </text><text style=color:#000;background-color:#f68f8f>airing </text><text style=color:#000;background-color:#f68f8f>white </text><text style=color:#000;background-color:#f68f8f>house </text><text style=color:#000;background-color:#f68f8f>press </text><text style=color:#000;background-color:#f68f8f>secretary </text><text style=color:#000;background-color:#f68f8f>sean </text><text style=color:#000;background-color:#f68f8f>spicer </text><text style=color:#000;background-color:#f68f8f>announced </text><text style=color:#000;background-color:#f68f8f>president </text><text style=color:#000;background-color:#f68f8f>sending </text><text style=color:#000;background-color:#f68f8f>thought </text><text style=color:#000;background-color:#f68f8f>prayer </text><text style=color:#000;background-color:#f68f8f>victim </text><text style=color:#000;background-color:#f68f8f>alleged </text><text style=color:#000;background-color:#f68f8f>terrorist </text><text style=color:#000;background-color:#f68f8f>attack </text><text style=color:#000;background-color:#f68f8f>london </text><text style=color:#000;background-color:#f8a8a8>family </text><text style=color:#000;background-color:#f8a8a8>seven </text><text style=color:#000;background-color:#f8a8a8>dead </text><text style=color:#000;background-color:#f9bdbd>sailor </text><text style=color:#000;background-color:#f9bdbd>spicer </text><text style=color:#000;background-color:#f9d4d4>defended </text><text style=color:#000;background-color:#f9d4d4>ban </text><text style=color:#000;background-color:#f9e8e8>broadcasting </text><text style=color:#000;background-color:#f9e8e8>briefing </text><text style=color:#000;background-color:#f9e8e8>noting </text><text style=color:#000;background-color:#f9d4d4>president </text><text style=color:#000;background-color:#f9d4d4>donald </text><text style=color:#000;background-color:#f9d4d4>trump </text><text style=color:#000;background-color:#f9bdbd>already </text><text style=color:#000;background-color:#f9bdbd>appeared </text><text style=color:#000;background-color:#f9bdbd>camera </text><text style=color:#000;background-color:#f9bdbd>monday </text><text style=color:#000;background-color:#f9d4d4>several </text><text style=color:#000;background-color:#f9d4d4>minute </text><text style=color:#000;background-color:#f9d4d4>although </text><text style=color:#000;background-color:#f9d4d4>took </text><text style=color:#000;background-color:#f9bdbd>question </text><text style=color:#000;background-color:#f9bdbd>spicer </text><text style=color:#000;background-color:#f9bdbd>also </text><text style=color:#000;background-color:#f9bdbd>said </text><text style=color:#000;background-color:#f8a8a8>president </text><text style=color:#000;background-color:#f9bdbd>confidence </text><text style=color:#000;background-color:#f8a8a8>member </text><text style=color:#000;background-color:#f8a8a8>justice </text><text style=color:#000;background-color:#f8a8a8>department </text><text style=color:#000;background-color:#f8a8a8>including </text><text style=color:#000;background-color:#f68f8f>special </text><text style=color:#000;background-color:#f68f8f>counsel </text><text style=color:#000;background-color:#f68f8f>robert </text><text style=color:#000;background-color:#f68f8f>mueller </text><text style=color:#000;background-color:#f68f8f>reportedly </text><text style=color:#000;background-color:#f68f8f>investigating </text><text style=color:#000;background-color:#f68f8f>president </text><text style=color:#000;background-color:#f8a8a8>obstruction </text><text style=color:#000;background-color:#f8a8a8>justice </text><text style=color:#000;background-color:#f8a8a8>also </text><text style=color:#000;background-color:#f68f8f>insisted </text><text style=color:#000;background-color:#f68f8f>trump </text><text style=color:#000;background-color:#f68f8f>power </text><text style=color:#000;background-color:#f68f8f>fire </text><text style=color:#000;background-color:#f68f8f>mueller </text><text style=color:#000;background-color:#f68f8f>necessary </text><text style=color:#000;background-color:#f68f8f>serve </text><text style=color:#000;background-color:#f68f8f>pleasure </text><text style=color:#000;background-color:#f68f8f>president </text><text style=color:#000;background-color:#f68f8f>serve </text><text style=color:#000;background-color:#f68f8f>pleasure </text><text style=color:#000;background-color:#f68f8f>president </text><text style=color:#000;background-color:#f68f8f>said </text><text style=color:#000;background-color:#f68f8f>fact </text><text style=color:#000;background-color:#f68f8f>asked </text><text style=color:#000;background-color:#f68f8f>several </text><text style=color:#000;background-color:#f68f8f>reporter </text><text style=color:#000;background-color:#f68f8f>clarify </text><text style=color:#000;background-color:#f68f8f>full </text><text style=color:#000;background-color:#f68f8f>extent </text><text style=color:#000;background-color:#f68f8f>president </text><text style=color:#000;background-color:#f8a8a8>power </text><text style=color:#000;background-color:#f8a8a8>word </text><text style=color:#000;background-color:#f8a8a8>limitation </text><text style=color:#000;background-color:#f68f8f>exist </text><text style=color:#000;background-color:#f68f8f>spicer </text><text style=color:#000;background-color:#f68f8f>argued </text><text style=color:#000;background-color:#f68f8f>constitution </text><text style=color:#000;background-color:#f68f8f>clearly </text><text style=color:#000;background-color:#f68f8f>state </text><text style=color:#000;background-color:#f68f8f>president </text><text style=color:#000;background-color:#f8a8a8>united </text><text style=color:#000;background-color:#f8a8a8>state </text><text style=color:#000;background-color:#f8a8a8>cannot </text><text style=color:#000;background-color:#f9bdbd>however </text><text style=color:#000;background-color:#f9bdbd>added </text><text style=color:#000;background-color:#f9bdbd>one </text><text style=color:#000;background-color:#f9bdbd>must </text><text style=color:#000;background-color:#f8a8a8>also </text><text style=color:#000;background-color:#f8a8a8>recognize </text><text style=color:#000;background-color:#f68f8f>fact </text><text style=color:#000;background-color:#f68f8f>constitution </text><text style=color:#000;background-color:#f68f8f>written </text><text style=color:#000;background-color:#f68f8f>quite </text><text style=color:#000;background-color:#f68f8f>ago </text><text style=color:#000;background-color:#f68f8f>ideal </text><text style=color:#000;background-color:#f8a8a8>come </text><text style=color:#000;background-color:#f8a8a8>facing </text><text style=color:#000;background-color:#f8a8a8>issue </text><text style=color:#000;background-color:#f8a8a8>plague </text><text style=color:#000;background-color:#f8a8a8>american </text><text style=color:#000;background-color:#f8a8a8>society </text><text style=color:#000;background-color:#f8a8a8>nowadays </text><text style=color:#000;background-color:#f8a8a8>one </text><text style=color:#000;background-color:#f68f8f>issue </text><text style=color:#000;background-color:#f68f8f>also </text><text style=color:#000;background-color:#f68f8f>limit </text><text style=color:#000;background-color:#f68f8f>president </text><text style=color:#000;background-color:#f68f8f>power </text><text style=color:#000;background-color:#f68f8f>like </text><text style=color:#000;background-color:#f68f8f>language </text><text style=color:#000;background-color:#f68f8f>many </text><text style=color:#000;background-color:#f68f8f>thing </text><text style=color:#000;background-color:#f68f8f>typically </text><text style=color:#000;background-color:#f68f8f>american </text><text style=color:#000;background-color:#f68f8f>constitution </text><text style=color:#000;background-color:#f68f8f>also </text><text style=color:#000;background-color:#f68f8f>living </text><text style=color:#000;background-color:#f68f8f>thing </text><text style=color:#000;background-color:#f68f8f>change </text><text style=color:#000;background-color:#f8a8a8>evolves </text><text style=color:#000;background-color:#f8a8a8>time </text><text style=color:#000;background-color:#f8a8a8>go </text><text style=color:#000;background-color:#f8a8a8>people </text><text style=color:#000;background-color:#f8a8a8>america </text><text style=color:#000;background-color:#f8a8a8>help </text><text style=color:#000;background-color:#f8a8a8>however </text><text style=color:#000;background-color:#f8a8a8>seeing </text><text style=color:#000;background-color:#f8a8a8>people </text><text style=color:#000;background-color:#f8a8a8>already </text><text style=color:#000;background-color:#f8a8a8>enough </text><text style=color:#000;background-color:#f8a8a8>plate </text><text style=color:#000;background-color:#f8a8a8>day </text><text style=color:#000;background-color:#f8a8a8>president </text><text style=color:#000;background-color:#f9bdbd>decided </text><text style=color:#000;background-color:#f9bdbd>bother </text><text style=color:#000;background-color:#f9bdbd>folk </text><text style=color:#000;background-color:#f9bdbd>boring </text><text style=color:#000;background-color:#f9bdbd>decision </text><text style=color:#000;background-color:#f8a8a8>spicer </text><text style=color:#000;background-color:#f8a8a8>continued </text><text style=color:#000;background-color:#f8a8a8>result </text><text style=color:#000;background-color:#f68f8f>president </text><text style=color:#000;background-color:#f8a8a8>country </text><text style=color:#000;background-color:#f68f8f>nowadays </text><text style=color:#000;background-color:#f68f8f>different </text><text style=color:#000;background-color:#f68f8f>legal </text><text style=color:#000;background-color:#f8a8a8>executive </text><text style=color:#000;background-color:#f8a8a8>ability </text><text style=color:#000;background-color:#f8a8a8>many </text><text style=color:#000;background-color:#f8a8a8>predecessor </text><text style=color:#000;background-color:#f8a8a8>especially </text><text style=color:#000;background-color:#f9bdbd>first </text><text style=color:#000;background-color:#f9bdbd>one </text><text style=color:#000;background-color:#f9bdbd>like </text><text style=color:#000;background-color:#f9bdbd>george </text><text style=color:#000;background-color:#f9bdbd>washington </text><text style=color:#000;background-color:#f9bdbd>thomas </text><text style=color:#000;background-color:#f9bdbd>jefferson </text><text style=color:#000;background-color:#f9bdbd>matter </text><text style=color:#000;background-color:#f9bdbd>fact </text><text style=color:#000;background-color:#f9bdbd>order </text><text style=color:#000;background-color:#f9bdbd>able </text><text style=color:#000;background-color:#f9bdbd>deal </text><text style=color:#000;background-color:#f9bdbd>problem </text><text style=color:#000;background-color:#f9bdbd>today </text><text style=color:#000;background-color:#f9bdbd>vary </text><text style=color:#000;background-color:#f9d4d4>incredibly </text><text style=color:#000;background-color:#f9d4d4>compared </text><text style=color:#000;background-color:#f9e8e8>one </text><text style=color:#000;background-color:#f9e8e8>existed </text><text style=color:#000;background-color:#f9e8e8>constitution </text><text style=color:#000;background-color:#f9e8e8>written </text><text style=color:#000;background-color:#f9e8e8>donald </text><text style=color:#000;background-color:#f9e8e8>trump </text><text style=color:#000;background-color:#f9d4d4>incomparably </text><text style=color:#000;background-color:#f9d4d4>power </text><text style=color:#000;background-color:#f9d4d4>president </text><text style=color:#000;background-color:#f9d4d4>history </text><text style=color:#000;background-color:#f9d4d4>country </text><text style=color:#000;background-color:#f9bdbd>word </text><text style=color:#000;background-color:#f9bdbd>real </text><text style=color:#000;background-color:#f8a8a8>need </text><text style=color:#000;background-color:#f8a8a8>follow </text><text style=color:#000;background-color:#f8a8a8>aforementioned </text><text style=color:#000;background-color:#f68f8f>serve </text><text style=color:#000;background-color:#f68f8f>pleasure </text><text style=color:#000;background-color:#f68f8f>president </text><text style=color:#000;background-color:#f68f8f>serve </text><text style=color:#000;background-color:#f68f8f>pleasure </text><text style=color:#000;background-color:#f68f8f>president </text><text style=color:#000;background-color:#f68f8f>rule </text><text style=color:#000;background-color:#f8a8a8>example </text><text style=color:#000;background-color:#f8a8a8>president </text><text style=color:#000;background-color:#f8a8a8>trump </text><text style=color:#000;background-color:#f8a8a8>power </text><text style=color:#000;background-color:#f8a8a8>fire </text><text style=color:#000;background-color:#f68f8f>robert </text><text style=color:#000;background-color:#f68f8f>mueller </text><text style=color:#000;background-color:#f8a8a8>also </text><text style=color:#000;background-color:#f8a8a8>legal </text><text style=color:#000;background-color:#f8a8a8>ability </text><text style=color:#000;background-color:#f8a8a8>right </text><text style=color:#000;background-color:#f8a8a8>cancel </text><text style=color:#000;background-color:#f8a8a8>disband </text><text style=color:#000;background-color:#f8a8a8>supreme </text><text style=color:#000;background-color:#f8a8a8>court </text><text style=color:#000;background-color:#f8a8a8>united </text><text style=color:#000;background-color:#f8a8a8>state </text><text style=color:#000;background-color:#f8a8a8>well </text><text style=color:#000;background-color:#f8a8a8>feel </text><text style=color:#000;background-color:#f8a8a8>need </text><text style=color:#000;background-color:#f8a8a8>one </text><text style=color:#000;background-color:#f8a8a8>could </text><text style=color:#000;background-color:#f68f8f>argue </text><text style=color:#000;background-color:#f68f8f>decision </text><text style=color:#000;background-color:#f68f8f>something </text><text style=color:#000;background-color:#f68f8f>necessary </text><text style=color:#000;background-color:#f68f8f>order </text><text style=color:#000;background-color:#f68f8f>cope </text><text style=color:#000;background-color:#f68f8f>daily </text><text style=color:#000;background-color:#f68f8f>problem </text><text style=color:#000;background-color:#f68f8f>disaster </text><text style=color:#000;background-color:#f8a8a8>territory </text><text style=color:#000;background-color:#f8a8a8>living </text><text style=color:#000;background-color:#f8a8a8>technologically </text><text style=color:#000;background-color:#f9bdbd>advanced </text><text style=color:#000;background-color:#f9d4d4>time </text><text style=color:#000;background-color:#f9d4d4>make </text><text style=color:#000;background-color:#f9e8e8>thing </text><text style=color:#000;background-color:#f9e8e8>perfectly </text><text style=color:#000;background-color:#f9e8e8>clear </text><text style=color:#000;background-color:#f9d4d4>something </text><text style=color:#000;background-color:#f9d4d4>exclusive </text><text style=color:#000;background-color:#f9bdbd>donald </text><text style=color:#000;background-color:#f8a8a8>trump </text><text style=color:#000;background-color:#f8a8a8>whoever </text><text style=color:#000;background-color:#f68f8f>succeeds </text><text style=color:#000;background-color:#f68f8f>president </text><text style=color:#000;background-color:#f68f8f>also </text><text style=color:#000;background-color:#f68f8f>slightly </text><text style=color:#000;background-color:#f68f8f>higher </text><text style=color:#000;background-color:#f68f8f>level </text><text style=color:#000;background-color:#f68f8f>power </text><text style=color:#000;background-color:#f68f8f>power </text><text style=color:#000;background-color:#f68f8f>linked </text><text style=color:#000;background-color:#f68f8f>position </text><text style=color:#000;background-color:#f8a8a8>man </text><text style=color:#000;background-color:#f8a8a8>position </text><text style=color:#000;background-color:#f8a8a8>today </text><text style=color:#000;background-color:#f8a8a8>requirement </text><text style=color:#000;background-color:#f8a8a8>much </text><text style=color:#000;background-color:#f9bdbd>logical </text><text style=color:#000;background-color:#f9bdbd>order </text><text style=color:#000;background-color:#f9bdbd>event </text><text style=color:#000;background-color:#f9d4d4>important </text><text style=color:#000;background-color:#f9d4d4>evolve </text><text style=color:#000;background-color:#f9d4d4>time </text><text style=color:#000;background-color:#f9d4d4>stuck </text><text style=color:#000;background-color:#f9d4d4>past </text><text style=color:#000;background-color:#f9d4d4>everyone </text><text style=color:#000;background-color:#f9bdbd>else </text><text style=color:#000;background-color:#f9d4d4>go </text><text style=color:#000;background-color:#f9d4d4>past </text><text style=color:#000;background-color:#f9bdbd>need </text><text style=color:#000;background-color:#f9bdbd>retain </text><text style=color:#000;background-color:#f9bdbd>proactively </text><text style=color:#000;background-color:#f8a8a8>flexible </text><text style=color:#000;background-color:#f8a8a8>approach </text><text style=color:#000;background-color:#f8a8a8>life </text><text style=color:#000;background-color:#f8a8a8>trademark </text><text style=color:#000;background-color:#f68f8f>long </text><text style=color:#000;background-color:#f68f8f>go </text><text style=color:#000;background-color:#f68f8f>especially </text><text style=color:#000;background-color:#f68f8f>interpreting </text><text style=color:#000;background-color:#f68f8f>constitution </text><text style=color:#000;background-color:#f8a8a8>united </text><text style=color:#000;background-color:#f8a8a8>state </text><text style=color:#000;background-color:#f8a8a8>spicer </text><text style=color:#000;background-color:#f9bdbd>concluded </text><text style=color:#000;background-color:#f9d4d4>politicops </text><text style=color:#000;background-color:#f9d4d4>com </text><text style=color:#000;background-color:#f9e8e8>comment </text><text style=color:#000;background-color:#f9e8e8>comment </text>"
            ],
            "text/plain": [
              "<IPython.core.display.HTML object>"
            ]
          },
          "metadata": {
            "tags": []
          }
        },
        {
          "output_type": "stream",
          "text": [
            "None\n"
          ],
          "name": "stdout"
        }
      ]
    },
    {
      "cell_type": "markdown",
      "metadata": {
        "id": "fKHmdNETUCYX",
        "colab_type": "text"
      },
      "source": [
        "#### 4.3 Result Plot"
      ]
    },
    {
      "cell_type": "code",
      "metadata": {
        "id": "9xPESyCy8L7V",
        "colab_type": "code",
        "outputId": "844e25c7-4de8-44ad-dab4-8b1d4c2b2836",
        "colab": {
          "base_uri": "https://localhost:8080/",
          "height": 573
        }
      },
      "source": [
        "import matplotlib.pyplot as plt\n",
        "\n",
        "# summarize history for loss\n",
        "plt.plot(train_losses)\n",
        "plt.plot(test_losses)\n",
        "plt.title('GRU loss on BuzzFeed')\n",
        "plt.ylabel('Loss')\n",
        "plt.xlabel('Epoch')\n",
        "plt.legend(['training loss', 'test loss'], loc = 'upper left')\n",
        "plt.show()\n",
        "\n",
        "# summarize history for accuracy\n",
        "plt.plot(train_acces)\n",
        "plt.plot(test_acces)\n",
        "plt.title('GRU accuracy on BuzzFeed')\n",
        "plt.ylabel('Accuracy')\n",
        "plt.xlabel('Epoch')\n",
        "plt.legend(['training accuracy', 'test accuracy'], loc = 'lower right')\n",
        "plt.show()"
      ],
      "execution_count": 40,
      "outputs": [
        {
          "output_type": "display_data",
          "data": {
            "image/png": "[encoded data removed]",
            "text/plain": [
              "<Figure size 432x288 with 1 Axes>"
            ]
          },
          "metadata": {
            "tags": [],
            "needs_background": "light"
          }
        },
        {
          "output_type": "display_data",
          "data": {
            "image/png": "[encoded data removed]",
            "text/plain": [
              "<Figure size 432x288 with 1 Axes>"
            ]
          },
          "metadata": {
            "tags": [],
            "needs_background": "light"
          }
        }
      ]
    }
  ]
}